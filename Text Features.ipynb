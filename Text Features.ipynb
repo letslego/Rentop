{
 "cells": [
  {
   "cell_type": "markdown",
   "metadata": {
    "_active": false,
    "_cell_guid": "ca50d942-809f-21d9-aa30-7f4eb60999b3",
    "collapsed": false
   },
   "source": [
    "# Text Features"
   ]
  },
  {
   "cell_type": "code",
   "execution_count": 84,
   "metadata": {
    "_active": false,
    "_cell_guid": "cca36417-3de2-c57d-8616-10a6f0e65574",
    "collapsed": false
   },
   "outputs": [],
   "source": [
    "# General libraries.\n",
    "import re\n",
    "import numpy as np\n",
    "import pandas as pd\n",
    "#import matplotlib.pyplot as plt\n",
    "\n",
    "\n",
    "# SK-learn libraries for learning.\n",
    "from sklearn.pipeline import Pipeline\n",
    "from sklearn.neighbors import KNeighborsClassifier\n",
    "from sklearn.linear_model import LogisticRegression\n",
    "from sklearn.naive_bayes import BernoulliNB\n",
    "from sklearn.naive_bayes import MultinomialNB\n",
    "#from sklearn.grid_search import GridSearchCV\n",
    "\n",
    "# SK-learn libraries for evaluation.\n",
    "from sklearn.metrics import confusion_matrix\n",
    "from sklearn import metrics\n",
    "from sklearn.metrics import classification_report\n",
    "\n",
    "# SK-learn libraries for feature extraction from text.\n",
    "from sklearn.feature_extraction.text import *"
   ]
  },
  {
   "cell_type": "code",
   "execution_count": 85,
   "metadata": {
    "_active": false,
    "_cell_guid": "e98c7c95-b212-5060-ca03-d067e387fab8",
    "collapsed": false
   },
   "outputs": [],
   "source": [
    "train_df = pd.read_json(\"../input/train.json\")\n",
    "test_df = pd.read_json(\"../input/test.json\")"
   ]
  },
  {
   "cell_type": "code",
   "execution_count": 86,
   "metadata": {
    "collapsed": false
   },
   "outputs": [
    {
     "data": {
      "text/html": [
       "<div>\n",
       "<table border=\"1\" class=\"dataframe\">\n",
       "  <thead>\n",
       "    <tr style=\"text-align: right;\">\n",
       "      <th></th>\n",
       "      <th>bathrooms</th>\n",
       "      <th>bedrooms</th>\n",
       "      <th>building_id</th>\n",
       "      <th>created</th>\n",
       "      <th>description</th>\n",
       "      <th>display_address</th>\n",
       "      <th>features</th>\n",
       "      <th>latitude</th>\n",
       "      <th>listing_id</th>\n",
       "      <th>longitude</th>\n",
       "      <th>manager_id</th>\n",
       "      <th>photos</th>\n",
       "      <th>price</th>\n",
       "      <th>street_address</th>\n",
       "    </tr>\n",
       "  </thead>\n",
       "  <tbody>\n",
       "    <tr>\n",
       "      <th>93524</th>\n",
       "      <td>1.0</td>\n",
       "      <td>2</td>\n",
       "      <td>a01c99eb2cfdde327e1691e17d6696ba</td>\n",
       "      <td>2016-04-28 05:42:04</td>\n",
       "      <td>29TH! PRIME KIPS BAY, HIGH FLOOR, LARGE FLEX 2 BEDROOM IN LUX DM BLG WITH A TERRACE AND VIEWSMidrise postwar building stands 17 stories and features a 24-hour doorman, garden, laundry room, valet services and a rooftop deck. Located in the heart of Kips Bay, there is the convenience of being close to all the supermarkets, bars, restaurants, movie theaters, nightlife, transportation and more. As you enter this large FLEX 2 apartment, the living room has two exposures (North and West) which allow for tons of sunlight to come in to the apartment all throughout the day. The thermopane windows help control the flow of hot/cold air coming in to the apartment. In addition, the bedroom is able to accommodate a king-size bed and you have access to a small terrace. The pass through kitchen is clean and modern with an electric stove, dishwasher, microwave and granite counter tops. The bathroom have also been renovated with Kohler fixtures and ceramic tile floors. *low fee&lt;br /&gt;&lt;br /&gt;To view f...</td>\n",
       "      <td>East 29th Street</td>\n",
       "      <td>[Roof Deck, Doorman, Elevator, Laundry in Building, Laundry in Unit, Dishwasher, Hardwood Floors, No Fee]</td>\n",
       "      <td>40.7412</td>\n",
       "      <td>6937971</td>\n",
       "      <td>-73.9772</td>\n",
       "      <td>2a1ee03b449700c3a15dd8c9a505c525</td>\n",
       "      <td>[https://photos.renthop.com/2/6937971_4419d62ee3384c96c8b0eabc35abef12.jpg, https://photos.renthop.com/2/6937971_cede41e1d04b9d99e230b3de5db4fe79.jpg, https://photos.renthop.com/2/6937971_f7f0b0cbfbfdf2dd6e0ddc1f1e85e982.jpg, https://photos.renthop.com/2/6937971_15fff0709c54359f5b312ee651488473.jpg, https://photos.renthop.com/2/6937971_7e9df16bff58b396c57a29f47049838b.jpg, https://photos.renthop.com/2/6937971_9c18ff5064d4027dba9500b673057373.jpg, https://photos.renthop.com/2/6937971_23103deb56fe5494393494f41160608d.jpg]</td>\n",
       "      <td>2850</td>\n",
       "      <td>340 East 29th Street</td>\n",
       "    </tr>\n",
       "    <tr>\n",
       "      <th>116815</th>\n",
       "      <td>2.0</td>\n",
       "      <td>3</td>\n",
       "      <td>0</td>\n",
       "      <td>2016-04-06 01:34:28</td>\n",
       "      <td>Very large 3-bedroom apartment in an elevator building. Three blocks from the 1/A/C trains and four to Columbia Presbyterian Hospital and Columbia College of Physicians and Surgeons.</td>\n",
       "      <td>West 171st Street</td>\n",
       "      <td>[Dogs Allowed, Cats Allowed]</td>\n",
       "      <td>40.8433</td>\n",
       "      <td>6828255</td>\n",
       "      <td>-73.9397</td>\n",
       "      <td>1b431b2ef64b0b5ca12dfdf471770e93</td>\n",
       "      <td>[]</td>\n",
       "      <td>2800</td>\n",
       "      <td>620 West 171st Street</td>\n",
       "    </tr>\n",
       "    <tr>\n",
       "      <th>3545</th>\n",
       "      <td>1.0</td>\n",
       "      <td>2</td>\n",
       "      <td>a1e5cd46adc406e4abb33a74042e9b37</td>\n",
       "      <td>2016-06-11 03:52:07</td>\n",
       "      <td>2BR</td>\n",
       "      <td>111 Mott St</td>\n",
       "      <td>[No Fee, Cats Allowed]</td>\n",
       "      <td>40.7176</td>\n",
       "      <td>7140748</td>\n",
       "      <td>-73.9975</td>\n",
       "      <td>0b4c2bdea168a99e824ae44dbac348f5</td>\n",
       "      <td>[https://photos.renthop.com/2/7140748_65f66bc0c021de6ec97085269160c0e8.jpg]</td>\n",
       "      <td>2750</td>\n",
       "      <td>111 MOTT ST</td>\n",
       "    </tr>\n",
       "    <tr>\n",
       "      <th>52853</th>\n",
       "      <td>1.0</td>\n",
       "      <td>1</td>\n",
       "      <td>0</td>\n",
       "      <td>2016-05-29 01:12:35</td>\n",
       "      <td>Beautiful walk-up building 6th Floor aptEast 65th Street just off of First AveQuiet tree lined blockAmazing apartment features a nice living roomOpen kitchenDishwasher!Microwave!Bedroom fits a FULL bedCharming bathroomGorgeous hardwood floorsBeaming natural lightPerfect share apartment Steps to F train at 63rd and Lexington or6 train at 68th St and Lexington.M66 Crosstown bus 67th and York.</td>\n",
       "      <td>East 65th Street</td>\n",
       "      <td>[Pre-War]</td>\n",
       "      <td>40.7630</td>\n",
       "      <td>7080836</td>\n",
       "      <td>-73.9577</td>\n",
       "      <td>d24abc331d8b47f73a369795690c010a</td>\n",
       "      <td>[https://photos.renthop.com/2/7080836_42011311a073bb9e7e7483b8e3374414.jpg, https://photos.renthop.com/2/7080836_fcd3bbf5566ee212156c7804575919ee.jpg, https://photos.renthop.com/2/7080836_8977d2439fbf11b52d263c2b473dcdb9.jpg, https://photos.renthop.com/2/7080836_b76aefe26884170b44bbc9f41921ce00.jpg, https://photos.renthop.com/2/7080836_358121bcc2a77ae26f08bbfa9928e090.jpg, https://photos.renthop.com/2/7080836_c7046e311aa96599fa3a9d44f1041d5a.jpg]</td>\n",
       "      <td>1995</td>\n",
       "      <td>429 East 65th Street</td>\n",
       "    </tr>\n",
       "    <tr>\n",
       "      <th>20234</th>\n",
       "      <td>1.0</td>\n",
       "      <td>3</td>\n",
       "      <td>f2ba3c3a3c29443417d42d4816911c75</td>\n",
       "      <td>2016-06-01 06:15:40</td>\n",
       "      <td>This fantastic newly renovated convertible 3 bedroom apartment has tons of space and natural light. Kitchen offers black granite counter tops and all stainless steel appliances. Marble tile bath with brand new shower.&lt;br /&gt;&lt;br /&gt;Luxury building located in Midtown East, near Grand Central Station offers its residents amenities such as a doorman, an on-site spa, a laundry room, and beautiful apartments renovated with modern and high-end finishes. This pet-friendly building is the commuter's ideal location and environment to live in.&lt;br /&gt;&lt;br /&gt;FOR FURTHER INFORMATION AND VIEWING CONTACT MEYER OVADIA AT 753-396-6626 OR VIA EMAIL AT kagglemanager@renthop.com NOT WHAT YOU ARE LOOKING FOR? FEEL FREE TO CONTACT ME WITH ANY SPECIAL REQUESTS. I'LL BE MORE THAN HAPPY TO FURTHER ASSIST YOU IN YOUR SEARCH&lt;br /&gt;&lt;br /&gt;&lt;p&gt;&lt;a  website_redacted</td>\n",
       "      <td>East 52nd Street</td>\n",
       "      <td>[Doorman, Elevator, Dishwasher, No Fee]</td>\n",
       "      <td>40.7556</td>\n",
       "      <td>7093806</td>\n",
       "      <td>-73.9668</td>\n",
       "      <td>537e06890f6a86dbb70c187db5be4d55</td>\n",
       "      <td>[https://photos.renthop.com/2/7093806_780c6ef80f2e17b9c65d015173f0be4b.jpg, https://photos.renthop.com/2/7093806_4691684e21c99b1a3b7bddef8f9d396e.jpg, https://photos.renthop.com/2/7093806_e9246754ebfd188d801c20047a9ac9bb.jpg, https://photos.renthop.com/2/7093806_600c7569b4ffdde9397f2a12a016b6c2.jpg, https://photos.renthop.com/2/7093806_2e7157a24d4c0fb1bbef18781f3646f5.jpg, https://photos.renthop.com/2/7093806_6f39e0e22355e63e93d6fc74efb0d407.jpg]</td>\n",
       "      <td>4495</td>\n",
       "      <td>320 East 52nd Street</td>\n",
       "    </tr>\n",
       "  </tbody>\n",
       "</table>\n",
       "</div>"
      ],
      "text/plain": [
       "        bathrooms  bedrooms                       building_id  \\\n",
       "93524         1.0         2  a01c99eb2cfdde327e1691e17d6696ba   \n",
       "116815        2.0         3                                 0   \n",
       "3545          1.0         2  a1e5cd46adc406e4abb33a74042e9b37   \n",
       "52853         1.0         1                                 0   \n",
       "20234         1.0         3  f2ba3c3a3c29443417d42d4816911c75   \n",
       "\n",
       "                    created  \\\n",
       "93524   2016-04-28 05:42:04   \n",
       "116815  2016-04-06 01:34:28   \n",
       "3545    2016-06-11 03:52:07   \n",
       "52853   2016-05-29 01:12:35   \n",
       "20234   2016-06-01 06:15:40   \n",
       "\n",
       "                                                                                                                                                                                                                                                                                                                                                                                                                                                                                                                                                                                                                                                                                                                                                                                                                                                                                                                                                                                                                                    description  \\\n",
       "93524   29TH! PRIME KIPS BAY, HIGH FLOOR, LARGE FLEX 2 BEDROOM IN LUX DM BLG WITH A TERRACE AND VIEWSMidrise postwar building stands 17 stories and features a 24-hour doorman, garden, laundry room, valet services and a rooftop deck. Located in the heart of Kips Bay, there is the convenience of being close to all the supermarkets, bars, restaurants, movie theaters, nightlife, transportation and more. As you enter this large FLEX 2 apartment, the living room has two exposures (North and West) which allow for tons of sunlight to come in to the apartment all throughout the day. The thermopane windows help control the flow of hot/cold air coming in to the apartment. In addition, the bedroom is able to accommodate a king-size bed and you have access to a small terrace. The pass through kitchen is clean and modern with an electric stove, dishwasher, microwave and granite counter tops. The bathroom have also been renovated with Kohler fixtures and ceramic tile floors. *low fee<br /><br />To view f...   \n",
       "116815                                                                                                                                                                                                                                                                                                                                                                                                                                                                                                                                                                                                                                                                                                                                                                                                                                                  Very large 3-bedroom apartment in an elevator building. Three blocks from the 1/A/C trains and four to Columbia Presbyterian Hospital and Columbia College of Physicians and Surgeons.    \n",
       "3545                                                                                                                                                                                                                                                                                                                                                                                                                                                                                                                                                                                                                                                                                                                                                                                                                                                                                                                                                                                                                                        2BR   \n",
       "52853                                                                                                                                                                                                                                                                                                                                                                                                                                                                                                                                                                                                                                Beautiful walk-up building 6th Floor aptEast 65th Street just off of First AveQuiet tree lined blockAmazing apartment features a nice living roomOpen kitchenDishwasher!Microwave!Bedroom fits a FULL bedCharming bathroomGorgeous hardwood floorsBeaming natural lightPerfect share apartment Steps to F train at 63rd and Lexington or6 train at 68th St and Lexington.M66 Crosstown bus 67th and York.    \n",
       "20234                                                                                                                                                                  This fantastic newly renovated convertible 3 bedroom apartment has tons of space and natural light. Kitchen offers black granite counter tops and all stainless steel appliances. Marble tile bath with brand new shower.<br /><br />Luxury building located in Midtown East, near Grand Central Station offers its residents amenities such as a doorman, an on-site spa, a laundry room, and beautiful apartments renovated with modern and high-end finishes. This pet-friendly building is the commuter's ideal location and environment to live in.<br /><br />FOR FURTHER INFORMATION AND VIEWING CONTACT MEYER OVADIA AT 753-396-6626 OR VIA EMAIL AT kagglemanager@renthop.com NOT WHAT YOU ARE LOOKING FOR? FEEL FREE TO CONTACT ME WITH ANY SPECIAL REQUESTS. I'LL BE MORE THAN HAPPY TO FURTHER ASSIST YOU IN YOUR SEARCH<br /><br /><p><a  website_redacted    \n",
       "\n",
       "          display_address  \\\n",
       "93524    East 29th Street   \n",
       "116815  West 171st Street   \n",
       "3545          111 Mott St   \n",
       "52853    East 65th Street   \n",
       "20234    East 52nd Street   \n",
       "\n",
       "                                                                                                         features  \\\n",
       "93524   [Roof Deck, Doorman, Elevator, Laundry in Building, Laundry in Unit, Dishwasher, Hardwood Floors, No Fee]   \n",
       "116815                                                                               [Dogs Allowed, Cats Allowed]   \n",
       "3545                                                                                       [No Fee, Cats Allowed]   \n",
       "52853                                                                                                   [Pre-War]   \n",
       "20234                                                                     [Doorman, Elevator, Dishwasher, No Fee]   \n",
       "\n",
       "        latitude  listing_id  longitude                        manager_id  \\\n",
       "93524    40.7412     6937971   -73.9772  2a1ee03b449700c3a15dd8c9a505c525   \n",
       "116815   40.8433     6828255   -73.9397  1b431b2ef64b0b5ca12dfdf471770e93   \n",
       "3545     40.7176     7140748   -73.9975  0b4c2bdea168a99e824ae44dbac348f5   \n",
       "52853    40.7630     7080836   -73.9577  d24abc331d8b47f73a369795690c010a   \n",
       "20234    40.7556     7093806   -73.9668  537e06890f6a86dbb70c187db5be4d55   \n",
       "\n",
       "                                                                                                                                                                                                                                                                                                                                                                                                                                                                                                                                               photos  \\\n",
       "93524   [https://photos.renthop.com/2/6937971_4419d62ee3384c96c8b0eabc35abef12.jpg, https://photos.renthop.com/2/6937971_cede41e1d04b9d99e230b3de5db4fe79.jpg, https://photos.renthop.com/2/6937971_f7f0b0cbfbfdf2dd6e0ddc1f1e85e982.jpg, https://photos.renthop.com/2/6937971_15fff0709c54359f5b312ee651488473.jpg, https://photos.renthop.com/2/6937971_7e9df16bff58b396c57a29f47049838b.jpg, https://photos.renthop.com/2/6937971_9c18ff5064d4027dba9500b673057373.jpg, https://photos.renthop.com/2/6937971_23103deb56fe5494393494f41160608d.jpg]   \n",
       "116815                                                                                                                                                                                                                                                                                                                                                                                                                                                                                                                                             []   \n",
       "3545                                                                                                                                                                                                                                                                                                                                                                                                                                                                      [https://photos.renthop.com/2/7140748_65f66bc0c021de6ec97085269160c0e8.jpg]   \n",
       "52853                                                                              [https://photos.renthop.com/2/7080836_42011311a073bb9e7e7483b8e3374414.jpg, https://photos.renthop.com/2/7080836_fcd3bbf5566ee212156c7804575919ee.jpg, https://photos.renthop.com/2/7080836_8977d2439fbf11b52d263c2b473dcdb9.jpg, https://photos.renthop.com/2/7080836_b76aefe26884170b44bbc9f41921ce00.jpg, https://photos.renthop.com/2/7080836_358121bcc2a77ae26f08bbfa9928e090.jpg, https://photos.renthop.com/2/7080836_c7046e311aa96599fa3a9d44f1041d5a.jpg]   \n",
       "20234                                                                              [https://photos.renthop.com/2/7093806_780c6ef80f2e17b9c65d015173f0be4b.jpg, https://photos.renthop.com/2/7093806_4691684e21c99b1a3b7bddef8f9d396e.jpg, https://photos.renthop.com/2/7093806_e9246754ebfd188d801c20047a9ac9bb.jpg, https://photos.renthop.com/2/7093806_600c7569b4ffdde9397f2a12a016b6c2.jpg, https://photos.renthop.com/2/7093806_2e7157a24d4c0fb1bbef18781f3646f5.jpg, https://photos.renthop.com/2/7093806_6f39e0e22355e63e93d6fc74efb0d407.jpg]   \n",
       "\n",
       "        price         street_address  \n",
       "93524    2850   340 East 29th Street  \n",
       "116815   2800  620 West 171st Street  \n",
       "3545     2750            111 MOTT ST  \n",
       "52853    1995   429 East 65th Street  \n",
       "20234    4495   320 East 52nd Street  "
      ]
     },
     "execution_count": 86,
     "metadata": {},
     "output_type": "execute_result"
    }
   ],
   "source": [
    "y=train_df['interest_level']\n",
    "y2 = []\n",
    "for k in y:\n",
    "    if k == 'low': \n",
    "        y2.append(1)\n",
    "    elif k == 'medium': \n",
    "        y2.append(2)\n",
    "    elif k == 'high':\n",
    "        y2.append(3)\n",
    "    else: \n",
    "        y2.append(-1) \n",
    "\n",
    "y2=pd.DataFrame(y2)\n",
    "#change so they are ordered \n",
    "\n",
    "X = train_df.drop('interest_level', 1)\n",
    "\n",
    "from sklearn.model_selection import train_test_split\n",
    "X_train, X_dev, y_train, y_dev = train_test_split(\n",
    "    X, y2, test_size=0.33, random_state=1)\n",
    "\n",
    "X_train.head()\n",
    "#print(y[0:3], y2[0:3], y_train.head())"
   ]
  },
  {
   "cell_type": "code",
   "execution_count": 87,
   "metadata": {
    "collapsed": false
   },
   "outputs": [],
   "source": [
    "from string import punctuation\n",
    "def txt_features(dat):\n",
    "    strlen = [len(x) for x in (dat['description'])]\n",
    "    numwords = [len(x.split()) for x in (dat['description'])]\n",
    "    numcaps = [sum(1 for c in x if c.upper()) for x in (dat['description'])]\n",
    "    numpunct = [sum(1 for c in x if c in punctuation) for x in (dat['description'])]\n",
    "    richness = [len(set(x)) / (len(x)+0.001) for x in dat['description']]\n",
    "\n",
    "    ddf = pd.DataFrame()\n",
    "    ddf['strlen'] = strlen\n",
    "    ddf['numwords'] = numwords\n",
    "    ddf['numcaps'] = numcaps\n",
    "    ddf['numpunct'] = numpunct\n",
    "    ddf['richness'] = richness\n",
    "    return ddf"
   ]
  },
  {
   "cell_type": "code",
   "execution_count": 88,
   "metadata": {
    "collapsed": false
   },
   "outputs": [
    {
     "name": "stderr",
     "output_type": "stream",
     "text": [
      "C:\\Program Files\\Anaconda2\\lib\\site-packages\\ipykernel\\__main__.py:7: DataConversionWarning: A column-vector y was passed when a 1d array was expected. Please change the shape of y to (n_samples,), for example using ravel().\n"
     ]
    },
    {
     "name": "stdout",
     "output_type": "stream",
     "text": [
      "Training Score: 93.59%\n",
      "Dev Score: 66.47%\n"
     ]
    }
   ],
   "source": [
    "from sklearn.ensemble import RandomForestClassifier\n",
    " \n",
    "ddf_tr = txt_features(X_train)\n",
    "ddf_de = txt_features(X_dev)\n",
    "\n",
    "rfc = RandomForestClassifier(n_estimators=10, n_jobs=-1) #-1 means use all available cores\n",
    "rfc.fit(ddf_tr, y_train)\n",
    "print('Training Score: %.2f%%' % (rfc.score(ddf_tr, y_train) * 100))\n",
    "\n",
    "#rfc.fit(ddf_de, y_dev) #oops, this would be cheating\n",
    "print('Dev Score: %.2f%%' % (rfc.score(ddf_de, y_dev) * 100))\n"
   ]
  },
  {
   "cell_type": "code",
   "execution_count": 89,
   "metadata": {
    "_active": true,
    "_cell_guid": "305f5c90-23ec-9aa0-5e8c-f1fa1295b0e5",
    "collapsed": false
   },
   "outputs": [
    {
     "name": "stdout",
     "output_type": "stream",
     "text": [
      "['richness', 'numwords', 'strlen', 'numcaps', 'numpunct']\n",
      "[ 0.25899405  0.19026255  0.18841789  0.18759741  0.1747281 ]\n"
     ]
    }
   ],
   "source": [
    "importances = rfc.feature_importances_\n",
    "features = ddf_tr.columns\n",
    "\n",
    "sort_indices = np.argsort(importances)[::-1]\n",
    "sorted_features = []\n",
    "for i in sort_indices:\n",
    "    sorted_features.append(features[i])\n",
    "\n",
    "vals = importances[sort_indices]\n",
    "labels = sorted_features\n",
    "\n",
    "print labels\n",
    "print vals"
   ]
  },
  {
   "cell_type": "markdown",
   "metadata": {},
   "source": [
    "## Let's take a look at num photos vs scores"
   ]
  },
  {
   "cell_type": "code",
   "execution_count": 90,
   "metadata": {
    "collapsed": false
   },
   "outputs": [
    {
     "name": "stdout",
     "output_type": "stream",
     "text": [
      "\t Training Accuracy: 69.60% \t Test Accuracy: 69.19%\n"
     ]
    }
   ],
   "source": [
    "pd.options.display.max_colwidth #50\n",
    "pd.options.display.max_colwidth = 1000\n",
    "\n",
    "num_photos = [len(x) for x in (X_train['photos'].values)]\n",
    "dd_tp = pd.DataFrame()\n",
    "dd_tp['num_photos'] = num_photos\n",
    "\n",
    "\n",
    "num_photos_dev = [len(x) for x in (X_dev['photos'].values)]\n",
    "dd_dp = pd.DataFrame()\n",
    "dd_dp['num_photos'] = num_photos_dev\n",
    "\n",
    "lr = LogisticRegression()\n",
    "lr.fit(dd_tp, y_train)\n",
    "\n",
    "print('\\t Training Accuracy: %.2f%% \\t Test Accuracy: %.2f%%' % (lr.score(dd_tp, y_train)*100, \n",
    "                                                                 lr.score(dd_dp, y_dev)*100))\n"
   ]
  },
  {
   "cell_type": "markdown",
   "metadata": {},
   "source": [
    "## Lets add numphotos to our text analysis test"
   ]
  },
  {
   "cell_type": "code",
   "execution_count": 98,
   "metadata": {
    "collapsed": false
   },
   "outputs": [
    {
     "name": "stderr",
     "output_type": "stream",
     "text": [
      "C:\\Program Files\\Anaconda2\\lib\\site-packages\\ipykernel\\__main__.py:5: DataConversionWarning: A column-vector y was passed when a 1d array was expected. Please change the shape of y to (n_samples,), for example using ravel().\n"
     ]
    },
    {
     "name": "stdout",
     "output_type": "stream",
     "text": [
      "\n",
      "RF\tTraining Score:94.15%        \tDev Score: 67.10%\n",
      "LR \t Training Accuracy: 69.53% \t Dev Accuracy: 69.15%\n",
      "['richness', 'numcaps', 'strlen', 'numwords', 'numpunct', 'num_photos']\n",
      "[ 0.21859142  0.17003016  0.16858574  0.1677809   0.16266951  0.11234227]\n"
     ]
    }
   ],
   "source": [
    "ddf_tr['num_photos'] = num_photos\n",
    "ddf_de['num_photos'] = num_photos_dev\n",
    "\n",
    "rfc = RandomForestClassifier(n_estimators=10, n_jobs=-1) #-1 means use all available cores\n",
    "rfc.fit(ddf_tr, y_train)\n",
    "print('\\nRF\\tTraining Score:%.2f%% \\\n",
    "       \\tDev Score: %.2f%%' % (rfc.score(ddf_tr, y_train) * 100, rfc.score(ddf_de, y_dev) * 100))\n",
    "\n",
    "\n",
    "importances = rfc.feature_importances_\n",
    "features = ddf_tr.columns\n",
    "\n",
    "sort_indices = np.argsort(importances)[::-1]\n",
    "sorted_features = []\n",
    "for i in sort_indices:\n",
    "    sorted_features.append(features[i])\n",
    "\n",
    "vals = importances[sort_indices]\n",
    "labels = sorted_features\n",
    "\n",
    "lr = LogisticRegression()\n",
    "lr.fit(ddf_tr, y_train)\n",
    "print('LR \\t Training Accuracy: %.2f%% \\t Dev Accuracy: %.2f%%' % (lr.score(ddf_tr, y_train)*100, \n",
    "                                                                 lr.score(ddf_de, y_dev)*100))\n",
    "\n",
    "\n",
    "\n",
    "print labels\n",
    "print vals"
   ]
  },
  {
   "cell_type": "markdown",
   "metadata": {},
   "source": [
    "## What about comparing addresses"
   ]
  },
  {
   "cell_type": "code",
   "execution_count": 112,
   "metadata": {
    "collapsed": false
   },
   "outputs": [
    {
     "name": "stdout",
     "output_type": "stream",
     "text": [
      "LR \t Training Accuracy: 69.58% \t Dev Accuracy: 69.23%\n"
     ]
    }
   ],
   "source": [
    "sa_len = [len(sa) for sa in X_train['street_address']]\n",
    "da_len = [len(da) for da in X_train['display_address']]\n",
    "dif_len = np.subtract(sa_len,da_len)\n",
    "\n",
    "dd_t = pd.DataFrame()\n",
    "dd_t['dif_len'] = dif_len\n",
    "\n",
    "sa_len_dev = [len(sa) for sa in X_dev['street_address']]\n",
    "da_len_dev = [len(da) for da in X_dev['display_address']]\n",
    "dif_len_dev = np.subtract(sa_len_dev,da_len_dev)\n",
    "\n",
    "\n",
    "dd_d = pd.DataFrame()\n",
    "dd_d['dif_len'] = dif_len_dev\n",
    "\n",
    "\n",
    "lr = LogisticRegression()\n",
    "lr.fit(dd_t, y_train)\n",
    "\n",
    "print('LR \\t Training Accuracy: %.2f%% \\t Dev Accuracy: %.2f%%' % (lr.score(dd_t, y_train)*100, \n",
    "                                                                 lr.score(dd_d, y_dev)*100))\n"
   ]
  },
  {
   "cell_type": "markdown",
   "metadata": {},
   "source": [
    "add in address dif to bigger set"
   ]
  },
  {
   "cell_type": "code",
   "execution_count": 114,
   "metadata": {
    "collapsed": false
   },
   "outputs": [
    {
     "name": "stderr",
     "output_type": "stream",
     "text": [
      "C:\\Program Files\\Anaconda2\\lib\\site-packages\\ipykernel\\__main__.py:5: DataConversionWarning: A column-vector y was passed when a 1d array was expected. Please change the shape of y to (n_samples,), for example using ravel().\n"
     ]
    },
    {
     "name": "stdout",
     "output_type": "stream",
     "text": [
      "\n",
      "RF\tTraining Score:94.50%        \tDev Score: 67.47%\n",
      "LR \t Training Accuracy: 69.51% \t Dev Accuracy: 69.17%\n",
      "['richness', 'strlen', 'numcaps', 'numwords', 'numpunct', 'num_photos', 'addr_diff']\n",
      "[ 0.19915102  0.1601959   0.15910764  0.15526029  0.14743492  0.11128729\n",
      "  0.06756294]\n"
     ]
    }
   ],
   "source": [
    "ddf_tr['addr_diff'] = dif_len\n",
    "ddf_de['addr_diff'] = dif_len_dev\n",
    "\n",
    "rfc = RandomForestClassifier(n_estimators=10, n_jobs=-1) #-1 means use all available cores\n",
    "rfc.fit(ddf_tr, y_train)\n",
    "print('\\nRF\\tTraining Score:%.2f%% \\\n",
    "       \\tDev Score: %.2f%%' % (rfc.score(ddf_tr, y_train) * 100, rfc.score(ddf_de, y_dev) * 100))\n",
    "\n",
    "lr = LogisticRegression()\n",
    "lr.fit(ddf_tr, y_train)\n",
    "print('LR \\t Training Accuracy: %.2f%% \\t Dev Accuracy: %.2f%%' % (lr.score(ddf_tr, y_train)*100, \n",
    "                                                                 lr.score(ddf_de, y_dev)*100))\n",
    "\n",
    "importances = rfc.feature_importances_\n",
    "features = ddf_tr.columns\n",
    "\n",
    "sort_indices = np.argsort(importances)[::-1]\n",
    "sorted_features = []\n",
    "for i in sort_indices:\n",
    "    sorted_features.append(features[i])\n",
    "\n",
    "vals = importances[sort_indices]\n",
    "labels = sorted_features\n",
    "\n",
    "print labels\n",
    "print vals"
   ]
  },
  {
   "cell_type": "code",
   "execution_count": null,
   "metadata": {
    "collapsed": true
   },
   "outputs": [],
   "source": []
  }
 ],
 "metadata": {
  "anaconda-cloud": {},
  "kernelspec": {
   "display_name": "Python [conda root]",
   "language": "python",
   "name": "conda-root-py"
  },
  "language_info": {
   "codemirror_mode": {
    "name": "ipython",
    "version": 2
   },
   "file_extension": ".py",
   "mimetype": "text/x-python",
   "name": "python",
   "nbconvert_exporter": "python",
   "pygments_lexer": "ipython2",
   "version": "2.7.12"
  }
 },
 "nbformat": 4,
 "nbformat_minor": 0
}
