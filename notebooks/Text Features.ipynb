{
 "cells": [
  {
   "cell_type": "markdown",
   "metadata": {
    "_active": false,
    "_cell_guid": "ca50d942-809f-21d9-aa30-7f4eb60999b3",
    "collapsed": false
   },
   "source": [
    "# Baseline"
   ]
  },
  {
   "cell_type": "code",
   "execution_count": 1,
   "metadata": {
    "_active": false,
    "_cell_guid": "cca36417-3de2-c57d-8616-10a6f0e65574",
    "collapsed": false
   },
   "outputs": [
    {
     "name": "stderr",
     "output_type": "stream",
     "text": [
      "C:\\Program Files\\Anaconda2\\lib\\site-packages\\sklearn\\cross_validation.py:44: DeprecationWarning: This module was deprecated in version 0.18 in favor of the model_selection module into which all the refactored classes and functions are moved. Also note that the interface of the new CV iterators are different from that of this module. This module will be removed in 0.20.\n",
      "  \"This module will be removed in 0.20.\", DeprecationWarning)\n",
      "C:\\Program Files\\Anaconda2\\lib\\site-packages\\sklearn\\grid_search.py:43: DeprecationWarning: This module was deprecated in version 0.18 in favor of the model_selection module into which all the refactored classes and functions are moved. This module will be removed in 0.20.\n",
      "  DeprecationWarning)\n"
     ]
    }
   ],
   "source": [
    "# General libraries.\n",
    "import re\n",
    "import numpy as np\n",
    "import pandas as pd\n",
    "import matplotlib.pyplot as plt\n",
    "\n",
    "\n",
    "# SK-learn libraries for learning.\n",
    "from sklearn.pipeline import Pipeline\n",
    "from sklearn.neighbors import KNeighborsClassifier\n",
    "from sklearn.linear_model import LogisticRegression\n",
    "from sklearn.naive_bayes import BernoulliNB\n",
    "from sklearn.naive_bayes import MultinomialNB\n",
    "from sklearn.grid_search import GridSearchCV\n",
    "\n",
    "# SK-learn libraries for evaluation.\n",
    "from sklearn.metrics import confusion_matrix\n",
    "from sklearn import metrics\n",
    "from sklearn.metrics import classification_report\n",
    "\n",
    "# SK-learn library for importing the newsgroup data.\n",
    "#from sklearn.datasets import fetch_20newsgroups\n",
    "\n",
    "# SK-learn libraries for feature extraction from text.\n",
    "from sklearn.feature_extraction.text import *"
   ]
  },
  {
   "cell_type": "code",
   "execution_count": 2,
   "metadata": {
    "_active": false,
    "_cell_guid": "e98c7c95-b212-5060-ca03-d067e387fab8",
    "collapsed": false
   },
   "outputs": [],
   "source": [
    "train_df = pd.read_json(\"../input/train.json\")\n",
    "test_df = pd.read_json(\"../input/test.json\")"
   ]
  },
  {
   "cell_type": "code",
   "execution_count": 115,
   "metadata": {
    "collapsed": false
   },
   "outputs": [
    {
     "name": "stdout",
     "output_type": "stream",
     "text": [
      "train: (33065, 14) dev: (16287, 14)\n",
      "train: (33065, 1) dev: (16287, 1)\n"
     ]
    }
   ],
   "source": [
    "y=train_df['interest_level']\n",
    "y2 = []\n",
    "for k in y:\n",
    "    if k == 'low': \n",
    "        y2.append(1)\n",
    "    elif k == 'medium': \n",
    "        y2.append(2)\n",
    "    elif k == 'high':\n",
    "        y2.append(3)\n",
    "    else: \n",
    "        y2.append(-1) \n",
    "\n",
    "y2=pd.DataFrame(y2)\n",
    "\n",
    "#change so they are ordered \n",
    "\n",
    "X = train_df.drop('interest_level', 1)\n",
    "\n",
    "from sklearn.model_selection import train_test_split\n",
    "X_train, X_dev, y_train, y_dev = train_test_split(\n",
    "    X, y2, test_size=0.33, random_state=1)\n",
    "\n",
    "print('train: {} dev: {}'.format(X_train.shape, X_dev.shape))\n",
    "print('train: {} dev: {}'.format(y_train.shape, y_dev.shape))\n",
    "\n",
    "#X_train.head()\n",
    "#print(y[0:3], y2[0:3], y_train.head())"
   ]
  },
  {
   "cell_type": "code",
   "execution_count": 116,
   "metadata": {
    "collapsed": false
   },
   "outputs": [],
   "source": [
    "def txt_features(dat):\n",
    "    strlen = [len(x) for x in (dat['description'])]\n",
    "    numwords = [len(x.split()) for x in (dat['description'])]\n",
    "    numcaps = [sum(1 for c in x if c.upper()) for x in (dat['description'])]\n",
    "    numpunct = [sum(1 for c in x if c in punctuation) for x in (dat['description'])]\n",
    "    richness = [len(set(x)) / (len(x)+0.001) for x in dat['description']]\n",
    "\n",
    "    ddf = pd.DataFrame()\n",
    "    ddf['strlen'] = strlen\n",
    "    ddf['numwords'] = numwords\n",
    "    ddf['numcaps'] = numcaps\n",
    "    ddf['numpunct'] = numpunct\n",
    "    ddf['richness'] = richness\n",
    "    return ddf"
   ]
  },
  {
   "cell_type": "code",
   "execution_count": 117,
   "metadata": {
    "collapsed": false
   },
   "outputs": [
    {
     "name": "stderr",
     "output_type": "stream",
     "text": [
      "C:\\Program Files\\Anaconda2\\lib\\site-packages\\ipykernel\\__main__.py:7: DataConversionWarning: A column-vector y was passed when a 1d array was expected. Please change the shape of y to (n_samples,), for example using ravel().\n"
     ]
    },
    {
     "name": "stdout",
     "output_type": "stream",
     "text": [
      "Training Score: 93.43%\n"
     ]
    },
    {
     "name": "stderr",
     "output_type": "stream",
     "text": [
      "C:\\Program Files\\Anaconda2\\lib\\site-packages\\ipykernel\\__main__.py:10: DataConversionWarning: A column-vector y was passed when a 1d array was expected. Please change the shape of y to (n_samples,), for example using ravel().\n"
     ]
    },
    {
     "name": "stdout",
     "output_type": "stream",
     "text": [
      "Dev Score: 94.56%\n"
     ]
    }
   ],
   "source": [
    "from sklearn.ensemble import RandomForestClassifier\n",
    " \n",
    "ddf_tr = txt_features(X_train)\n",
    "ddf_de = txt_features(X_dev)\n",
    "\n",
    "rfc = RandomForestClassifier(n_estimators=10, n_jobs=-1) #-1 means use all available cores\n",
    "rfc.fit(ddf_tr, y_train)\n",
    "print('Training Score: %.2f%%' % (rfc.score(ddf_tr, y_train) * 100))\n",
    "\n",
    "rfc.fit(ddf_de, y_dev)\n",
    "print('Dev Score: %.2f%%' % (rfc.score(ddf_de, y_dev) * 100))\n"
   ]
  },
  {
   "cell_type": "code",
   "execution_count": 118,
   "metadata": {
    "_active": true,
    "_cell_guid": "305f5c90-23ec-9aa0-5e8c-f1fa1295b0e5",
    "collapsed": false
   },
   "outputs": [
    {
     "name": "stdout",
     "output_type": "stream",
     "text": [
      "['richness', 'strlen', 'numcaps', 'numwords', 'numpunct']\n",
      "[ 0.25651105  0.18787878  0.1868646   0.1863191   0.18242646]\n"
     ]
    }
   ],
   "source": [
    "importances = rfc.feature_importances_\n",
    "features = ddf_tr.columns\n",
    "\n",
    "sort_indices = np.argsort(importances)[::-1]\n",
    "sorted_features = []\n",
    "for i in sort_indices:\n",
    "    sorted_features.append(features[i])\n",
    "\n",
    "vals = importances[sort_indices]\n",
    "labels = sorted_features\n",
    "\n",
    "print labels\n",
    "print vals"
   ]
  },
  {
   "cell_type": "code",
   "execution_count": null,
   "metadata": {
    "collapsed": true
   },
   "outputs": [],
   "source": []
  }
 ],
 "metadata": {
  "anaconda-cloud": {},
  "kernelspec": {
   "display_name": "Python [conda root]",
   "language": "python",
   "name": "conda-root-py"
  },
  "language_info": {
   "codemirror_mode": {
    "name": "ipython",
    "version": 2
   },
   "file_extension": ".py",
   "mimetype": "text/x-python",
   "name": "python",
   "nbconvert_exporter": "python",
   "pygments_lexer": "ipython2",
   "version": "2.7.12"
  }
 },
 "nbformat": 4,
 "nbformat_minor": 0
}
