{
 "cells": [
  {
   "cell_type": "markdown",
   "metadata": {
    "_active": false,
    "_cell_guid": "ca50d942-809f-21d9-aa30-7f4eb60999b3",
    "collapsed": false
   },
   "source": [
    "# Text Features"
   ]
  },
  {
   "cell_type": "markdown",
   "metadata": {},
   "source": [
    "## Prep"
   ]
  },
  {
   "cell_type": "code",
   "execution_count": 168,
   "metadata": {
    "_active": false,
    "_cell_guid": "cca36417-3de2-c57d-8616-10a6f0e65574",
    "collapsed": false
   },
   "outputs": [],
   "source": [
    "# General libraries.\n",
    "import re\n",
    "import numpy as np\n",
    "import pandas as pd\n",
    "#import matplotlib.pyplot as plt\n",
    "\n",
    "# SK-learn libraries for learning.\n",
    "from sklearn.pipeline import Pipeline\n",
    "from sklearn.neighbors import KNeighborsClassifier\n",
    "from sklearn.linear_model import LogisticRegression\n",
    "from sklearn.naive_bayes import BernoulliNB\n",
    "from sklearn.naive_bayes import MultinomialNB\n",
    "from sklearn.grid_search import GridSearchCV\n",
    "\n",
    "# SK-learn libraries for evaluation.\n",
    "from sklearn.metrics import confusion_matrix\n",
    "from sklearn import metrics\n",
    "from sklearn.metrics import classification_report\n",
    "from scipy.stats import itemfreq\n",
    "\n",
    "# SK-learn libraries for feature extraction from text.\n",
    "from sklearn.feature_extraction.text import *"
   ]
  },
  {
   "cell_type": "code",
   "execution_count": 169,
   "metadata": {
    "_active": false,
    "_cell_guid": "e98c7c95-b212-5060-ca03-d067e387fab8",
    "collapsed": false
   },
   "outputs": [],
   "source": [
    "train_df = pd.read_json(\"../input/train.json\")\n",
    "test_df = pd.read_json(\"../input/test.json\")"
   ]
  },
  {
   "cell_type": "code",
   "execution_count": 170,
   "metadata": {
    "collapsed": false
   },
   "outputs": [],
   "source": [
    "from sklearn.model_selection import train_test_split\n",
    "\n",
    "y = train_df['interest_level']\n",
    "y2 = y.replace({'low':1,'medium':2,'high':3})\n",
    "X = train_df.drop('interest_level', 1)\n",
    "X_train, X_dev, y_train, y_dev = train_test_split(X, y2, test_size=0.2, random_state=1)"
   ]
  },
  {
   "cell_type": "code",
   "execution_count": 171,
   "metadata": {
    "collapsed": false
   },
   "outputs": [],
   "source": [
    "def accuracy_report(name, X_train, y_train, X_dev, y_dev):\n",
    "\n",
    "    #LR\n",
    "    #lr = LogisticRegression()\n",
    "    #lr.fit(X_train, y_train)\n",
    "\n",
    "    print('===============================')\n",
    "    #print(name)\n",
    "    \n",
    "    #print('LR Training Accuracy: %.2f%% \\t Test Accuracy: %.2f%%' % (\n",
    "    #    lr.score(X_train, y_train)*100,                                                         \n",
    "    #    lr.score(X_dev, y_dev)*100))\n",
    " \n",
    "    ##precision (% select relevent), recall (% relevant selected)\n",
    "    #print ('LR dev: \\n{}'.format(classification_report(y_dev, lr.predict(X_dev))))\n",
    "    #print itemfreq(lr.predict(X_dev))\n",
    "    \n",
    "    #RFC\n",
    "    rfc = RandomForestClassifier(n_estimators=20, n_jobs=-1) #-1 means use all available cores\n",
    "    rfc.fit(X_train, y_train)\n",
    "    print('RF Training Accuracy: %.2f%% \\t Test Accuracy: %.2f%%' % (\n",
    "        rfc.score(X_train, y_train)*100,                                                         \n",
    "        rfc.score(X_dev, y_dev)*100))\n",
    "\n",
    "    print ('RFC dev: \\n{}'.format(classification_report(y_dev, rfc.predict(X_dev))))\n",
    "    print itemfreq(rfc.predict(X_dev))\n",
    "\n",
    "    importances = rfc.feature_importances_\n",
    "    features = X_train.columns\n",
    "\n",
    "    sort_indices = np.argsort(importances)[::-1]\n",
    "    sorted_features = []\n",
    "    for i in sort_indices:\n",
    "        sorted_features.append(features[i])\n",
    "\n",
    "    print('\\nfeatures')\n",
    "    print(sorted_features)\n",
    "    print importances[sort_indices]"
   ]
  },
  {
   "cell_type": "markdown",
   "metadata": {},
   "source": [
    "## Text Features"
   ]
  },
  {
   "cell_type": "code",
   "execution_count": 172,
   "metadata": {
    "collapsed": false
   },
   "outputs": [
    {
     "name": "stdout",
     "output_type": "stream",
     "text": [
      "===============================\n",
      "RF Training Accuracy: 94.60% \t Test Accuracy: 67.35%\n",
      "RFC dev: \n",
      "             precision    recall  f1-score   support\n",
      "\n",
      "          1       0.73      0.89      0.80      6797\n",
      "          2       0.38      0.21      0.27      2334\n",
      "          3       0.32      0.11      0.16       740\n",
      "\n",
      "avg / total       0.62      0.67      0.63      9871\n",
      "\n",
      "[[   1 8308]\n",
      " [   2 1305]\n",
      " [   3  258]]\n",
      "\n",
      "features\n",
      "['richness', 'numwords', 'numcaps', 'strlen', 'numpunct']\n",
      "[ 0.26011871  0.1901234   0.18583811  0.1851754   0.17874438]\n",
      "===============================\n",
      "RF Training Accuracy: 81.19% \t Test Accuracy: 60.58%\n",
      "RFC dev: \n",
      "             precision    recall  f1-score   support\n",
      "\n",
      "          1       0.71      0.80      0.75      6797\n",
      "          2       0.28      0.21      0.24      2334\n",
      "          3       0.13      0.09      0.10       740\n",
      "\n",
      "avg / total       0.57      0.61      0.58      9871\n",
      "\n",
      "[[   1 7619]\n",
      " [   2 1759]\n",
      " [   3  493]]\n",
      "\n",
      "features\n",
      "['richness']\n",
      "[ 1.]\n"
     ]
    }
   ],
   "source": [
    "from string import punctuation\n",
    "from sklearn.ensemble import RandomForestClassifier\n",
    "\n",
    "#using dif var in case user wants to keep original df.\n",
    "def add_txt_features(orig):\n",
    "    dat = orig\n",
    "    dat.loc[:,'strlen'] = [len(x) for x in dat['description']] #can ignore warnings because making new column\n",
    "    dat.loc[:,'numwords'] = [len(x.split()) for x in dat['description']]\n",
    "    dat.loc[:,'numcaps'] = [sum(1 for c in x if c.upper()) for x in dat['description']]\n",
    "    dat.loc[:,'numpunct'] = [sum(1 for c in x if c in punctuation) for x in dat['description']]\n",
    "    dat.loc[:,'richness'] = [len(set(x)) / (len(x)+0.001) for x in dat['description']]\n",
    "    return dat\n",
    "\n",
    "X_train = add_txt_features(X_train)\n",
    "X_dev =   add_txt_features(X_dev)\n",
    "#X_train.head()\n",
    "\n",
    "feature_list = ['strlen','numwords','numcaps','numpunct','richness']\n",
    "X_train_limited = X_train[feature_list]\n",
    "X_dev_limited = X_dev[feature_list]\n",
    "\n",
    "accuracy_report('text features', X_train_limited, y_train, X_dev_limited, y_dev)\n",
    "\n",
    "X_train_limited = X_train[['richness']]\n",
    "X_dev_limited = X_dev[['richness']]\n",
    "accuracy_report('richness only', X_train_limited, y_train, X_dev_limited, y_dev)"
   ]
  },
  {
   "cell_type": "markdown",
   "metadata": {},
   "source": [
    "RFC does better job with recall, but given these signalls, is still too heavy in assigning to 1 (Low)"
   ]
  },
  {
   "cell_type": "markdown",
   "metadata": {},
   "source": [
    "## Price Features"
   ]
  },
  {
   "cell_type": "code",
   "execution_count": 173,
   "metadata": {
    "collapsed": false
   },
   "outputs": [
    {
     "name": "stdout",
     "output_type": "stream",
     "text": [
      "===============================\n",
      "RF Training Accuracy: 96.73% \t Test Accuracy: 68.90%\n",
      "RFC dev: \n",
      "             precision    recall  f1-score   support\n",
      "\n",
      "          1       0.76      0.88      0.82      6797\n",
      "          2       0.41      0.27      0.32      2334\n",
      "          3       0.40      0.24      0.30       740\n",
      "\n",
      "avg / total       0.65      0.69      0.66      9871\n",
      "\n",
      "[[   1 7897]\n",
      " [   2 1525]\n",
      " [   3  449]]\n",
      "\n",
      "features\n",
      "['richness', 'numpunct', 'strlen', 'numwords', 'numcaps', 'price_per_room', u'price', 'price_per_bed', 'price_per_bath', u'bedrooms', u'bathrooms']\n",
      "[ 0.13771016  0.12614905  0.12260027  0.12004549  0.11833491  0.09502237\n",
      "  0.09296118  0.08905161  0.07876778  0.01146769  0.00788949]\n"
     ]
    }
   ],
   "source": [
    "def add_price_features(orig):\n",
    "    dat = orig\n",
    "    dat.loc[:,'price_per_bed'] = dat['price'] / (dat['bedrooms']+0.00001)\n",
    "    dat.loc[:,'price_per_bath'] = dat['price'] / (dat['bathrooms']+0.00001)\n",
    "    dat.loc[:,'price_per_room'] = dat['price'] / (dat['bathrooms'] + dat['bedrooms'] +0.00001)\n",
    "    return dat\n",
    "\n",
    "X_train = add_price_features(X_train)\n",
    "X_dev =   add_price_features(X_dev)\n",
    "#X_train.head()\n",
    "\n",
    "priceplus_list = ['price_per_bed','price_per_bath','price_per_room',\n",
    "                'price','bedrooms','bathrooms']\n",
    "X_train_limited = X_train[priceplus_list]\n",
    "X_dev_limited =     X_dev[priceplus_list]\n",
    "\n",
    "feature_list = ['price_per_bed','price_per_bath','price_per_room',\n",
    "                'price','bedrooms','bathrooms',\n",
    "                'strlen','numwords','numcaps','numpunct','richness']\n",
    "X_train_limited = X_train[feature_list]\n",
    "X_dev_limited =     X_dev[feature_list]\n",
    "accuracy_report('text features', X_train_limited, y_train, X_dev_limited, y_dev)\n"
   ]
  },
  {
   "cell_type": "markdown",
   "metadata": {},
   "source": [
    "## Let's take a look at the number of photos"
   ]
  },
  {
   "cell_type": "code",
   "execution_count": 174,
   "metadata": {
    "collapsed": false
   },
   "outputs": [
    {
     "name": "stdout",
     "output_type": "stream",
     "text": [
      "===============================\n",
      "RF Training Accuracy: 69.62% \t Test Accuracy: 68.86%\n",
      "RFC dev: \n",
      "             precision    recall  f1-score   support\n",
      "\n",
      "          1       0.69      1.00      0.82      6797\n",
      "          2       0.00      0.00      0.00      2334\n",
      "          3       0.00      0.00      0.00       740\n",
      "\n",
      "avg / total       0.47      0.69      0.56      9871\n",
      "\n",
      "[[   1 9871]]\n",
      "\n",
      "features\n",
      "['numphotos']\n",
      "[ 1.]\n",
      "===============================\n",
      "RF Training Accuracy: 97.03% \t Test Accuracy: 69.27%\n",
      "RFC dev: \n",
      "             precision    recall  f1-score   support\n",
      "\n",
      "          1       0.76      0.89      0.82      6797\n",
      "          2       0.42      0.28      0.34      2334\n",
      "          3       0.39      0.23      0.29       740\n",
      "\n",
      "avg / total       0.65      0.69      0.67      9871\n",
      "\n",
      "[[   1 7889]\n",
      " [   2 1538]\n",
      " [   3  444]]\n",
      "\n",
      "features\n",
      "['richness', 'numpunct', 'strlen', 'numcaps', 'numwords', 'price_per_bed', u'price', 'numphotos', 'price_per_room', 'price_per_bath', u'bedrooms', u'bathrooms']\n",
      "[ 0.12298435  0.11050592  0.10883323  0.10758451  0.10756413  0.09047436\n",
      "  0.08513153  0.08450136  0.08384585  0.07780483  0.01147396  0.00929598]\n",
      "===============================\n",
      "RF Training Accuracy: 90.79% \t Test Accuracy: 59.44%\n",
      "RFC dev: \n",
      "             precision    recall  f1-score   support\n",
      "\n",
      "          1       0.72      0.75      0.74      6797\n",
      "          2       0.30      0.27      0.28      2334\n",
      "          3       0.16      0.14      0.15       740\n",
      "\n",
      "avg / total       0.58      0.59      0.59      9871\n",
      "\n",
      "[[   1 7090]\n",
      " [   2 2147]\n",
      " [   3  634]]\n",
      "\n",
      "features\n",
      "['richness', 'numphotos']\n",
      "[ 0.95918799  0.04081201]\n"
     ]
    }
   ],
   "source": [
    "def get_num_photos(orig):\n",
    "    dat = orig\n",
    "    dat.loc[:,'numphotos'] = [len(x) for x in dat['photos'].values]\n",
    "    return dat\n",
    "\n",
    "X_train = get_num_photos(X_train)\n",
    "X_dev =   get_num_photos(X_dev)\n",
    "\n",
    "X_train_ph = X_train[['numphotos']]\n",
    "X_dev_ph = X_dev[['numphotos']]\n",
    "\n",
    "X_train_limited = X_train[['numphotos']]\n",
    "X_dev_limited = X_dev[['numphotos']]\n",
    "accuracy_report('photos', X_train_limited, y_train, X_dev_limited, y_dev)\n",
    "\n",
    "feature_list = ['numphotos', 'price_per_bed','price_per_bath','price_per_room',\n",
    "                'price','bedrooms','bathrooms',\n",
    "                'strlen','numwords','numcaps','numpunct','richness']\n",
    "\n",
    "X_train_limited = X_train[feature_list]\n",
    "X_dev_limited = X_dev[feature_list]\n",
    "accuracy_report('full', X_train_limited, y_train, X_dev_limited, y_dev)\n",
    "\n",
    "X_train_limited = X_train[['numphotos','richness']]\n",
    "X_dev_limited = X_dev[['numphotos', 'richness']]\n",
    "accuracy_report('num photos+richness', X_train_limited, y_train, X_dev_limited, y_dev)"
   ]
  },
  {
   "cell_type": "markdown",
   "metadata": {},
   "source": [
    "## Time Info"
   ]
  },
  {
   "cell_type": "code",
   "execution_count": 175,
   "metadata": {
    "collapsed": false
   },
   "outputs": [
    {
     "name": "stdout",
     "output_type": "stream",
     "text": [
      "===============================\n",
      "RF Training Accuracy: 98.70% \t Test Accuracy: 63.62%\n",
      "RFC dev: \n",
      "             precision    recall  f1-score   support\n",
      "\n",
      "          1       0.70      0.87      0.78      6797\n",
      "          2       0.28      0.14      0.19      2334\n",
      "          3       0.09      0.03      0.04       740\n",
      "\n",
      "avg / total       0.56      0.64      0.58      9871\n",
      "\n",
      "[[   1 8457]\n",
      " [   2 1179]\n",
      " [   3  235]]\n",
      "\n",
      "features\n",
      "['second', 'hr_min', 'minute', 'day', 'weekday', 'hour', 'month', 'year']\n",
      "[ 0.33963426  0.20906653  0.1798322   0.12434283  0.06809989  0.04992863\n",
      "  0.02909567  0.        ]\n",
      "===============================\n",
      "RF Training Accuracy: 99.55% \t Test Accuracy: 70.77%\n",
      "RFC dev: \n",
      "             precision    recall  f1-score   support\n",
      "\n",
      "          1       0.76      0.92      0.83      6797\n",
      "          2       0.45      0.25      0.33      2334\n",
      "          3       0.48      0.19      0.27       740\n",
      "\n",
      "avg / total       0.66      0.71      0.67      9871\n",
      "\n",
      "[[   1 8274]\n",
      " [   2 1307]\n",
      " [   3  290]]\n",
      "\n",
      "features\n",
      "['hr_min', 'price_per_room', 'price_per_bed', u'price', 'richness', 'price_per_bath', 'numpunct', 'second', 'numcaps', 'strlen', 'numwords', 'minute', 'day', 'numphotos', 'weekday', 'hour', 'month', u'bedrooms', u'bathrooms', 'year']\n",
      "[ 0.08287286  0.07175918  0.0688687   0.06809157  0.06498045  0.06367402\n",
      "  0.06360121  0.06286223  0.06196343  0.06053825  0.0600421   0.05908769\n",
      "  0.05462585  0.04769984  0.03550106  0.03511151  0.019235    0.0112316\n",
      "  0.00825346  0.        ]\n"
     ]
    }
   ],
   "source": [
    "def add_time_features(orig):  #(x,\"%Y-%m-%d %H:%M:%S\")\n",
    "    dat = orig\n",
    "    #dat['created2'] = dat['created'].str[0:10].astype(\"datetime64\");\n",
    "    dat.loc[:,\"created2\"] = dat['created'].astype(\"datetime64\");\n",
    "     \n",
    "    dat.loc[:,'year']   = dat['created2'].dt.year\n",
    "    dat.loc[:,'month']  = dat['created2'].dt.month\n",
    "    dat.loc[:,'day']    = dat['created2'].dt.day\n",
    "    dat.loc[:,'weekday']= dat['created2'].dt.dayofweek\n",
    "    dat.loc[:,'hour']   = dat['created2'].dt.hour\n",
    "    dat.loc[:,'minute'] = dat['created2'].dt.minute\n",
    "    dat.loc[:,'second'] = dat['created2'].dt.second\n",
    "    dat.loc[:,'hr_min'] = dat['created2'].dt.hour.multiply(100).add(dat['created2'].dt.minute)\n",
    "    return dat\n",
    "\n",
    "X_train = add_time_features(X_train)\n",
    "X_dev =   add_time_features(X_dev)\n",
    "\n",
    "time_list = ['year', 'month', 'day', 'weekday', 'hour', 'minute', 'second', 'hr_min']\n",
    "X_train_limited = X_train[time_list]\n",
    "X_dev_limited =     X_dev[time_list]\n",
    "accuracy_report('text features', X_train_limited, y_train, X_dev_limited, y_dev)\n",
    "\n",
    "\n",
    "feature_list = ['year', 'month', 'day', 'weekday', 'hour', 'minute', 'second', 'hr_min',\n",
    "                'numphotos', 'price_per_bed','price_per_bath','price_per_room',\n",
    "                'price','bedrooms','bathrooms',\n",
    "                'strlen','numwords','numcaps','numpunct','richness']\n",
    "X_train_limited = X_train[feature_list]\n",
    "X_dev_limited =     X_dev[feature_list]\n",
    "accuracy_report('text features', X_train_limited, y_train, X_dev_limited, y_dev)\n"
   ]
  },
  {
   "cell_type": "code",
   "execution_count": 176,
   "metadata": {
    "collapsed": false
   },
   "outputs": [
    {
     "name": "stdout",
     "output_type": "stream",
     "text": [
      "('xt', (39481, 32), 'yt', (39481,), 'xd', (9871, 32), 'yd', (9871,))\n"
     ]
    }
   ],
   "source": [
    "print (\"xt\", X_train.shape, \"yt\", y_train.shape, \"xd\", X_dev.shape, \"yd\", y_dev.shape)"
   ]
  },
  {
   "cell_type": "markdown",
   "metadata": {},
   "source": [
    "## Add in num features"
   ]
  },
  {
   "cell_type": "code",
   "execution_count": 177,
   "metadata": {
    "collapsed": false
   },
   "outputs": [
    {
     "name": "stdout",
     "output_type": "stream",
     "text": [
      "===============================\n",
      "RF Training Accuracy: 69.63% \t Test Accuracy: 68.84%\n",
      "RFC dev: \n",
      "             precision    recall  f1-score   support\n",
      "\n",
      "          1       0.69      1.00      0.82      6797\n",
      "          2       0.00      0.00      0.00      2334\n",
      "          3       0.00      0.00      0.00       740\n",
      "\n",
      "avg / total       0.47      0.69      0.56      9871\n",
      "\n",
      "[[   1 9869]\n",
      " [   2    1]\n",
      " [   3    1]]\n",
      "\n",
      "features\n",
      "['numfeatures']\n",
      "[ 1.]\n",
      "===============================\n",
      "RF Training Accuracy: 99.53% \t Test Accuracy: 71.07%\n",
      "RFC dev: \n",
      "             precision    recall  f1-score   support\n",
      "\n",
      "          1       0.76      0.92      0.83      6797\n",
      "          2       0.46      0.27      0.34      2334\n",
      "          3       0.51      0.19      0.28       740\n",
      "\n",
      "avg / total       0.67      0.71      0.67      9871\n",
      "\n",
      "[[   1 8226]\n",
      " [   2 1368]\n",
      " [   3  277]]\n",
      "\n",
      "features\n",
      "['hr_min', u'price', 'price_per_bed', 'price_per_bath', 'richness', 'price_per_room', 'numwords', 'second', 'numpunct', 'strlen', 'minute', 'numcaps', 'day', 'numfeatures', 'numphotos', 'hour', 'weekday', 'month', u'bedrooms', u'bathrooms', 'year']\n",
      "[ 0.07747848  0.07410656  0.06940105  0.06115884  0.06104292  0.06050365\n",
      "  0.05901285  0.05856842  0.05842619  0.05665806  0.0561565   0.05415768\n",
      "  0.05200941  0.04972911  0.04435241  0.03546123  0.03310624  0.01870837\n",
      "  0.0118178   0.00814422  0.        ]\n"
     ]
    }
   ],
   "source": [
    "#todo add in cleaning\n",
    "\n",
    "def get_num_features(orig):\n",
    "    dat = orig\n",
    "    dat.loc[:,'numfeatures'] = [len(x) for x in dat['features'].values]\n",
    "    return dat\n",
    "\n",
    "X_train = get_num_features(X_train)\n",
    "X_dev =   get_num_features(X_dev)\n",
    "\n",
    "X_train_limited = X_train[['numfeatures']]\n",
    "X_dev_limited = X_dev[['numfeatures']]\n",
    "accuracy_report('numfeatures', X_train_limited, y_train, X_dev_limited, y_dev)\n",
    "\n",
    "feature_list = ['year', 'month', 'day', 'weekday', 'hour', 'minute', 'second', 'hr_min',\n",
    "                'numphotos', 'numfeatures',\n",
    "                'price_per_bed','price_per_bath','price_per_room',\n",
    "                'price','bedrooms','bathrooms',\n",
    "                'strlen','numwords','numcaps','numpunct','richness']\n",
    "X_train_limited = X_train[feature_list]\n",
    "X_dev_limited =     X_dev[feature_list]\n",
    "accuracy_report('numfeatures+phtotos+text', X_train_limited, y_train, X_dev_limited, y_dev)"
   ]
  },
  {
   "cell_type": "code",
   "execution_count": 178,
   "metadata": {
    "collapsed": false
   },
   "outputs": [
    {
     "name": "stdout",
     "output_type": "stream",
     "text": [
      "('xt', (39481, 33), 'yt', (39481,), 'xd', (9871, 33), 'yd', (9871,))\n"
     ]
    }
   ],
   "source": [
    "print (\"xt\", X_train.shape, \"yt\", y_train.shape, \"xd\", X_dev.shape, \"yd\", y_dev.shape)"
   ]
  },
  {
   "cell_type": "markdown",
   "metadata": {},
   "source": [
    "## Compare addresses"
   ]
  },
  {
   "cell_type": "code",
   "execution_count": 179,
   "metadata": {
    "collapsed": false
   },
   "outputs": [
    {
     "name": "stdout",
     "output_type": "stream",
     "text": [
      "===============================\n",
      "RF Training Accuracy: 69.74% \t Test Accuracy: 68.71%\n",
      "RFC dev: \n",
      "             precision    recall  f1-score   support\n",
      "\n",
      "          1       0.69      0.99      0.81      6797\n",
      "          2       0.37      0.02      0.03      2334\n",
      "          3       0.16      0.00      0.01       740\n",
      "\n",
      "avg / total       0.58      0.69      0.57      9871\n",
      "\n",
      "[[   1 9750]\n",
      " [   2  102]\n",
      " [   3   19]]\n",
      "\n",
      "features\n",
      "['addr_dif']\n",
      "[ 1.]\n",
      "===============================\n",
      "RF Training Accuracy: 99.55% \t Test Accuracy: 70.96%\n",
      "RFC dev: \n",
      "             precision    recall  f1-score   support\n",
      "\n",
      "          1       0.76      0.92      0.83      6797\n",
      "          2       0.45      0.26      0.33      2334\n",
      "          3       0.49      0.19      0.28       740\n",
      "\n",
      "avg / total       0.67      0.71      0.67      9871\n",
      "\n",
      "[[   1 8213]\n",
      " [   2 1364]\n",
      " [   3  294]]\n",
      "\n",
      "features\n",
      "['hr_min', 'price_per_room', u'price', 'price_per_bed', 'richness', 'price_per_bath', 'second', 'numpunct', 'minute', 'numwords', 'numcaps', 'strlen', 'day', 'numfeatures', 'numphotos', 'hour', 'weekday', 'addr_dif', 'month', u'bedrooms', u'bathrooms', 'year']\n",
      "[ 0.07170339  0.0714442   0.07125993  0.06152218  0.05894567  0.05725352\n",
      "  0.05670272  0.05644007  0.05516974  0.05443418  0.05434029  0.0542836\n",
      "  0.0509212   0.04860633  0.04472535  0.03634334  0.03179414  0.02764254\n",
      "  0.01768744  0.01162522  0.00715495  0.        ]\n"
     ]
    }
   ],
   "source": [
    "def get_address_dif(orig):\n",
    "    dat = orig\n",
    "    street_addr_len = [len(sa) for sa in dat['street_address']]\n",
    "    display_addr_len = [len(da) for da in dat['display_address']]\n",
    "    dat.loc[:,'addr_dif'] = np.subtract(street_addr_len,display_addr_len)\n",
    "    return dat\n",
    "\n",
    "X_train = get_address_dif(X_train)\n",
    "X_dev =   get_address_dif(X_dev)\n",
    "\n",
    "\n",
    "X_train_limited = X_train[['addr_dif']]\n",
    "X_dev_limited = X_dev[['addr_dif']]\n",
    "accuracy_report('addrdiff', X_train_limited, y_train, X_dev_limited, y_dev)\n",
    "\n",
    "feature_list = ['year', 'month', 'day', 'weekday', 'hour', 'minute', 'second', 'hr_min',\n",
    "                'numphotos', 'numfeatures','addr_dif',\n",
    "                'price_per_bed','price_per_bath','price_per_room',\n",
    "                'price','bedrooms','bathrooms',\n",
    "                'strlen','numwords','numcaps','numpunct','richness']\n",
    "\n",
    "X_train_limited = X_train[feature_list]\n",
    "X_dev_limited = X_dev[feature_list]\n",
    "accuracy_report('full', X_train_limited, y_train, X_dev_limited, y_dev)\n"
   ]
  },
  {
   "cell_type": "markdown",
   "metadata": {},
   "source": [
    "## Adding in Neighborhoods"
   ]
  },
  {
   "cell_type": "code",
   "execution_count": 180,
   "metadata": {
    "collapsed": false
   },
   "outputs": [
    {
     "name": "stdout",
     "output_type": "stream",
     "text": [
      "===============================\n",
      "RF Training Accuracy: 69.72% \t Test Accuracy: 69.05%\n",
      "RFC dev: \n",
      "             precision    recall  f1-score   support\n",
      "\n",
      "          1       0.69      1.00      0.82      6797\n",
      "          2       0.39      0.01      0.02      2334\n",
      "          3       0.76      0.03      0.05       740\n",
      "\n",
      "avg / total       0.63      0.69      0.57      9871\n",
      "\n",
      "[[   1 9790]\n",
      " [   2   56]\n",
      " [   3   25]]\n",
      "\n",
      "features\n",
      "['neighborhood']\n",
      "[ 1.]\n",
      "===============================\n",
      "RF Training Accuracy: 99.51% \t Test Accuracy: 71.08%\n",
      "RFC dev: \n",
      "             precision    recall  f1-score   support\n",
      "\n",
      "          1       0.76      0.92      0.83      6797\n",
      "          2       0.45      0.26      0.33      2334\n",
      "          3       0.48      0.20      0.28       740\n",
      "\n",
      "avg / total       0.67      0.71      0.67      9871\n",
      "\n",
      "[[   1 8201]\n",
      " [   2 1366]\n",
      " [   3  304]]\n",
      "\n",
      "features\n",
      "['hr_min', u'price', 'price_per_room', 'price_per_bed', 'price_per_bath', 'numpunct', 'richness', 'second', 'strlen', 'minute', 'numcaps', 'numwords', 'day', 'numfeatures', 'neighborhood', 'numphotos', 'hour', 'weekday', 'addr_dif', 'month', u'bedrooms', u'bathrooms', 'year']\n",
      "[ 0.0722045   0.06694791  0.06605946  0.06295964  0.05817374  0.05413797\n",
      "  0.05400958  0.053859    0.05327243  0.05224914  0.0511931   0.05009508\n",
      "  0.04726418  0.04615735  0.04441572  0.04099972  0.03393251  0.03033173\n",
      "  0.02629506  0.0174768   0.01119095  0.00677442  0.        ]\n"
     ]
    }
   ],
   "source": [
    "from sklearn.cluster import KMeans\n",
    "np.random.seed(0)\n",
    "\n",
    "#from scipy import stats\n",
    "#remvoe outliers\n",
    "def remove_outliers(orig):\n",
    "    dat = orig\n",
    "    dat = dat[((dat.latitude - dat.latitude.mean()) / dat.latitude.std()).abs() < 3]\n",
    "    dat = dat[((dat.longitude - dat.longitude.mean()) / dat.longitude.std()).abs() < 3]\n",
    "    return dat\n",
    "\n",
    "X_train_no_outliers = remove_outliers(X_train)\n",
    "\n",
    "def make_neighborhoods(orig, num_clusters):\n",
    "    #returns a km, wth which we can classify other points\n",
    "    dat = orig[['latitude', 'longitude']].copy()\n",
    "    km = KMeans(num_clusters, random_state=1).fit(dat)\n",
    "    return km\n",
    "\n",
    "def fit_neighborhoods(orig, km):\n",
    "    dat = orig[['latitude', 'longitude']].copy()\n",
    "    dat2 = orig\n",
    "    dat2.loc[:,'neighborhood'] = km.predict(dat)\n",
    "    return dat2\n",
    "\n",
    "neighborhoods = make_neighborhoods(X_train, 50)\n",
    "X_train = fit_neighborhoods(X_train, neighborhoods)\n",
    "X_dev = fit_neighborhoods(X_dev, neighborhoods)\n",
    "\n",
    "X_train_limited = X_train[['neighborhood']]\n",
    "X_dev_limited = X_dev[['neighborhood']]\n",
    "accuracy_report('neighborhood', X_train_limited, y_train, X_dev_limited, y_dev)\n",
    "\n",
    "feature_list = ['year', 'month', 'day', 'weekday', 'hour', 'minute', 'second', 'hr_min',\n",
    "                'numphotos', 'numfeatures','addr_dif','neighborhood',\n",
    "                'price_per_bed','price_per_bath','price_per_room',\n",
    "                'price','bedrooms','bathrooms',\n",
    "                'strlen','numwords','numcaps','numpunct','richness']\n",
    "\n",
    "X_train_limited = X_train[feature_list]\n",
    "X_dev_limited = X_dev[feature_list]\n",
    "accuracy_report('full', X_train_limited, y_train, X_dev_limited, y_dev)\n"
   ]
  },
  {
   "cell_type": "code",
   "execution_count": 181,
   "metadata": {
    "collapsed": false
   },
   "outputs": [
    {
     "name": "stdout",
     "output_type": "stream",
     "text": [
      "('xt', (39481, 35), 'yt', (39481,), 'xd', (9871, 35), 'yd', (9871,))\n"
     ]
    }
   ],
   "source": [
    "print (\"xt\", X_train.shape, \"yt\", y_train.shape, \"xd\", X_dev.shape, \"yd\", y_dev.shape)"
   ]
  },
  {
   "cell_type": "code",
   "execution_count": 182,
   "metadata": {
    "collapsed": false
   },
   "outputs": [],
   "source": [
    "#mean clustering wasn't working as cleanly. trying w/o first\n",
    "k = '''def make_neighborhoods(orig, num_clusters):\n",
    "    #returns a km, wth which we can classify other points\n",
    "    dat = orig[['latitude', 'longitude']].copy()\n",
    "    lat_mean = dat['latitude'].mean() \n",
    "    lon_mean = dat['longitude'].mean()\n",
    "    lat_std = dat['latitude'].std() \n",
    "    lon_std = dat['longitude'].std()\n",
    "    \n",
    "    dat['lat_norm'] = (dat['latitude'] - lat_mean)/lat_std\n",
    "    dat['long_norm'] = (dat['longitude'] - lon_mean)/lon_std \n",
    "\n",
    "    km = KMeans(num_clusters, random_state=1).fit(dat[['lat_norm','long_norm']])\n",
    "    return km, lat_mean, lon_mean, lat_std, lon_std\n",
    "\n",
    "def fit_neighborhoods(orig, km, lat_mean, lon_mean, lat_std, lon_std):\n",
    "    dat = orig[['latitude', 'longitude']].copy()\n",
    "    \n",
    "    lat_mean = dat['latitude'].mean() \n",
    "    lon_mean = dat['longitude'].mean()\n",
    "    lat_std = dat['latitude'].std() \n",
    "    lon_std = dat['longitude'].std()\n",
    "    \n",
    "    #normalize\n",
    "    dat['lat_norm'] = (dat['latitude'] - lat_mean)/lat_std\n",
    "    dat['long_norm'] = (dat['longitude'] - lon_mean)/lon_std \n",
    "\n",
    "    dat2 = orig\n",
    "    dat2['neighborhood'] = km.predict(dat[['lat_norm','long_norm']])\n",
    "    return dat2\n",
    "    \n",
    "#need to get these beofre running others\n",
    "km, lat_mean, lon_mean, lat_std, lon_std = make_neighborhoods(X_train_no_outliers, 100) #todo justify choice, show graph num v reward\n",
    "\n",
    "X_train = fit_neighborhoods(X_train, km, lat_mean, lon_mean, lat_std, lon_std)\n",
    "X_dev = fit_neighborhoods(X_dev, km, lat_mean, lon_mean, lat_std, lon_std)\n",
    "print X_train[['latitude','longitude','neighborhood']].head(50)\n",
    "print X_dev[['latitude','longitude','neighborhood']].head(50)'''"
   ]
  },
  {
   "cell_type": "code",
   "execution_count": 183,
   "metadata": {
    "collapsed": false
   },
   "outputs": [
    {
     "name": "stdout",
     "output_type": "stream",
     "text": [
      "('xt', (39481, 35), 'yt', (39481,), 'xd', (9871, 35), 'yd', (9871,))\n"
     ]
    }
   ],
   "source": [
    "print (\"xt\", X_train.shape, \"yt\", y_train.shape, \"xd\", X_dev.shape, \"yd\", y_dev.shape)"
   ]
  },
  {
   "cell_type": "markdown",
   "metadata": {},
   "source": [
    "## Description Preprocessing"
   ]
  },
  {
   "cell_type": "code",
   "execution_count": 184,
   "metadata": {
    "collapsed": true
   },
   "outputs": [],
   "source": [
    "#Preprocessor\n",
    "def pre_proc(s,\n",
    "              word_length_range=(3,7),\n",
    "              remove_stop_words=True,\n",
    "              scale_capitals=1,\n",
    "              set_to_lower=True,\n",
    "              remove_numbers=False\n",
    "             ):\n",
    "   \n",
    "    s2 = re.sub(ur\"\\p{P}+\",\"\",s) #strip punctuation\n",
    "    s2 = re.sub(ur\"[^\\w ]+\",\" \",s2) #remove punctuation2\n",
    "    s2 = re.sub(ur\"\\_\",\"\",s2) #remove underscores (ignored by w)\n",
    "    \n",
    "    #http://stackoverflow.com/questions/8745821/find-words-with-capital-letters-not-at-start-of-a-sentence-with-regex\n",
    "    #doesn't matter if at start of sentence, often it's the key NP. If a stopword, those get stripped anyway\n",
    "    names = \" \"+\" \".join(re.findall(ur'\\b[A-Z][A-Za-z0-9]*\\b',s2))\n",
    "    for i in range(0,scale_capitals):\n",
    "        s2 = s2 + names\n",
    "        \n",
    "    if set_to_lower:\n",
    "        s2 = s2.lower() #lower case\n",
    "\n",
    "    s2 = re.sub(ur\"\\s+\", \" \",s2) #remove mult spaces (avoids cases with double spaces for look behind)\n",
    "    \n",
    "    if remove_numbers:\n",
    "        s2 = re.sub(ur\"\\d\", \" \",s2) #remove all numbers\n",
    "\n",
    "    truncation_re = ur\"(?<=(\\s\\w{\"+ur\"{}\".format(word_length_range[1])+ur\"}))(\\w*\\s)\"\n",
    "    s2 = re.sub(truncation_re,\"\\1 \",s2) #truncate words > n char\n",
    "\n",
    "    short_elim_re = ur\"\\b\\w{1,\"+ur\"{}\".format(word_length_range[0])+ur\"}\\b\"\n",
    "    s2 = re.sub(short_elim_re, \"\", s2) #removes all words/numbers < n in length\n",
    "    \n",
    "    #remomve stop words\n",
    "    if remove_stop_words:\n",
    "        s2_split = s2.split()\n",
    "        s3_split = s2.split()\n",
    "        for key in s2_split:\n",
    "            if key.lower in stop_words:\n",
    "                s3_split.remove(key)\n",
    "        s2 =' '.join(s3_split)\n",
    "    return s2\n",
    "\n"
   ]
  },
  {
   "cell_type": "code",
   "execution_count": 185,
   "metadata": {
    "collapsed": false
   },
   "outputs": [],
   "source": [
    "pre_proc_custom = lambda x: pre_proc(x, \n",
    "                                      word_length_range = (3,8), \n",
    "                                      remove_stop_words = False, \n",
    "                                      scale_capitals = 1, \n",
    "                                      set_to_lower = True,\n",
    "                                      remove_numbers = False\n",
    "                                     )\n",
    "\n",
    "mytv = TfidfVectorizer(ngram_range=(1,1), \n",
    "                       analyzer='word', \n",
    "                       preprocessor=pre_proc_custom)\n",
    "mytv.fit_transform(X_train['description'].values)\n",
    "train_words = mytv.get_feature_names()"
   ]
  },
  {
   "cell_type": "code",
   "execution_count": 186,
   "metadata": {
    "collapsed": false
   },
   "outputs": [
    {
     "name": "stdout",
     "output_type": "stream",
     "text": [
      "===============================\n",
      "RF Training Accuracy: 94.36% \t Test Accuracy: 67.12%\n",
      "RFC dev: \n",
      "             precision    recall  f1-score   support\n",
      "\n",
      "          1       0.76      0.85      0.80      6797\n",
      "          2       0.39      0.29      0.33      2334\n",
      "          3       0.30      0.20      0.24       740\n",
      "\n",
      "avg / total       0.64      0.67      0.65      9871\n",
      "\n",
      "[[   1 7661]\n",
      " [   2 1716]\n",
      " [   3  494]]\n",
      "\n",
      "features\n",
      "['desc_2', 'desc_1', 'desc_3']\n",
      "[ 0.40850561  0.30262896  0.28886544]\n",
      "===============================\n",
      "RF Training Accuracy: 99.57% \t Test Accuracy: 70.29%\n",
      "RFC dev: \n",
      "             precision    recall  f1-score   support\n",
      "\n",
      "          1       0.78      0.88      0.83      6797\n",
      "          2       0.44      0.32      0.37      2334\n",
      "          3       0.38      0.23      0.29       740\n",
      "\n",
      "avg / total       0.67      0.70      0.68      9871\n",
      "\n",
      "[[   1 7681]\n",
      " [   2 1734]\n",
      " [   3  456]]\n",
      "\n",
      "features\n",
      "['desc_1', 'desc_2', 'desc_3', 'hr_min', u'price', 'price_per_bed', 'price_per_bath', 'price_per_room', 'second', 'minute', 'day', 'richness', 'numpunct', 'numcaps', 'numwords', 'strlen', 'numfeatures', 'neighborhood', 'numphotos', 'hour', 'weekday', 'addr_dif', 'month', u'bedrooms', u'bathrooms', 'year']\n",
      "[ 0.18436905  0.1577972   0.08724933  0.04217637  0.04057206  0.03988315\n",
      "  0.03483545  0.03450518  0.03414718  0.03253672  0.02971576  0.02949293\n",
      "  0.02835046  0.02679303  0.02659281  0.02625154  0.02385614  0.02298168\n",
      "  0.02250662  0.02078246  0.01810726  0.01547067  0.00979954  0.00762688\n",
      "  0.00360054  0.        ]\n"
     ]
    }
   ],
   "source": [
    "def get_desc_mnb(X, y):    \n",
    "    mytv_dev = TfidfVectorizer(ngram_range=(1,1), \n",
    "                           analyzer='word', \n",
    "                           preprocessor=pre_proc_custom,  #set above\n",
    "                           vocabulary=train_words) #also set above\n",
    "    \n",
    "    X_dev_words = mytv_dev.fit_transform(X['description'].values) \n",
    "    \n",
    "    mnb = MultinomialNB(alpha = 0.009)\n",
    "    mnb.fit(X_dev_words, y)\n",
    "    return mnb\n",
    "\n",
    "my_desc_mnb = get_desc_mnb(X_train, y_train)\n",
    "\n",
    "def get_description_scores(X, mnb):\n",
    "    mytv_dev = TfidfVectorizer(ngram_range=(1,1), \n",
    "                           analyzer='word', \n",
    "                           preprocessor=pre_proc_custom,  #set above\n",
    "                           vocabulary=train_words) #also set above\n",
    "    \n",
    "    X_dev_words = mytv_dev.fit_transform(X['description'].values) \n",
    "    \n",
    "    pred_train = mnb.predict_proba(X_dev_words)\n",
    "    #print pred_train\n",
    "    #print mnb.classes_\n",
    "    \n",
    "    dat = X\n",
    "    dat.loc[:,'desc_1'] = pred_train[:,0]\n",
    "    dat.loc[:,'desc_2'] = pred_train[:,1]\n",
    "    dat.loc[:,'desc_3'] = pred_train[:,2]\n",
    "    return dat\n",
    "\n",
    "X_train = get_description_scores(X_train, my_desc_mnb)\n",
    "X_dev = get_description_scores(X_dev, my_desc_mnb)\n",
    "\n",
    "desc_list = ['desc_1','desc_2','desc_3']\n",
    "\n",
    "X_train_limited = X_train[desc_list]\n",
    "X_dev_limited = X_dev[desc_list]\n",
    "accuracy_report('desc', X_train_limited, y_train, X_dev_limited, y_dev)\n",
    "\n",
    "feature_list = ['desc_1','desc_2','desc_3',\n",
    "                'year', 'month', 'day', 'weekday', 'hour', 'minute', 'second', 'hr_min',\n",
    "                'numphotos', 'numfeatures','addr_dif','neighborhood',\n",
    "                'price_per_bed','price_per_bath','price_per_room',\n",
    "                'price','bedrooms','bathrooms',\n",
    "                'strlen','numwords','numcaps','numpunct','richness']\n",
    "\n",
    "X_train_limited = X_train[feature_list]\n",
    "X_dev_limited = X_dev[feature_list]\n",
    "accuracy_report('full', X_train_limited, y_train, X_dev_limited, y_dev)\n"
   ]
  },
  {
   "cell_type": "code",
   "execution_count": 187,
   "metadata": {
    "collapsed": false
   },
   "outputs": [
    {
     "name": "stdout",
     "output_type": "stream",
     "text": [
      "('xt', (39481, 38), 'yt', (39481,), 'xd', (9871, 38), 'yd', (9871,))\n"
     ]
    }
   ],
   "source": [
    "print (\"xt\", X_train.shape, \"yt\", y_train.shape, \"xd\", X_dev.shape, \"yd\", y_dev.shape)"
   ]
  },
  {
   "cell_type": "markdown",
   "metadata": {},
   "source": [
    "## Feature Cleanup and Text Processing"
   ]
  },
  {
   "cell_type": "code",
   "execution_count": 188,
   "metadata": {
    "collapsed": false
   },
   "outputs": [],
   "source": [
    "def clean(s):\n",
    "    for i,x in enumerate(s):\n",
    "        x = x.lower()\n",
    "        x = x.strip()\n",
    "        x = x.replace(\"-\", \"\")\n",
    "        x = x.replace(\" \", \"\")\n",
    "        x = x.replace(\"twenty four hour\", \"24\")\n",
    "        x = x.replace(\"24/7\", \"24\")\n",
    "        x = x.replace(\"24hr\", \"24\")\n",
    "        x = x.replace(\"24-hour\", \"24\")\n",
    "        x = x.replace(\"24hour\", \"24\")\n",
    "        x = x.replace(\"24 hour\", \"24\")\n",
    "        x = x.replace(\"common\", \"cm\")\n",
    "        x = x.replace(\"concierge\", \"doorman\")\n",
    "        x = x.replace(\"bicycle\", \"bike\")\n",
    "        x = x.replace(\"private\", \"pv\")\n",
    "        x = x.replace(\"deco\", \"dc\")\n",
    "        x = x.replace(\"decorative\", \"dc\")\n",
    "        x = x.replace(\"onsite\", \"os\")\n",
    "        x = x.replace(\"outdoor\", \"od\")\n",
    "        x = x.replace(\"ss appliances\", \"stainless\")\n",
    "        s[i] = x\n",
    "    return s\n",
    "\n",
    "def clean_features(orig):\n",
    "    dat = orig\n",
    "    dat.loc[:,'cleaned_features'] = [' '.join(clean(f)) for f in dat['features'].values]\n",
    "    return dat\n",
    "\n",
    "X_train = clean_features(X_train)"
   ]
  },
  {
   "cell_type": "code",
   "execution_count": 189,
   "metadata": {
    "collapsed": false
   },
   "outputs": [
    {
     "name": "stdout",
     "output_type": "stream",
     "text": [
      "('xt', (39481, 39), 'xtl', (39481, 26), 'yt', (39481,), 'xd', (9871, 38), 'xtl', (9871, 26), 'yd', (9871,))\n"
     ]
    }
   ],
   "source": [
    "print (\"xt\", X_train.shape, \"xtl\", X_train_limited.shape, \"yt\", y_train.shape, \n",
    "       \"xd\", X_dev.shape, \"xtl\", X_dev_limited.shape, \"yd\", y_dev.shape)"
   ]
  },
  {
   "cell_type": "markdown",
   "metadata": {},
   "source": [
    "## Run Analysis on Features"
   ]
  },
  {
   "cell_type": "code",
   "execution_count": 190,
   "metadata": {
    "collapsed": false
   },
   "outputs": [
    {
     "name": "stdout",
     "output_type": "stream",
     "text": [
      "===============================\n",
      "RF Training Accuracy: 71.89% \t Test Accuracy: 68.18%\n",
      "RFC dev: \n",
      "             precision    recall  f1-score   support\n",
      "\n",
      "          1       0.70      0.96      0.81      6797\n",
      "          2       0.37      0.07      0.12      2334\n",
      "          3       0.23      0.02      0.04       740\n",
      "\n",
      "avg / total       0.59      0.68      0.59      9871\n",
      "\n",
      "[[   1 9348]\n",
      " [   2  453]\n",
      " [   3   70]]\n",
      "\n",
      "features\n",
      "['feat_2', 'feat_3', 'feat_1']\n",
      "[ 0.33881063  0.33435121  0.32683816]\n",
      "===============================\n",
      "RF Training Accuracy: 99.60% \t Test Accuracy: 70.24%\n",
      "RFC dev: \n",
      "             precision    recall  f1-score   support\n",
      "\n",
      "          1       0.78      0.89      0.83      6797\n",
      "          2       0.43      0.31      0.36      2334\n",
      "          3       0.38      0.23      0.28       740\n",
      "\n",
      "avg / total       0.67      0.70      0.68      9871\n",
      "\n",
      "[[   1 7725]\n",
      " [   2 1703]\n",
      " [   3  443]]\n",
      "\n",
      "features\n",
      "['desc_2', 'desc_1', 'desc_3', u'price', 'hr_min', 'price_per_bath', 'price_per_bed', 'price_per_room', 'second', 'minute', 'day', 'richness', 'numpunct', 'numcaps', 'feat_3', 'feat_2', 'strlen', 'numwords', 'feat_1', 'numphotos', 'neighborhood', 'numfeatures', 'hour', 'weekday', 'addr_dif', 'month', u'bedrooms', u'bathrooms', 'year']\n",
      "[ 0.15381532  0.15373166  0.09655307  0.04103807  0.03877764  0.03558049\n",
      "  0.03512841  0.03400802  0.03073592  0.02988186  0.02757934  0.02544851\n",
      "  0.02519383  0.02427284  0.02419877  0.0241664   0.02413287  0.02390287\n",
      "  0.02298176  0.02019619  0.01984343  0.01928836  0.01855724  0.0170384\n",
      "  0.01407235  0.00929829  0.0073608   0.00321729  0.        ]\n"
     ]
    }
   ],
   "source": [
    "mytv = TfidfVectorizer(ngram_range=(1,1), \n",
    "                       analyzer='word', \n",
    "                      ) #preprocessor=pre_proc_custom) #no preprocessor\n",
    "\n",
    "mytv.fit_transform(X_train['cleaned_features'].values)\n",
    "train_words = mytv.get_feature_names()\n",
    "\n",
    "def get_feature_mnb(X, y):\n",
    "    X = clean_features(X)\n",
    "    mytv_dev = TfidfVectorizer(ngram_range=(1,1), \n",
    "                           analyzer='word', \n",
    "                           #preprocessor=pre_proc_custom,  #set above\n",
    "                           vocabulary=train_words) #also set above\n",
    "    \n",
    "    X_dev_words = mytv_dev.fit_transform(X['cleaned_features'].values) \n",
    "    \n",
    "    mnb = MultinomialNB(alpha = 0.009)\n",
    "    mnb.fit(X_dev_words, y)\n",
    "    return mnb\n",
    "\n",
    "def get_feature_scores(X, mnb):\n",
    "    X = clean_features(X)\n",
    "    mytv_dev = TfidfVectorizer(ngram_range=(1,1), \n",
    "                           analyzer='word', \n",
    "                           preprocessor=pre_proc_custom,  #set above\n",
    "                           vocabulary=train_words) #also set above\n",
    "    \n",
    "    X_dev_words = mytv_dev.fit_transform(X['cleaned_features'].values) \n",
    "    \n",
    "    pred_train = mnb.predict_proba(X_dev_words)\n",
    "    #print pred_train\n",
    "    #print mnb.classes_\n",
    "    \n",
    "    dat = X\n",
    "    dat.loc[:,'feat_1'] = pred_train[:,0]\n",
    "    dat.loc[:,'feat_2'] = pred_train[:,1]\n",
    "    dat.loc[:,'feat_3'] = pred_train[:,2]\n",
    "    return dat\n",
    "\n",
    "my_feature_mnb = get_feature_mnb(X_train, y_train)\n",
    "X_train = get_feature_scores(X_train, my_feature_mnb)\n",
    "X_dev = get_feature_scores(X_dev, my_feature_mnb)\n",
    "\n",
    "feat_list = ['feat_1','feat_2','feat_3']\n",
    "\n",
    "X_train_limited = X_train[feat_list]\n",
    "X_dev_limited = X_dev[feat_list]\n",
    "accuracy_report('feat', X_train_limited, y_train, X_dev_limited, y_dev)\n",
    "\n",
    "feature_list = ['feat_1','feat_2','feat_3', 'desc_1','desc_2','desc_3',\n",
    "                'year', 'month', 'day', 'weekday', 'hour', 'minute', 'second', 'hr_min',\n",
    "                'numphotos', 'numfeatures','addr_dif','neighborhood',\n",
    "                'price_per_bed','price_per_bath','price_per_room',\n",
    "                'price','bedrooms','bathrooms',\n",
    "                'strlen','numwords','numcaps','numpunct','richness']\n",
    "\n",
    "X_train_limited = X_train[feature_list]\n",
    "X_dev_limited = X_dev[feature_list]\n",
    "accuracy_report('full', X_train_limited, y_train, X_dev_limited, y_dev)"
   ]
  },
  {
   "cell_type": "code",
   "execution_count": 192,
   "metadata": {
    "collapsed": false
   },
   "outputs": [
    {
     "name": "stdout",
     "output_type": "stream",
     "text": [
      "('xt', (39481, 42), 'xtl', (39481, 29), 'yt', (39481,), 'xd', (9871, 42), 'xtl', (9871, 29), 'yd', (9871,))\n"
     ]
    }
   ],
   "source": [
    "print (\"xt\", X_train.shape, \"xtl\", X_train_limited.shape, \"yt\", y_train.shape, \n",
    "       \"xd\", X_dev.shape, \"xtl\", X_dev_limited.shape, \"yd\", y_dev.shape)"
   ]
  },
  {
   "cell_type": "code",
   "execution_count": 193,
   "metadata": {
    "collapsed": false
   },
   "outputs": [],
   "source": [
    "X_test = test_df\n",
    "X_test = add_txt_features(X_test)\n",
    "X_test = add_price_features(X_test)\n",
    "X_test = get_num_photos(X_test)\n",
    "X_test = add_time_features(X_test)\n",
    "X_test = get_num_features(X_test)\n",
    "X_test = get_address_dif(X_test)\n",
    "\n",
    "neighborhoods = make_neighborhoods(X_train, 50)\n",
    "X_test = fit_neighborhoods(X_test, neighborhoods)\n",
    "\n",
    "my_desc_mnb = get_desc_mnb(X_train, y_train)\n",
    "X_test = get_description_scores(X_test,my_desc_mnb)\n",
    "\n",
    "my_feature_mnb = get_feature_mnb(X_train, y_train)\n",
    "X_test = get_feature_scores(X_test, my_feature_mnb)"
   ]
  },
  {
   "cell_type": "code",
   "execution_count": 194,
   "metadata": {
    "collapsed": false
   },
   "outputs": [
    {
     "name": "stdout",
     "output_type": "stream",
     "text": [
      "('xt', (39481, 42), 'xtl', (39481, 29), 'yt', (39481,), 'xd', (9871, 42), 'xtl', (9871, 29), 'yd', (9871,), 'xtst', (74659, 42))\n"
     ]
    }
   ],
   "source": [
    "print (\"xt\", X_train.shape, \"xtl\", X_train_limited.shape, \"yt\", y_train.shape, \n",
    "       \"xd\", X_dev.shape, \"xtl\", X_dev_limited.shape, \"yd\", y_dev.shape,\n",
    "      \"xtst\", X_test.shape)"
   ]
  },
  {
   "cell_type": "code",
   "execution_count": 195,
   "metadata": {
    "collapsed": false
   },
   "outputs": [
    {
     "name": "stdout",
     "output_type": "stream",
     "text": [
      "(74659, 29)\n"
     ]
    }
   ],
   "source": [
    "feature_list = ['feat_1','feat_2','feat_3', 'desc_1','desc_2','desc_3',\n",
    "                'year', 'month', 'day', 'weekday', 'hour', 'minute', 'second', 'hr_min',\n",
    "                'numphotos', 'numfeatures','addr_dif','neighborhood',\n",
    "                'price_per_bed','price_per_bath','price_per_room',\n",
    "                'price','bedrooms','bathrooms',\n",
    "                'strlen','numwords','numcaps','numpunct','richness','listing_id']\n",
    "\n",
    "X_test_limited = X_test[feature_list]\n",
    "X_test_limited = X_test_limited.set_index('listing_id')\n",
    "print X_test_limited.shape"
   ]
  },
  {
   "cell_type": "code",
   "execution_count": 196,
   "metadata": {
    "collapsed": false
   },
   "outputs": [
    {
     "name": "stdout",
     "output_type": "stream",
     "text": [
      "('xt', (39481, 42), 'xtl', (39481, 29), 'yt', (39481,), 'xd', (9871, 42), 'xtl', (9871, 29), 'yd', (9871,), 'xtst', (74659, 42), 'xtstl', (74659, 29))\n"
     ]
    }
   ],
   "source": [
    "print (\"xt\", X_train.shape, \"xtl\", X_train_limited.shape, \"yt\", y_train.shape, \n",
    "       \"xd\", X_dev.shape, \"xtl\", X_dev_limited.shape, \"yd\", y_dev.shape,\n",
    "      \"xtst\", X_test.shape, \"xtstl\", X_test_limited.shape)"
   ]
  },
  {
   "cell_type": "code",
   "execution_count": 197,
   "metadata": {
    "collapsed": false
   },
   "outputs": [
    {
     "name": "stdout",
     "output_type": "stream",
     "text": [
      "(39481, 29)\n",
      "(74659, 3)\n",
      "            high  medium   low\n",
      "listing_id                    \n",
      "7142618     0.05    0.05  0.90\n",
      "7210040     0.25    0.20  0.55\n",
      "7103890     0.05    0.25  0.70\n",
      "7143442     0.10    0.20  0.70\n",
      "6860601     0.05    0.25  0.70\n",
      "6840081     0.00    0.00  1.00\n",
      "6922337     0.30    0.25  0.45\n",
      "6913616     0.10    0.45  0.45\n",
      "6937820     0.05    0.10  0.85\n",
      "6893933     0.00    0.30  0.70\n",
      "6832604     0.00    0.00  1.00\n",
      "6915282     0.00    0.30  0.70\n",
      "7127565     0.00    0.25  0.75\n",
      "6827899     0.00    0.00  1.00\n",
      "6934855     0.00    0.05  0.95\n",
      "6861826     0.10    0.25  0.65\n",
      "6871643     0.10    0.10  0.80\n",
      "6842542     0.05    0.05  0.90\n",
      "6934145     0.00    0.20  0.80\n",
      "6829365     0.30    0.15  0.55\n",
      "7167858     0.10    0.15  0.75\n",
      "6859483     0.10    0.30  0.60\n",
      "6861377     0.05    0.15  0.80\n",
      "6848960     0.10    0.15  0.75\n",
      "6918850     0.00    0.05  0.95\n",
      "6916867     0.05    0.40  0.55\n",
      "6895840     0.00    0.05  0.95\n",
      "6813539     0.50    0.30  0.20\n",
      "7116900     0.35    0.20  0.45\n",
      "6890328     0.30    0.20  0.50\n",
      "...          ...     ...   ...\n",
      "6855560     0.05    0.15  0.80\n",
      "6816731     0.10    0.30  0.60\n",
      "6925764     0.05    0.20  0.75\n",
      "7139280     0.05    0.15  0.80\n",
      "6913068     0.00    0.30  0.70\n",
      "6828445     0.00    0.30  0.70\n",
      "6867865     0.00    0.25  0.75\n",
      "6820397     0.00    0.10  0.90\n",
      "6852197     0.25    0.30  0.45\n",
      "7122934     0.05    0.35  0.60\n",
      "6907838     0.00    0.10  0.90\n",
      "6865896     0.00    0.00  1.00\n",
      "6840250     0.20    0.20  0.60\n",
      "6926011     0.00    0.30  0.70\n",
      "6893100     0.20    0.35  0.45\n",
      "6867538     0.10    0.00  0.90\n",
      "6884360     0.05    0.50  0.45\n",
      "6903964     0.00    0.00  1.00\n",
      "6907851     0.05    0.05  0.90\n",
      "7211166     0.10    0.20  0.70\n",
      "6844290     0.15    0.40  0.45\n",
      "6947597     0.30    0.30  0.40\n",
      "6895423     0.00    0.20  0.80\n",
      "6812077     0.05    0.00  0.95\n",
      "6903956     0.00    0.00  1.00\n",
      "6881005     0.00    0.15  0.85\n",
      "6835379     0.00    0.00  1.00\n",
      "6882352     0.00    0.25  0.75\n",
      "6884758     0.45    0.40  0.15\n",
      "6924212     0.10    0.30  0.60\n",
      "\n",
      "[74659 rows x 3 columns]\n"
     ]
    }
   ],
   "source": [
    "X_train_limited = X_train[feature_list]\n",
    "X_train_limited = X_train_limited.set_index('listing_id')\n",
    "\n",
    "rfc = RandomForestClassifier(n_estimators=20, n_jobs=-1) #-1 means use all available cores\n",
    "rfc.fit(X_train_limited, y_train)\n",
    "print X_train_limited.shape\n",
    "labels = rfc.classes_\n",
    "\n",
    "predictions = rfc.predict_proba(X_test_limited)\n",
    "print predictions.shape\n",
    "\n",
    "temp = X_test_limited\n",
    "temp.loc[:,'high'] = predictions[:,2]\n",
    "temp.loc[:,'medium'] = predictions[:,1]\n",
    "temp.loc[:,'low'] = predictions[:,0]\n",
    "\n",
    "final_table = temp[['high','medium', 'low']]\n",
    "\n",
    "print final_table\n",
    "\n",
    "#final_table.to_csv(\"sumbmission002.csv\", index=True)"
   ]
  },
  {
   "cell_type": "code",
   "execution_count": 198,
   "metadata": {
    "collapsed": false
   },
   "outputs": [
    {
     "data": {
      "image/png": "[encoded data removed]",
      "text/plain": [
       "<matplotlib.figure.Figure at 0x1288c62d0>"
      ]
     },
     "metadata": {},
     "output_type": "display_data"
    },
    {
     "name": "stdout",
     "output_type": "stream",
     "text": [
      "              feat_1    feat_2    feat_3    desc_1    desc_2    desc_3  year  \\\n",
      "listing_id                                                                     \n",
      "6879986     0.696208  0.225298  0.078493  0.721063  0.199006  0.079931  2016   \n",
      "\n",
      "            month  day  weekday    ...     price_per_bath  price_per_room  \\\n",
      "listing_id                         ...                                      \n",
      "6879986         4   15        4    ...          3249.9675     1624.991875   \n",
      "\n",
      "            price  bedrooms  bathrooms  strlen  numwords  numcaps  numpunct  \\\n",
      "listing_id                                                                    \n",
      "6879986      3250         1        1.0     145        26      145         5   \n",
      "\n",
      "            richness  \n",
      "listing_id            \n",
      "6879986     0.199999  \n",
      "\n",
      "[1 rows x 29 columns]\n"
     ]
    }
   ],
   "source": [
    "from sklearn.decomposition import PCA\n",
    "import matplotlib.pyplot as plt\n",
    "\n",
    "pca = PCA()\n",
    "X_transformed = pca.fit_transform(X_train_limited)\n",
    "pca.fit(X_train_limited)\n",
    "pca.explained_variance_ratio_\n",
    "plt.plot(pca.explained_variance_)\n",
    "plt.show()\n",
    "\n",
    "print(X_train_limited.head(1))"
   ]
  },
  {
   "cell_type": "code",
   "execution_count": 199,
   "metadata": {
    "collapsed": false
   },
   "outputs": [
    {
     "name": "stdout",
     "output_type": "stream",
     "text": [
      "2\n"
     ]
    }
   ],
   "source": [
    "num_comp = np.sum(np.cumsum(pca.explained_variance_ratio_) < .99)\n",
    "print num_comp\n",
    "X_limited_reduced = pca.transform(X_train_limited)[:, :num_comp]\n"
   ]
  },
  {
   "cell_type": "code",
   "execution_count": 200,
   "metadata": {
    "collapsed": false
   },
   "outputs": [],
   "source": [
    "comp0 = pd.Series(dict(zip(X_train_limited.columns, y_train)))\n",
    "col_order = comp0.sort_values().index\n"
   ]
  },
  {
   "cell_type": "code",
   "execution_count": 201,
   "metadata": {
    "collapsed": false,
    "scrolled": false
   },
   "outputs": [
    {
     "data": {
      "image/png": "[encoded data removed]",
      "text/plain": [
       "<matplotlib.figure.Figure at 0x12465b150>"
      ]
     },
     "metadata": {},
     "output_type": "display_data"
    }
   ],
   "source": [
    "#plt.figure(figsize=(4, 24))\n",
    "comp0[col_order].plot(kind='barh')\n",
    "plt.show()\n",
    "#why is year so high when they all have same one!? this seems wrong"
   ]
  },
  {
   "cell_type": "code",
   "execution_count": 202,
   "metadata": {
    "collapsed": false
   },
   "outputs": [
    {
     "name": "stdout",
     "output_type": "stream",
     "text": [
      "((39481, 42), (9871, 42), (39481, 3), (9871, 3), (39481,), (9871,))\n",
      "===============================\n",
      "RF Training Accuracy: 79.24% \t Test Accuracy: 68.39%\n",
      "RFC dev: \n",
      "             precision    recall  f1-score   support\n",
      "\n",
      "          1       0.76      0.88      0.81      6797\n",
      "          2       0.39      0.25      0.30      2334\n",
      "          3       0.40      0.25      0.31       740\n",
      "\n",
      "avg / total       0.64      0.68      0.66      9871\n",
      "\n",
      "[[   1 7919]\n",
      " [   2 1477]\n",
      " [   3  475]]\n",
      "\n",
      "features\n",
      "['price_per_bed', u'price', 'neighborhood']\n",
      "[ 0.39698603  0.36514268  0.23787129]\n"
     ]
    }
   ],
   "source": [
    "feature_list = ['neighborhood','price','price_per_bed']\n",
    "\n",
    "X_train_limited_reduced_pca_3 = X_train_limited[feature_list]\n",
    "X_dev_limited_reduced_pca_3 = X_dev_limited[feature_list]\n",
    "\n",
    "print(X_train.shape, X_dev.shape,\n",
    "      X_train_limited_reduced_pca_3.shape, \n",
    "      X_dev_limited_reduced_pca_3.shape, \n",
    "      y_train.shape, \n",
    "      y_dev.shape)\n",
    "accuracy_report('top3', X_train_limited_reduced_pca_3, \n",
    "                y_train, \n",
    "                X_dev_limited_reduced_pca_3,\n",
    "                y_dev)\n"
   ]
  },
  {
   "cell_type": "code",
   "execution_count": null,
   "metadata": {
    "collapsed": true
   },
   "outputs": [],
   "source": []
  }
 ],
 "metadata": {
  "anaconda-cloud": {},
  "kernelspec": {
   "display_name": "Python [conda root]",
   "language": "python",
   "name": "conda-root-py"
  },
  "language_info": {
   "codemirror_mode": {
    "name": "ipython",
    "version": 2
   },
   "file_extension": ".py",
   "mimetype": "text/x-python",
   "name": "python",
   "nbconvert_exporter": "python",
   "pygments_lexer": "ipython2",
   "version": "2.7.13"
  }
 },
 "nbformat": 4,
 "nbformat_minor": 0
}
