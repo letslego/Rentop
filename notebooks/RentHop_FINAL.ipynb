{
 "cells": [
  {
   "cell_type": "markdown",
   "metadata": {},
   "source": [
    "# Rentop Kaggle Competition\n",
    "\n",
    "W207-3 Spring 2017\n",
    "\n",
    "Team members: Stephanie Fan, Boris Kletser, Amitabha Karmakar \n",
    "\n",
    "**Goal:** Use rental listing features to predict interest in rental inquiries.\n",
    "\n",
    "- [Kaggle Competition](https://www.kaggle.com/c/two-sigma-connect-rental-listing-inquiries)\n",
    "- Public Tableau Link: _____\n",
    "- [Notebooks and Code](https://github.com/letslego/Rentop/)"
   ]
  },
  {
   "cell_type": "markdown",
   "metadata": {},
   "source": [
    "## Business Understanding\n",
    "\n"
   ]
  },
  {
   "cell_type": "markdown",
   "metadata": {},
   "source": [
    "**Problem:** The problem we are trying to solve is two-fold: First, it is to provide feedback to owners and agents on how to optimize listings to generate interest. Secondly, it helps RentHop identify potential issues with listings and fraud. Both of these should help customers better identify relevant listings.\n",
    "\n",
    "**Metrics:** The relevant metric is accurate prediction of high, medium, and low interest. \n",
    "We would like to increase accuracy to 80% correct identification of high, medium, or low interest.\n",
    "\n",
    "**Delivery:** We will deliver a model that predicts the probability of high, medium, and low interest for a given listing.\n",
    "\n",
    "*Note:* For the purposes of this assignment, we will not be doing analysis of images provided with the competition and will mainly be focusing on using existing features (e.g. text, and values) to try to predict interest level."
   ]
  },
  {
   "cell_type": "markdown",
   "metadata": {},
   "source": [
    "## Data Understanding"
   ]
  },
  {
   "cell_type": "markdown",
   "metadata": {},
   "source": [
    "**Sources:**\n",
    "- train.json:  49352 records over 15 columns\n",
    "- test.json:   74659 records over 14 columns\n",
    "\n",
    "Each row is a listing; each column is a feature. The extra column in train.json is the interest level, which we need to predict for test.json."
   ]
  },
  {
   "cell_type": "markdown",
   "metadata": {},
   "source": [
    "**Existing Features:**\n",
    "    \n",
    "|Feature Type|Columns|Type|Notes|\n",
    "|---|---|---|---|\n",
    "|IDs|building_id|Long string||\n",
    "||listing_id|7 digit num||\n",
    "||manager_id|Long string||\n",
    "|Location|street_address|Text||\n",
    "||display_address|Text||\n",
    "||latitude|Float|New York City only|\n",
    "||longitude|Float|New York City only|\n",
    "|Features|bathrooms|Int|(mean 1.2, sd 0.5)|\n",
    "||bedrooms|Int|(mean 1.5, sd 1.1)|\n",
    "||descriptions|Text||\n",
    "||price|Int||\n",
    "||created|Date|Dates between 2016-04 and 2016-06. Spread throughout weeks, mostly between 1-5am (esp 2am)\n",
    "||photos|List of URLs||\n",
    "|Target Var|interest_level|High/Medium/Low|This is what we’re predicting|\n"
   ]
  },
  {
   "cell_type": "code",
   "execution_count": null,
   "metadata": {
    "collapsed": true
   },
   "outputs": [],
   "source": [
    "# code for loading and shape of train/test"
   ]
  },
  {
   "cell_type": "markdown",
   "metadata": {},
   "source": [
    "### EDA\n",
    "- Distribution of each feature\n",
    "- Missing values\n",
    "- Distribution of target\n",
    "- Relationships between features\n",
    "- Other idiosyncracies?"
   ]
  },
  {
   "cell_type": "markdown",
   "metadata": {},
   "source": [
    "## Data Preparation"
   ]
  },
  {
   "cell_type": "markdown",
   "metadata": {},
   "source": [
    "### Feature Transformation and Engineering\n",
    "*[De-duplicating features](https://www.kaggle.com/jxnlco/two-sigma-connect-rental-listing-inquiries/deduplicating-features)*: parses descriptions into consistent rental features (ex: 24-hr concierge) and replaces synonyms with consistent terminology\n",
    "\n",
    "*Text analysis:* Split descriptions into features describing writing style\n",
    "- length of description\n",
    "- number of words\n",
    "- number of capital letters used\n",
    "- number of punctuation marks used\n",
    "- vocabulary richness (use of unique words)\n",
    "\n",
    "*Feature Aggregation & Transformation*: Combine existing features into other features\n",
    "- price per bedroom\n",
    "- price per bathroom\n",
    "- price per room\n",
    "- number of photos per listing\n",
    "- number of claimed rental features\n",
    "- difference between street and display addresses\n",
    "- neighborhoods (based on latitude/longitude)\n",
    "- Multinomial Naive Bayes scoring for description vs interest level\n",
    "- Multinomial Naive Bayes scoring for features vs interest level\n",
    "\n",
    "*Time:* Split features into different time measurements -- does putting up the post at a certain time impact interest?\n",
    "- year (no impact as all rentals were from 2016)\n",
    "- month\n",
    "- day of the month\n",
    "- day of the week\n",
    "- hour\n",
    "- minute\n",
    "- second\n",
    "- time (hr + minutes)"
   ]
  },
  {
   "cell_type": "markdown",
   "metadata": {},
   "source": [
    "### Principal component analysis (PCA)\n"
   ]
  },
  {
   "cell_type": "markdown",
   "metadata": {},
   "source": [
    "### Target Transformation\n",
    "Transform target (interest level = high, medium, or low) into ordinal values\n",
    "- high = 2\n",
    "- medium = 1\n",
    "- low = 0"
   ]
  },
  {
   "cell_type": "markdown",
   "metadata": {},
   "source": [
    "## Modeling\n",
    "\n"
   ]
  },
  {
   "cell_type": "markdown",
   "metadata": {},
   "source": [
    "**Final model:** Random Forest Classifier\n",
    "\n",
    "*Assumptions:* Features are non-parametric. We picked this method as it is fairly robust and does not require data to be parametric or regularized. In addition, using this method could allow for real-world interpretation of answers in comparison to other models, leading to direct \n",
    "\n",
    "*Regularization:* via PCA\n",
    "    \n",
    "**Other models tried:** \n",
    "- linear regression\n"
   ]
  },
  {
   "cell_type": "code",
   "execution_count": null,
   "metadata": {
    "collapsed": true
   },
   "outputs": [],
   "source": [
    "#code for final model"
   ]
  },
  {
   "cell_type": "markdown",
   "metadata": {},
   "source": [
    "## Evaluation"
   ]
  },
  {
   "cell_type": "markdown",
   "metadata": {},
   "source": [
    "How well does the model perform?\n",
    "Accuracy\n",
    "ROC curves\n",
    "Cross-validation\n",
    "other metrics? performance?\n",
    "AB test results (if any)\n"
   ]
  },
  {
   "cell_type": "code",
   "execution_count": null,
   "metadata": {
    "collapsed": true
   },
   "outputs": [],
   "source": []
  }
 ],
 "metadata": {
  "anaconda-cloud": {},
  "kernelspec": {
   "display_name": "Python 2",
   "language": "python",
   "name": "python2"
  },
  "language_info": {
   "codemirror_mode": {
    "name": "ipython",
    "version": 2
   },
   "file_extension": ".py",
   "mimetype": "text/x-python",
   "name": "python",
   "nbconvert_exporter": "python",
   "pygments_lexer": "ipython2",
   "version": "2.7.12"
  }
 },
 "nbformat": 4,
 "nbformat_minor": 1
}
