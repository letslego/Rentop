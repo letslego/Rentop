{
 "cells": [
  {
   "cell_type": "markdown",
   "metadata": {},
   "source": [
    "# Rentop Kaggle Competition\n",
    "\n",
    "W207-3 Spring 2017\n",
    "Team members: Stephanie Fan, Boris Kletser, Amitabha Karmakar \n",
    "\n",
    "**Goal:** Use rental listing features to predict interest in rental inquiries.\n",
    "\n",
    "- [Kaggle Competition](https://www.kaggle.com/c/two-sigma-connect-rental-listing-inquiries)\n",
    "- Public Tableau Link: _____\n",
    "- [Notebooks and Code](https://github.com/letslego/Rentop/)"
   ]
  },
  {
   "cell_type": "markdown",
   "metadata": {},
   "source": [
    "## Business Understanding\n",
    "\n"
   ]
  },
  {
   "cell_type": "markdown",
   "metadata": {},
   "source": [
    "**Problem:** The problem we are trying to solve is two-fold: First, it is to provide feedback to owners and agents on how to optimize listings to generate interest. Secondly, it helps RentHop identify potential issues with listings and fraud. Both of these should help customers better identify relevant listings.\n",
    "\n",
    "**Metrics:** The relevant metric is accurate prediction of high, medium, and low interest. \n",
    "We would like to increase accuracy to 80% correct identification of high, medium, or low interest.\n",
    "\n",
    "**Delivery:** We will deliver a model that predicts the probability of high, medium, and low interest for a given listing."
   ]
  },
  {
   "cell_type": "markdown",
   "metadata": {},
   "source": [
    "## Data Understanding"
   ]
  },
  {
   "cell_type": "markdown",
   "metadata": {},
   "source": [
    "**Sources:**\n",
    "- train.json:  49352 records over 15 columns\n",
    "- test.json:   74659 records over 14 columns\n",
    "\n",
    "Each row is a listing; each column is a feature. The extra column in train.json is the interest level, which we need to predict for test.json."
   ]
  },
  {
   "cell_type": "markdown",
   "metadata": {},
   "source": [
    "**Existing Features:**\n",
    "    \n",
    "|Feature Type|Columns|Type|Notes|\n",
    "|---|---|---|---|\n",
    "|IDs|building_id|Long string||\n",
    "||listing_id|7 digit num||\n",
    "||manager_id|Long string||\n",
    "|Location|street_address|Text||\n",
    "||display_address|Text||\n",
    "||latitude|Float||\n",
    "||longitude|Float||\n",
    "|Features|bathrooms|Int|(mean 1.2, sd 0.5)|\n",
    "||bedrooms|Int|(mean 1.5, sd 1.1)|\n",
    "||descriptions|Text||\n",
    "||price|Int||\n",
    "||created|Date|Dates between 2016-04 and 2016-06. Spread throughout weeks, mostly between 1-5am (esp 2am)\n",
    "||photos|List of urls||\n",
    "|Target Var|interest_level|High/Medium/Low|This is what we’re predicting|\n"
   ]
  },
  {
   "cell_type": "code",
   "execution_count": null,
   "metadata": {
    "collapsed": true
   },
   "outputs": [],
   "source": [
    "# code for loading and shape of train/test"
   ]
  },
  {
   "cell_type": "markdown",
   "metadata": {},
   "source": [
    "### EDA\n",
    "- Distribution of each feature\n",
    "- Missing values\n",
    "- Distribution of target\n",
    "- Relationships between features\n",
    "- Other idiosyncracies?"
   ]
  },
  {
   "cell_type": "markdown",
   "metadata": {},
   "source": [
    "## Data Preparation"
   ]
  },
  {
   "cell_type": "markdown",
   "metadata": {},
   "source": [
    "*What steps are taken to prepare the data for modeling?\n",
    "(e.g. feature transformations, engineering,\n",
    "table joins, Aggregation)*\n",
    "\n",
    "- Pre-clustering -- features that may appeal to different subgroups of customers\n",
    "- [De-duplicating features](https://www.kaggle.com/jxnlco/two-sigma-connect-rental-listing-inquiries/deduplicating-features)\n",
    "- Precise description of modeling base tables.\n",
    "\n",
    "*What are the rows/columns of X (the predictors)?*\n",
    "\n",
    "\n",
    "*What is y (the target)?*"
   ]
  },
  {
   "cell_type": "markdown",
   "metadata": {},
   "source": [
    "## Modeling\n",
    "\n"
   ]
  },
  {
   "cell_type": "markdown",
   "metadata": {},
   "source": [
    "**Final model:**\n",
    "\n",
    "*Assumptions:*\n",
    "\n",
    "*Regularization:*\n",
    "    \n",
    "**Other models tried:**\n"
   ]
  },
  {
   "cell_type": "code",
   "execution_count": null,
   "metadata": {
    "collapsed": true
   },
   "outputs": [],
   "source": [
    "#code for final model"
   ]
  },
  {
   "cell_type": "markdown",
   "metadata": {},
   "source": [
    "## Evaluation"
   ]
  },
  {
   "cell_type": "markdown",
   "metadata": {},
   "source": [
    "How well does the model perform?\n",
    "Accuracy\n",
    "ROC curves\n",
    "Cross-validation\n",
    "other metrics? performance?\n",
    "AB test results (if any)\n"
   ]
  },
  {
   "cell_type": "code",
   "execution_count": null,
   "metadata": {
    "collapsed": true
   },
   "outputs": [],
   "source": []
  }
 ],
 "metadata": {
  "anaconda-cloud": {},
  "kernelspec": {
   "display_name": "Python 2",
   "language": "python",
   "name": "python2"
  },
  "language_info": {
   "codemirror_mode": {
    "name": "ipython",
    "version": 2
   },
   "file_extension": ".py",
   "mimetype": "text/x-python",
   "name": "python",
   "nbconvert_exporter": "python",
   "pygments_lexer": "ipython2",
   "version": "2.7.12"
  }
 },
 "nbformat": 4,
 "nbformat_minor": 1
}
