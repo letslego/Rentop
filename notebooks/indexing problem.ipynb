{
 "cells": [
  {
   "cell_type": "markdown",
   "metadata": {
    "_active": false,
    "_cell_guid": "ca50d942-809f-21d9-aa30-7f4eb60999b3",
    "collapsed": false
   },
   "source": [
    "# Kaggle Competition All Pieces"
   ]
  },
  {
   "cell_type": "markdown",
   "metadata": {},
   "source": [
    "## Prep"
   ]
  },
  {
   "cell_type": "code",
   "execution_count": 442,
   "metadata": {
    "_active": false,
    "_cell_guid": "cca36417-3de2-c57d-8616-10a6f0e65574",
    "collapsed": false
   },
   "outputs": [],
   "source": [
    "# General libraries.\n",
    "import re\n",
    "import numpy as np\n",
    "import pandas as pd\n",
    "#import matplotlib.pyplot as plt\n",
    "\n",
    "# SK-learn libraries for learning.\n",
    "from sklearn.pipeline import Pipeline\n",
    "from sklearn.neighbors import KNeighborsClassifier\n",
    "from sklearn.linear_model import LogisticRegression\n",
    "from sklearn.naive_bayes import BernoulliNB\n",
    "from sklearn.naive_bayes import MultinomialNB\n",
    "from sklearn.grid_search import GridSearchCV\n",
    "\n",
    "# SK-learn libraries for evaluation.\n",
    "from sklearn.metrics import confusion_matrix\n",
    "from sklearn import metrics\n",
    "from sklearn.metrics import classification_report\n",
    "from scipy.stats import itemfreq\n",
    "\n",
    "# SK-learn libraries for feature extraction from text.\n",
    "from sklearn.feature_extraction.text import *"
   ]
  },
  {
   "cell_type": "code",
   "execution_count": 443,
   "metadata": {
    "_active": false,
    "_cell_guid": "e98c7c95-b212-5060-ca03-d067e387fab8",
    "collapsed": false
   },
   "outputs": [],
   "source": [
    "train_df = pd.read_json(\"../input/train.json\")\n",
    "test_df = pd.read_json(\"../input/test.json\")\n",
    "\n",
    "#align by listing ids\n",
    "train_df = train_df.set_index('listing_id')\n",
    "test_df = test_df.set_index('listing_id')\n"
   ]
  },
  {
   "cell_type": "code",
   "execution_count": 444,
   "metadata": {
    "collapsed": false
   },
   "outputs": [],
   "source": [
    "from sklearn.model_selection import train_test_split\n",
    "def split_data_for_test_and_dev(train_df):\n",
    "    y = train_df['interest_level']\n",
    "    y2 = y.replace({'low':1,'medium':2,'high':3})\n",
    "    X = train_df.drop('interest_level', 1)\n",
    "    return train_test_split(X, y2, test_size=0.2, random_state=1)\n",
    "    \n",
    "X_train, X_dev, y_train, y_dev = split_data_for_test_and_dev(train_df)"
   ]
  },
  {
   "cell_type": "code",
   "execution_count": 445,
   "metadata": {
    "collapsed": false
   },
   "outputs": [],
   "source": [
    "def accuracy_report(name, X_train, y_train, X_dev, y_dev):\n",
    "\n",
    "    #LR\n",
    "    #lr = LogisticRegression()\n",
    "    #lr.fit(X_train, y_train)\n",
    "\n",
    "    print('===============================')\n",
    "    #print(name)\n",
    "    \n",
    "    #print('LR Training Accuracy: %.2f%% \\t Test Accuracy: %.2f%%' % (\n",
    "    #    lr.score(X_train, y_train)*100,                                                         \n",
    "    #    lr.score(X_dev, y_dev)*100))\n",
    " \n",
    "    ##precision (% select relevent), recall (% relevant selected)\n",
    "    #print ('LR dev: \\n{}'.format(classification_report(y_dev, lr.predict(X_dev))))\n",
    "    #print itemfreq(lr.predict(X_dev))\n",
    "    \n",
    "    #RFC\n",
    "    rfc = RandomForestClassifier(n_estimators=20, n_jobs=-1) #-1 means use all available cores\n",
    "    rfc.fit(X_train, y_train)\n",
    "    print('RF Training Accuracy: %.2f%% \\t Test Accuracy: %.2f%%' % (\n",
    "        rfc.score(X_train, y_train)*100,                                                         \n",
    "        rfc.score(X_dev, y_dev)*100))\n",
    "\n",
    "    print ('RFC dev: \\n{}'.format(classification_report(y_dev, rfc.predict(X_dev))))\n",
    "    print itemfreq(rfc.predict(X_dev))\n",
    "\n",
    "    importances = rfc.feature_importances_\n",
    "    features = X_train.columns\n",
    "\n",
    "    sort_indices = np.argsort(importances)[::-1]\n",
    "    sorted_features = []\n",
    "    for i in sort_indices:\n",
    "        sorted_features.append(features[i])\n",
    "\n",
    "    print('\\nfeatures')\n",
    "    print(sorted_features)\n",
    "    print importances[sort_indices]"
   ]
  },
  {
   "cell_type": "markdown",
   "metadata": {},
   "source": [
    "## Text Features"
   ]
  },
  {
   "cell_type": "code",
   "execution_count": 446,
   "metadata": {
    "collapsed": false
   },
   "outputs": [
    {
     "name": "stdout",
     "output_type": "stream",
     "text": [
      "===============================\n",
      "RF Training Accuracy: 94.55% \t Test Accuracy: 67.48%\n",
      "RFC dev: \n",
      "             precision    recall  f1-score   support\n",
      "\n",
      "          1       0.73      0.89      0.80      6797\n",
      "          2       0.38      0.21      0.28      2334\n",
      "          3       0.31      0.11      0.16       740\n",
      "\n",
      "avg / total       0.62      0.67      0.63      9871\n",
      "\n",
      "[[   1 8319]\n",
      " [   2 1301]\n",
      " [   3  251]]\n",
      "\n",
      "features\n",
      "['richness', 'numwords', 'strlen', 'numpunct', 'numcaps']\n",
      "[ 0.25811872  0.19368907  0.18455923  0.18259532  0.18103766]\n",
      "===============================\n",
      "RF Training Accuracy: 81.17% \t Test Accuracy: 60.46%\n",
      "RFC dev: \n",
      "             precision    recall  f1-score   support\n",
      "\n",
      "          1       0.71      0.79      0.75      6797\n",
      "          2       0.28      0.21      0.24      2334\n",
      "          3       0.14      0.10      0.11       740\n",
      "\n",
      "avg / total       0.57      0.60      0.58      9871\n",
      "\n",
      "[[   1 7573]\n",
      " [   2 1778]\n",
      " [   3  520]]\n",
      "\n",
      "features\n",
      "['richness']\n",
      "[ 1.]\n"
     ]
    }
   ],
   "source": [
    "from string import punctuation\n",
    "from sklearn.ensemble import RandomForestClassifier\n",
    "\n",
    "#using dif var in case user wants to keep original df.\n",
    "def add_txt_features(orig):\n",
    "    dat = orig\n",
    "    dat.loc[:,'strlen'] = [len(x) for x in dat['description']] #can ignore warnings because making new column\n",
    "    dat.loc[:,'numwords'] = [len(x.split()) for x in dat['description']]\n",
    "    dat.loc[:,'numcaps'] = [sum(1 for c in x if c.upper()) for x in dat['description']]\n",
    "    dat.loc[:,'numpunct'] = [sum(1 for c in x if c in punctuation) for x in dat['description']]\n",
    "    dat.loc[:,'richness'] = [len(set(x)) / (len(x)+0.001) for x in dat['description']]\n",
    "    return dat\n",
    "\n",
    "X_train = add_txt_features(X_train)\n",
    "X_dev =   add_txt_features(X_dev)\n",
    "#X_train.head()\n",
    "\n",
    "feature_list = ['strlen','numwords','numcaps','numpunct','richness']\n",
    "X_train_limited = X_train[feature_list]\n",
    "X_dev_limited = X_dev[feature_list]\n",
    "accuracy_report('text features', X_train_limited, y_train, X_dev_limited, y_dev)\n",
    "\n",
    "X_train_limited = X_train[['richness']]\n",
    "X_dev_limited = X_dev[['richness']]\n",
    "accuracy_report('richness only', X_train_limited, y_train, X_dev_limited, y_dev)"
   ]
  },
  {
   "cell_type": "markdown",
   "metadata": {},
   "source": [
    "RFC does better job with recall, but given these signalls, is still too heavy in assigning to 1 (Low)"
   ]
  },
  {
   "cell_type": "markdown",
   "metadata": {},
   "source": [
    "## Price Features"
   ]
  },
  {
   "cell_type": "code",
   "execution_count": 447,
   "metadata": {
    "collapsed": false
   },
   "outputs": [
    {
     "name": "stdout",
     "output_type": "stream",
     "text": [
      "===============================\n",
      "RF Training Accuracy: 96.71% \t Test Accuracy: 69.44%\n",
      "RFC dev: \n",
      "             precision    recall  f1-score   support\n",
      "\n",
      "          1       0.76      0.89      0.82      6797\n",
      "          2       0.42      0.28      0.34      2334\n",
      "          3       0.39      0.23      0.29       740\n",
      "\n",
      "avg / total       0.66      0.69      0.67      9871\n",
      "\n",
      "[[   1 7887]\n",
      " [   2 1558]\n",
      " [   3  426]]\n",
      "\n",
      "features\n",
      "['richness', 'numpunct', 'strlen', 'numcaps', 'numwords', u'price', 'price_per_bed', 'price_per_room', 'price_per_bath', u'bedrooms', u'bathrooms']\n",
      "[ 0.13960248  0.12240701  0.12074139  0.11936845  0.11817951  0.09534795\n",
      "  0.09354827  0.08985651  0.08216829  0.0110563   0.00772384]\n"
     ]
    }
   ],
   "source": [
    "def add_price_features(orig):\n",
    "    dat = orig\n",
    "    dat.loc[:,'price_per_bed'] = dat['price'] / (dat['bedrooms']+0.00001)\n",
    "    dat.loc[:,'price_per_bath'] = dat['price'] / (dat['bathrooms']+0.00001)\n",
    "    dat.loc[:,'price_per_room'] = dat['price'] / (dat['bathrooms'] + dat['bedrooms'] +0.00001)\n",
    "    return dat\n",
    "\n",
    "X_train = add_price_features(X_train)\n",
    "X_dev =   add_price_features(X_dev)\n",
    "#X_train.head()\n",
    "\n",
    "feature_list = ['price_per_bed','price_per_bath','price_per_room',\n",
    "                'price','bedrooms','bathrooms',\n",
    "                'strlen','numwords','numcaps','numpunct','richness']\n",
    "X_train_limited = X_train[feature_list]\n",
    "X_dev_limited =     X_dev[feature_list]\n",
    "accuracy_report('text features', X_train_limited, y_train, X_dev_limited, y_dev)\n"
   ]
  },
  {
   "cell_type": "markdown",
   "metadata": {},
   "source": [
    "## Let's take a look at the number of photos"
   ]
  },
  {
   "cell_type": "code",
   "execution_count": 448,
   "metadata": {
    "collapsed": false
   },
   "outputs": [
    {
     "name": "stdout",
     "output_type": "stream",
     "text": [
      "===============================\n",
      "RF Training Accuracy: 69.62% \t Test Accuracy: 68.86%\n",
      "RFC dev: \n",
      "             precision    recall  f1-score   support\n",
      "\n",
      "          1       0.69      1.00      0.82      6797\n",
      "          2       0.00      0.00      0.00      2334\n",
      "          3       0.00      0.00      0.00       740\n",
      "\n",
      "avg / total       0.47      0.69      0.56      9871\n",
      "\n",
      "[[   1 9871]]\n",
      "\n",
      "features\n",
      "['numphotos']\n",
      "[ 1.]\n",
      "===============================\n",
      "RF Training Accuracy: 97.05% \t Test Accuracy: 69.48%\n",
      "RFC dev: \n",
      "             precision    recall  f1-score   support\n",
      "\n",
      "          1       0.76      0.89      0.82      6797\n",
      "          2       0.41      0.26      0.32      2334\n",
      "          3       0.40      0.24      0.30       740\n",
      "\n",
      "avg / total       0.65      0.69      0.66      9871\n",
      "\n",
      "[[   1 7964]\n",
      " [   2 1470]\n",
      " [   3  437]]\n",
      "\n",
      "features\n",
      "['richness', 'numpunct', 'numcaps', 'strlen', 'numwords', 'price_per_room', 'price_per_bed', 'price_per_bath', 'numphotos', u'price', u'bedrooms', u'bathrooms']\n",
      "[ 0.12238568  0.11194447  0.1091259   0.10682855  0.10618679  0.08829881\n",
      "  0.08823108  0.08542167  0.08219503  0.08075119  0.01116403  0.00746679]\n",
      "===============================\n",
      "RF Training Accuracy: 90.74% \t Test Accuracy: 59.63%\n",
      "RFC dev: \n",
      "             precision    recall  f1-score   support\n",
      "\n",
      "          1       0.72      0.76      0.74      6797\n",
      "          2       0.30      0.27      0.28      2334\n",
      "          3       0.16      0.14      0.15       740\n",
      "\n",
      "avg / total       0.58      0.60      0.59      9871\n",
      "\n",
      "[[   1 7117]\n",
      " [   2 2107]\n",
      " [   3  647]]\n",
      "\n",
      "features\n",
      "['richness', 'numphotos']\n",
      "[ 0.9557423  0.0442577]\n"
     ]
    }
   ],
   "source": [
    "def get_num_photos(orig):\n",
    "    dat = orig\n",
    "    dat.loc[:,'numphotos'] = [len(x) for x in dat['photos'].values]\n",
    "    return dat\n",
    "\n",
    "X_train = get_num_photos(X_train)\n",
    "X_dev =   get_num_photos(X_dev)\n",
    "\n",
    "X_train_ph = X_train[['numphotos']]\n",
    "X_dev_ph = X_dev[['numphotos']]\n",
    "\n",
    "X_train_limited = X_train[['numphotos']]\n",
    "X_dev_limited = X_dev[['numphotos']]\n",
    "accuracy_report('photos', X_train_limited, y_train, X_dev_limited, y_dev)\n",
    "\n",
    "feature_list = ['numphotos', 'price_per_bed','price_per_bath','price_per_room',\n",
    "                'price','bedrooms','bathrooms',\n",
    "                'strlen','numwords','numcaps','numpunct','richness']\n",
    "\n",
    "X_train_limited = X_train[feature_list]\n",
    "X_dev_limited = X_dev[feature_list]\n",
    "accuracy_report('full', X_train_limited, y_train, X_dev_limited, y_dev)\n",
    "\n",
    "X_train_limited = X_train[['numphotos','richness']]\n",
    "X_dev_limited = X_dev[['numphotos', 'richness']]\n",
    "accuracy_report('num photos+richness', X_train_limited, y_train, X_dev_limited, y_dev)"
   ]
  },
  {
   "cell_type": "markdown",
   "metadata": {},
   "source": [
    "## Time Info"
   ]
  },
  {
   "cell_type": "code",
   "execution_count": 449,
   "metadata": {
    "collapsed": false
   },
   "outputs": [
    {
     "name": "stdout",
     "output_type": "stream",
     "text": [
      "===============================\n",
      "RF Training Accuracy: 98.65% \t Test Accuracy: 64.04%\n",
      "RFC dev: \n",
      "             precision    recall  f1-score   support\n",
      "\n",
      "          1       0.70      0.88      0.78      6797\n",
      "          2       0.30      0.15      0.20      2334\n",
      "          3       0.12      0.04      0.06       740\n",
      "\n",
      "avg / total       0.56      0.64      0.59      9871\n",
      "\n",
      "[[   1 8481]\n",
      " [   2 1153]\n",
      " [   3  237]]\n",
      "\n",
      "features\n",
      "['second', 'hr_min', 'minute', 'day', 'weekday', 'hour', 'month', 'year']\n",
      "[ 0.32934644  0.21604488  0.18972831  0.1175041   0.0605296   0.05638208\n",
      "  0.03046458  0.        ]\n",
      "===============================\n",
      "RF Training Accuracy: 99.48% \t Test Accuracy: 70.80%\n",
      "RFC dev: \n",
      "             precision    recall  f1-score   support\n",
      "\n",
      "          1       0.76      0.92      0.83      6797\n",
      "          2       0.45      0.25      0.32      2334\n",
      "          3       0.48      0.19      0.27       740\n",
      "\n",
      "avg / total       0.66      0.71      0.67      9871\n",
      "\n",
      "[[   1 8297]\n",
      " [   2 1287]\n",
      " [   3  287]]\n",
      "\n",
      "features\n",
      "['hr_min', u'price', 'price_per_room', 'price_per_bed', 'richness', 'numpunct', 'second', 'price_per_bath', 'numwords', 'strlen', 'numcaps', 'minute', 'day', 'numphotos', 'weekday', 'hour', 'month', u'bedrooms', u'bathrooms', 'year']\n",
      "[ 0.08410891  0.0714967   0.07139577  0.07053712  0.06460723  0.06305343\n",
      "  0.06258864  0.06126353  0.06120935  0.06000687  0.05972843  0.05970096\n",
      "  0.05437548  0.04935688  0.03448205  0.03303036  0.019479    0.01207399\n",
      "  0.00750531  0.        ]\n"
     ]
    }
   ],
   "source": [
    "def add_time_features(orig):  #(x,\"%Y-%m-%d %H:%M:%S\")\n",
    "    dat = orig\n",
    "    dat.loc[:,\"created2\"] = dat['created'].astype(\"datetime64\");\n",
    "     \n",
    "    dat.loc[:,'year']   = dat['created2'].dt.year\n",
    "    dat.loc[:,'month']  = dat['created2'].dt.month\n",
    "    dat.loc[:,'day']    = dat['created2'].dt.day\n",
    "    dat.loc[:,'weekday']= dat['created2'].dt.dayofweek\n",
    "    dat.loc[:,'hour']   = dat['created2'].dt.hour\n",
    "    dat.loc[:,'minute'] = dat['created2'].dt.minute\n",
    "    dat.loc[:,'second'] = dat['created2'].dt.second\n",
    "    dat.loc[:,'hr_min'] = dat['created2'].dt.hour.multiply(100).add(dat['created2'].dt.minute)\n",
    "    return dat\n",
    "\n",
    "X_train = add_time_features(X_train)\n",
    "X_dev =   add_time_features(X_dev)\n",
    "\n",
    "time_list = ['year', 'month', 'day', 'weekday', 'hour', 'minute', 'second', 'hr_min']\n",
    "X_train_limited = X_train[time_list]\n",
    "X_dev_limited =     X_dev[time_list]\n",
    "accuracy_report('text features', X_train_limited, y_train, X_dev_limited, y_dev)\n",
    "\n",
    "\n",
    "feature_list = ['year', 'month', 'day', 'weekday', 'hour', 'minute', 'second', 'hr_min',\n",
    "                'numphotos', 'price_per_bed','price_per_bath','price_per_room',\n",
    "                'price','bedrooms','bathrooms',\n",
    "                'strlen','numwords','numcaps','numpunct','richness']\n",
    "X_train_limited = X_train[feature_list]\n",
    "X_dev_limited =     X_dev[feature_list]\n",
    "accuracy_report('text features', X_train_limited, y_train, X_dev_limited, y_dev)\n"
   ]
  },
  {
   "cell_type": "code",
   "execution_count": 450,
   "metadata": {
    "collapsed": false
   },
   "outputs": [],
   "source": [
    "#print (\"xt\", X_train.shape, \"yt\", y_train.shape, \"xd\", X_dev.shape, \"yd\", y_dev.shape)"
   ]
  },
  {
   "cell_type": "markdown",
   "metadata": {},
   "source": [
    "## Add in num features"
   ]
  },
  {
   "cell_type": "code",
   "execution_count": 451,
   "metadata": {
    "collapsed": false
   },
   "outputs": [
    {
     "name": "stdout",
     "output_type": "stream",
     "text": [
      "===============================\n",
      "RF Training Accuracy: 69.63% \t Test Accuracy: 68.85%\n",
      "RFC dev: \n",
      "             precision    recall  f1-score   support\n",
      "\n",
      "          1       0.69      1.00      0.82      6797\n",
      "          2       0.00      0.00      0.00      2334\n",
      "          3       0.00      0.00      0.00       740\n",
      "\n",
      "avg / total       0.47      0.69      0.56      9871\n",
      "\n",
      "[[   1 9870]\n",
      " [   3    1]]\n",
      "\n",
      "features\n",
      "['numfeatures']\n",
      "[ 1.]\n",
      "===============================\n",
      "RF Training Accuracy: 99.48% \t Test Accuracy: 70.86%\n",
      "RFC dev: \n",
      "             precision    recall  f1-score   support\n",
      "\n",
      "          1       0.76      0.92      0.83      6797\n",
      "          2       0.45      0.25      0.32      2334\n",
      "          3       0.47      0.19      0.27       740\n",
      "\n",
      "avg / total       0.66      0.71      0.67      9871\n",
      "\n",
      "[[   1 8258]\n",
      " [   2 1320]\n",
      " [   3  293]]\n",
      "\n",
      "features\n",
      "['hr_min', 'price_per_room', 'price_per_bed', u'price', 'price_per_bath', 'richness', 'numpunct', 'second', 'numcaps', 'strlen', 'numwords', 'minute', 'day', 'numfeatures', 'numphotos', 'hour', 'weekday', 'month', u'bedrooms', u'bathrooms', 'year']\n",
      "[ 0.07952267  0.06873215  0.06769014  0.06711456  0.06329252  0.06167955\n",
      "  0.06037863  0.05767102  0.05737779  0.05685809  0.05632371  0.05504382\n",
      "  0.0515548   0.04904117  0.04402116  0.0337271   0.03362453  0.01816858\n",
      "  0.01071589  0.00746212  0.        ]\n"
     ]
    }
   ],
   "source": [
    "#todo add in cleaning\n",
    "\n",
    "def get_num_features(orig):\n",
    "    dat = orig\n",
    "    dat.loc[:,'numfeatures'] = [len(x) for x in dat['features'].values]\n",
    "    return dat\n",
    "\n",
    "X_train = get_num_features(X_train)\n",
    "X_dev =   get_num_features(X_dev)\n",
    "\n",
    "X_train_limited = X_train[['numfeatures']]\n",
    "X_dev_limited = X_dev[['numfeatures']]\n",
    "accuracy_report('numfeatures', X_train_limited, y_train, X_dev_limited, y_dev)\n",
    "\n",
    "feature_list = ['year', 'month', 'day', 'weekday', 'hour', 'minute', 'second', 'hr_min',\n",
    "                'numphotos', 'numfeatures',\n",
    "                'price_per_bed','price_per_bath','price_per_room',\n",
    "                'price','bedrooms','bathrooms',\n",
    "                'strlen','numwords','numcaps','numpunct','richness']\n",
    "X_train_limited = X_train[feature_list]\n",
    "X_dev_limited =     X_dev[feature_list]\n",
    "accuracy_report('numfeatures+phtotos+text', X_train_limited, y_train, X_dev_limited, y_dev)"
   ]
  },
  {
   "cell_type": "code",
   "execution_count": 452,
   "metadata": {
    "collapsed": false
   },
   "outputs": [],
   "source": [
    "#print (\"xt\", X_train.shape, \"yt\", y_train.shape, \"xd\", X_dev.shape, \"yd\", y_dev.shape)"
   ]
  },
  {
   "cell_type": "markdown",
   "metadata": {},
   "source": [
    "## Compare addresses"
   ]
  },
  {
   "cell_type": "code",
   "execution_count": 453,
   "metadata": {
    "collapsed": false
   },
   "outputs": [
    {
     "name": "stdout",
     "output_type": "stream",
     "text": [
      "===============================\n",
      "RF Training Accuracy: 69.75% \t Test Accuracy: 68.82%\n",
      "RFC dev: \n",
      "             precision    recall  f1-score   support\n",
      "\n",
      "          1       0.69      0.99      0.82      6797\n",
      "          2       0.43      0.02      0.04      2334\n",
      "          3       0.07      0.00      0.00       740\n",
      "\n",
      "avg / total       0.58      0.69      0.57      9871\n",
      "\n",
      "[[   1 9757]\n",
      " [   2  100]\n",
      " [   3   14]]\n",
      "\n",
      "features\n",
      "['addr_dif']\n",
      "[ 1.]\n",
      "===============================\n",
      "RF Training Accuracy: 99.50% \t Test Accuracy: 70.80%\n",
      "RFC dev: \n",
      "             precision    recall  f1-score   support\n",
      "\n",
      "          1       0.76      0.92      0.83      6797\n",
      "          2       0.44      0.26      0.32      2334\n",
      "          3       0.47      0.18      0.26       740\n",
      "\n",
      "avg / total       0.66      0.71      0.67      9871\n",
      "\n",
      "[[   1 8223]\n",
      " [   2 1361]\n",
      " [   3  287]]\n",
      "\n",
      "features\n",
      "['hr_min', u'price', 'price_per_bed', 'price_per_room', 'numpunct', 'richness', 'second', 'numcaps', 'price_per_bath', 'minute', 'numwords', 'strlen', 'day', 'numfeatures', 'numphotos', 'hour', 'weekday', 'addr_dif', 'month', u'bedrooms', u'bathrooms', 'year']\n",
      "[ 0.07569791  0.07069983  0.07013623  0.06237228  0.05843465  0.05787886\n",
      "  0.05704944  0.05665953  0.05659553  0.05571332  0.05371864  0.05321318\n",
      "  0.05142486  0.04840758  0.04194529  0.033934    0.03081886  0.02746282\n",
      "  0.01892886  0.01157659  0.00733173  0.        ]\n"
     ]
    }
   ],
   "source": [
    "def get_address_dif(orig):\n",
    "    dat = orig\n",
    "    street_addr_len = [len(sa) for sa in dat['street_address']]\n",
    "    display_addr_len = [len(da) for da in dat['display_address']]\n",
    "    dat.loc[:,'addr_dif'] = np.subtract(street_addr_len,display_addr_len)\n",
    "    return dat\n",
    "\n",
    "X_train = get_address_dif(X_train)\n",
    "X_dev =   get_address_dif(X_dev)\n",
    "\n",
    "\n",
    "X_train_limited = X_train[['addr_dif']]\n",
    "X_dev_limited = X_dev[['addr_dif']]\n",
    "accuracy_report('addrdiff', X_train_limited, y_train, X_dev_limited, y_dev)\n",
    "\n",
    "feature_list = ['year', 'month', 'day', 'weekday', 'hour', 'minute', 'second', 'hr_min',\n",
    "                'numphotos', 'numfeatures','addr_dif',\n",
    "                'price_per_bed','price_per_bath','price_per_room',\n",
    "                'price','bedrooms','bathrooms',\n",
    "                'strlen','numwords','numcaps','numpunct','richness']\n",
    "\n",
    "X_train_limited = X_train[feature_list]\n",
    "X_dev_limited = X_dev[feature_list]\n",
    "accuracy_report('full', X_train_limited, y_train, X_dev_limited, y_dev)\n"
   ]
  },
  {
   "cell_type": "markdown",
   "metadata": {},
   "source": [
    "## Adding in Neighborhoods"
   ]
  },
  {
   "cell_type": "code",
   "execution_count": 454,
   "metadata": {
    "collapsed": false
   },
   "outputs": [
    {
     "name": "stdout",
     "output_type": "stream",
     "text": [
      "===============================\n",
      "RF Training Accuracy: 69.72% \t Test Accuracy: 69.05%\n",
      "RFC dev: \n",
      "             precision    recall  f1-score   support\n",
      "\n",
      "          1       0.69      1.00      0.82      6797\n",
      "          2       0.39      0.01      0.02      2334\n",
      "          3       0.76      0.03      0.05       740\n",
      "\n",
      "avg / total       0.63      0.69      0.57      9871\n",
      "\n",
      "[[   1 9790]\n",
      " [   2   56]\n",
      " [   3   25]]\n",
      "\n",
      "features\n",
      "['neighborhood']\n",
      "[ 1.]\n",
      "===============================\n",
      "RF Training Accuracy: 99.51% \t Test Accuracy: 71.08%\n",
      "RFC dev: \n",
      "             precision    recall  f1-score   support\n",
      "\n",
      "          1       0.76      0.92      0.83      6797\n",
      "          2       0.45      0.26      0.33      2334\n",
      "          3       0.48      0.20      0.28       740\n",
      "\n",
      "avg / total       0.67      0.71      0.67      9871\n",
      "\n",
      "[[   1 8201]\n",
      " [   2 1366]\n",
      " [   3  304]]\n",
      "\n",
      "features\n",
      "['hr_min', u'price', 'price_per_room', 'price_per_bed', 'price_per_bath', 'numpunct', 'richness', 'second', 'strlen', 'minute', 'numcaps', 'numwords', 'day', 'numfeatures', 'neighborhood', 'numphotos', 'hour', 'weekday', 'addr_dif', 'month', u'bedrooms', u'bathrooms', 'year']\n",
      "[ 0.0722045   0.06694791  0.06605946  0.06295964  0.05817374  0.05413797\n",
      "  0.05400958  0.053859    0.05327243  0.05224914  0.0511931   0.05009508\n",
      "  0.04726418  0.04615735  0.04441572  0.04099972  0.03393251  0.03033173\n",
      "  0.02629506  0.0174768   0.01119095  0.00677442  0.        ]\n"
     ]
    }
   ],
   "source": [
    "from sklearn.cluster import KMeans\n",
    "np.random.seed(0)\n",
    "\n",
    "#from scipy import stats\n",
    "#remvoe outliers\n",
    "def remove_outliers(orig):\n",
    "    dat = orig\n",
    "    dat = dat[((dat.latitude - dat.latitude.mean()) / dat.latitude.std()).abs() < 3]\n",
    "    dat = dat[((dat.longitude - dat.longitude.mean()) / dat.longitude.std()).abs() < 3]\n",
    "    return dat\n",
    "\n",
    "X_train_no_outliers = remove_outliers(X_train)\n",
    "\n",
    "def make_neighborhoods(orig, num_clusters):\n",
    "    #returns a km, wth which we can classify other points\n",
    "    dat = orig[['latitude', 'longitude']].copy()\n",
    "    km = KMeans(num_clusters, random_state=1).fit(dat)\n",
    "    return km\n",
    "\n",
    "def fit_neighborhoods(orig, km):\n",
    "    dat = orig[['latitude', 'longitude']].copy()\n",
    "    dat2 = orig\n",
    "    dat2.loc[:,'neighborhood'] = km.predict(dat)\n",
    "    return dat2\n",
    "\n",
    "neighborhoods = make_neighborhoods(X_train, 50)\n",
    "X_train = fit_neighborhoods(X_train, neighborhoods)\n",
    "X_dev = fit_neighborhoods(X_dev, neighborhoods)\n",
    "\n",
    "X_train_limited = X_train[['neighborhood']]\n",
    "X_dev_limited = X_dev[['neighborhood']]\n",
    "accuracy_report('neighborhood', X_train_limited, y_train, X_dev_limited, y_dev)\n",
    "\n",
    "feature_list = ['year', 'month', 'day', 'weekday', 'hour', 'minute', 'second', 'hr_min',\n",
    "                'numphotos', 'numfeatures','addr_dif','neighborhood',\n",
    "                'price_per_bed','price_per_bath','price_per_room',\n",
    "                'price','bedrooms','bathrooms',\n",
    "                'strlen','numwords','numcaps','numpunct','richness']\n",
    "\n",
    "X_train_limited = X_train[feature_list]\n",
    "X_dev_limited = X_dev[feature_list]\n",
    "accuracy_report('full', X_train_limited, y_train, X_dev_limited, y_dev)\n"
   ]
  },
  {
   "cell_type": "code",
   "execution_count": 455,
   "metadata": {
    "collapsed": false
   },
   "outputs": [],
   "source": [
    "#print (\"xt\", X_train.shape, \"yt\", y_train.shape, \"xd\", X_dev.shape, \"yd\", y_dev.shape)"
   ]
  },
  {
   "cell_type": "code",
   "execution_count": 456,
   "metadata": {
    "collapsed": false
   },
   "outputs": [],
   "source": [
    "#mean clustering wasn't working as cleanly. trying w/o first\n",
    "k = '''def make_neighborhoods(orig, num_clusters):\n",
    "    #returns a km, wth which we can classify other points\n",
    "    dat = orig[['latitude', 'longitude']].copy()\n",
    "    lat_mean = dat['latitude'].mean() \n",
    "    lon_mean = dat['longitude'].mean()\n",
    "    lat_std = dat['latitude'].std() \n",
    "    lon_std = dat['longitude'].std()\n",
    "    \n",
    "    dat['lat_norm'] = (dat['latitude'] - lat_mean)/lat_std\n",
    "    dat['long_norm'] = (dat['longitude'] - lon_mean)/lon_std \n",
    "\n",
    "    km = KMeans(num_clusters, random_state=1).fit(dat[['lat_norm','long_norm']])\n",
    "    return km, lat_mean, lon_mean, lat_std, lon_std\n",
    "\n",
    "def fit_neighborhoods(orig, km, lat_mean, lon_mean, lat_std, lon_std):\n",
    "    dat = orig[['latitude', 'longitude']].copy()\n",
    "    \n",
    "    lat_mean = dat['latitude'].mean() \n",
    "    lon_mean = dat['longitude'].mean()\n",
    "    lat_std = dat['latitude'].std() \n",
    "    lon_std = dat['longitude'].std()\n",
    "    \n",
    "    #normalize\n",
    "    dat['lat_norm'] = (dat['latitude'] - lat_mean)/lat_std\n",
    "    dat['long_norm'] = (dat['longitude'] - lon_mean)/lon_std \n",
    "\n",
    "    dat2 = orig\n",
    "    dat2['neighborhood'] = km.predict(dat[['lat_norm','long_norm']])\n",
    "    return dat2\n",
    "    \n",
    "#need to get these beofre running others\n",
    "km, lat_mean, lon_mean, lat_std, lon_std = make_neighborhoods(X_train_no_outliers, 100) #todo justify choice, show graph num v reward\n",
    "\n",
    "X_train = fit_neighborhoods(X_train, km, lat_mean, lon_mean, lat_std, lon_std)\n",
    "X_dev = fit_neighborhoods(X_dev, km, lat_mean, lon_mean, lat_std, lon_std)\n",
    "print X_train[['latitude','longitude','neighborhood']].head(50)\n",
    "print X_dev[['latitude','longitude','neighborhood']].head(50)'''"
   ]
  },
  {
   "cell_type": "code",
   "execution_count": 457,
   "metadata": {
    "collapsed": false
   },
   "outputs": [],
   "source": [
    "#print (\"xt\", X_train.shape, \"yt\", y_train.shape, \"xd\", X_dev.shape, \"yd\", y_dev.shape)"
   ]
  },
  {
   "cell_type": "markdown",
   "metadata": {},
   "source": [
    "## Description Preprocessing"
   ]
  },
  {
   "cell_type": "code",
   "execution_count": 458,
   "metadata": {
    "collapsed": true
   },
   "outputs": [],
   "source": [
    "#Preprocessor\n",
    "def pre_proc(s,\n",
    "              word_length_range=(3,7),\n",
    "              remove_stop_words=True,\n",
    "              scale_capitals=1,\n",
    "              set_to_lower=True,\n",
    "              remove_numbers=False\n",
    "             ):\n",
    "   \n",
    "    s2 = re.sub(ur\"\\p{P}+\",\"\",s) #strip punctuation\n",
    "    s2 = re.sub(ur\"[^\\w ]+\",\" \",s2) #remove punctuation2\n",
    "    s2 = re.sub(ur\"\\_\",\"\",s2) #remove underscores (ignored by w)\n",
    "    \n",
    "    #http://stackoverflow.com/questions/8745821/find-words-with-capital-letters-not-at-start-of-a-sentence-with-regex\n",
    "    #doesn't matter if at start of sentence, often it's the key NP. If a stopword, those get stripped anyway\n",
    "    names = \" \"+\" \".join(re.findall(ur'\\b[A-Z][A-Za-z0-9]*\\b',s2))\n",
    "    for i in range(0,scale_capitals):\n",
    "        s2 = s2 + names\n",
    "        \n",
    "    if set_to_lower:\n",
    "        s2 = s2.lower() #lower case\n",
    "\n",
    "    s2 = re.sub(ur\"\\s+\", \" \",s2) #remove mult spaces (avoids cases with double spaces for look behind)\n",
    "    \n",
    "    if remove_numbers:\n",
    "        s2 = re.sub(ur\"\\d\", \" \",s2) #remove all numbers\n",
    "\n",
    "    truncation_re = ur\"(?<=(\\s\\w{\"+ur\"{}\".format(word_length_range[1])+ur\"}))(\\w*\\s)\"\n",
    "    s2 = re.sub(truncation_re,\"\\1 \",s2) #truncate words > n char\n",
    "\n",
    "    short_elim_re = ur\"\\b\\w{1,\"+ur\"{}\".format(word_length_range[0])+ur\"}\\b\"\n",
    "    s2 = re.sub(short_elim_re, \"\", s2) #removes all words/numbers < n in length\n",
    "    \n",
    "    #remomve stop words\n",
    "    if remove_stop_words:\n",
    "        s2_split = s2.split()\n",
    "        s3_split = s2.split()\n",
    "        for key in s2_split:\n",
    "            if key.lower in stop_words:\n",
    "                s3_split.remove(key)\n",
    "        s2 =' '.join(s3_split)\n",
    "    return s2\n",
    "\n"
   ]
  },
  {
   "cell_type": "code",
   "execution_count": 459,
   "metadata": {
    "collapsed": false
   },
   "outputs": [],
   "source": [
    "pre_proc_custom = lambda x: pre_proc(x, \n",
    "                                      word_length_range = (3,8), \n",
    "                                      remove_stop_words = False, \n",
    "                                      scale_capitals = 1, \n",
    "                                      set_to_lower = True,\n",
    "                                      remove_numbers = False\n",
    "                                     )\n",
    "\n",
    "mytv = TfidfVectorizer(ngram_range=(1,1), \n",
    "                       analyzer='word', \n",
    "                       preprocessor=pre_proc_custom)\n",
    "mytv.fit_transform(X_train['description'].values)\n",
    "train_words = mytv.get_feature_names()"
   ]
  },
  {
   "cell_type": "code",
   "execution_count": 460,
   "metadata": {
    "collapsed": false
   },
   "outputs": [
    {
     "name": "stdout",
     "output_type": "stream",
     "text": [
      "===============================\n",
      "RF Training Accuracy: 94.36% \t Test Accuracy: 67.12%\n",
      "RFC dev: \n",
      "             precision    recall  f1-score   support\n",
      "\n",
      "          1       0.76      0.85      0.80      6797\n",
      "          2       0.39      0.29      0.33      2334\n",
      "          3       0.30      0.20      0.24       740\n",
      "\n",
      "avg / total       0.64      0.67      0.65      9871\n",
      "\n",
      "[[   1 7661]\n",
      " [   2 1716]\n",
      " [   3  494]]\n",
      "\n",
      "features\n",
      "['desc_2', 'desc_1', 'desc_3']\n",
      "[ 0.40850561  0.30262896  0.28886544]\n",
      "===============================\n",
      "RF Training Accuracy: 99.57% \t Test Accuracy: 70.29%\n",
      "RFC dev: \n",
      "             precision    recall  f1-score   support\n",
      "\n",
      "          1       0.78      0.88      0.83      6797\n",
      "          2       0.44      0.32      0.37      2334\n",
      "          3       0.38      0.23      0.29       740\n",
      "\n",
      "avg / total       0.67      0.70      0.68      9871\n",
      "\n",
      "[[   1 7681]\n",
      " [   2 1734]\n",
      " [   3  456]]\n",
      "\n",
      "features\n",
      "['desc_1', 'desc_2', 'desc_3', 'hr_min', u'price', 'price_per_bed', 'price_per_bath', 'price_per_room', 'second', 'minute', 'day', 'richness', 'numpunct', 'numcaps', 'numwords', 'strlen', 'numfeatures', 'neighborhood', 'numphotos', 'hour', 'weekday', 'addr_dif', 'month', u'bedrooms', u'bathrooms', 'year']\n",
      "[ 0.18436905  0.1577972   0.08724933  0.04217637  0.04057206  0.03988315\n",
      "  0.03483545  0.03450518  0.03414718  0.03253672  0.02971576  0.02949293\n",
      "  0.02835046  0.02679303  0.02659281  0.02625154  0.02385614  0.02298168\n",
      "  0.02250662  0.02078246  0.01810726  0.01547067  0.00979954  0.00762688\n",
      "  0.00360054  0.        ]\n"
     ]
    }
   ],
   "source": [
    "def get_desc_mnb(X, y):    \n",
    "    mytv_dev = TfidfVectorizer(ngram_range=(1,1), \n",
    "                           analyzer='word', \n",
    "                           preprocessor=pre_proc_custom,  #set above\n",
    "                           vocabulary=train_words) #also set above\n",
    "    \n",
    "    X_dev_words = mytv_dev.fit_transform(X['description'].values) \n",
    "    \n",
    "    mnb = MultinomialNB(alpha = 0.009)\n",
    "    mnb.fit(X_dev_words, y)\n",
    "    return mnb\n",
    "\n",
    "my_desc_mnb = get_desc_mnb(X_train, y_train)\n",
    "\n",
    "def get_description_scores(X, mnb):\n",
    "    mytv_dev = TfidfVectorizer(ngram_range=(1,1), \n",
    "                           analyzer='word', \n",
    "                           preprocessor=pre_proc_custom,  #set above\n",
    "                           vocabulary=train_words) #also set above\n",
    "    \n",
    "    X_dev_words = mytv_dev.fit_transform(X['description'].values) \n",
    "    \n",
    "    pred_train = mnb.predict_proba(X_dev_words)\n",
    "    #print pred_train\n",
    "    #print mnb.classes_\n",
    "    \n",
    "    dat = X\n",
    "    dat.loc[:,'desc_1'] = pred_train[:,0]\n",
    "    dat.loc[:,'desc_2'] = pred_train[:,1]\n",
    "    dat.loc[:,'desc_3'] = pred_train[:,2]\n",
    "    return dat\n",
    "\n",
    "X_train = get_description_scores(X_train, my_desc_mnb)\n",
    "X_dev = get_description_scores(X_dev, my_desc_mnb)\n",
    "\n",
    "desc_list = ['desc_1','desc_2','desc_3']\n",
    "\n",
    "X_train_limited = X_train[desc_list]\n",
    "X_dev_limited = X_dev[desc_list]\n",
    "accuracy_report('desc', X_train_limited, y_train, X_dev_limited, y_dev)\n",
    "\n",
    "feature_list = ['desc_1','desc_2','desc_3',\n",
    "                'year', 'month', 'day', 'weekday', 'hour', 'minute', 'second', 'hr_min',\n",
    "                'numphotos', 'numfeatures','addr_dif','neighborhood',\n",
    "                'price_per_bed','price_per_bath','price_per_room',\n",
    "                'price','bedrooms','bathrooms',\n",
    "                'strlen','numwords','numcaps','numpunct','richness']\n",
    "\n",
    "X_train_limited = X_train[feature_list]\n",
    "X_dev_limited = X_dev[feature_list]\n",
    "accuracy_report('full', X_train_limited, y_train, X_dev_limited, y_dev)\n"
   ]
  },
  {
   "cell_type": "code",
   "execution_count": 461,
   "metadata": {
    "collapsed": false
   },
   "outputs": [],
   "source": [
    "#print (\"xt\", X_train.shape, \"yt\", y_train.shape, \"xd\", X_dev.shape, \"yd\", y_dev.shape)"
   ]
  },
  {
   "cell_type": "markdown",
   "metadata": {},
   "source": [
    "## Feature Cleanup and Text Processing"
   ]
  },
  {
   "cell_type": "code",
   "execution_count": 462,
   "metadata": {
    "collapsed": false
   },
   "outputs": [],
   "source": [
    "def clean(s):\n",
    "    for i,x in enumerate(s):\n",
    "        x = x.lower()\n",
    "        x = x.strip()\n",
    "        x = x.replace(\"-\", \"\")\n",
    "        x = x.replace(\" \", \"\")\n",
    "        x = x.replace(\"twenty four hour\", \"24\")\n",
    "        x = x.replace(\"24/7\", \"24\")\n",
    "        x = x.replace(\"24hr\", \"24\")\n",
    "        x = x.replace(\"24-hour\", \"24\")\n",
    "        x = x.replace(\"24hour\", \"24\")\n",
    "        x = x.replace(\"24 hour\", \"24\")\n",
    "        x = x.replace(\"common\", \"cm\")\n",
    "        x = x.replace(\"concierge\", \"doorman\")\n",
    "        x = x.replace(\"bicycle\", \"bike\")\n",
    "        x = x.replace(\"private\", \"pv\")\n",
    "        x = x.replace(\"deco\", \"dc\")\n",
    "        x = x.replace(\"decorative\", \"dc\")\n",
    "        x = x.replace(\"onsite\", \"os\")\n",
    "        x = x.replace(\"outdoor\", \"od\")\n",
    "        x = x.replace(\"ss appliances\", \"stainless\")\n",
    "        s[i] = x\n",
    "    return s\n",
    "\n",
    "def clean_features(orig):\n",
    "    dat = orig\n",
    "    dat.loc[:,'cleaned_features'] = [' '.join(clean(f)) for f in dat['features'].values]\n",
    "    return dat\n",
    "\n",
    "X_train = clean_features(X_train)"
   ]
  },
  {
   "cell_type": "code",
   "execution_count": 463,
   "metadata": {
    "collapsed": false
   },
   "outputs": [
    {
     "name": "stdout",
     "output_type": "stream",
     "text": [
      "('xt', (39481, 38), 'xtl', (39481, 26), 'yt', (39481,), 'xd', (9871, 37), 'xtl', (9871, 26), 'yd', (9871,))\n"
     ]
    }
   ],
   "source": [
    "print (\"xt\", X_train.shape, \"xtl\", X_train_limited.shape, \"yt\", y_train.shape, \n",
    "       \"xd\", X_dev.shape, \"xtl\", X_dev_limited.shape, \"yd\", y_dev.shape)"
   ]
  },
  {
   "cell_type": "markdown",
   "metadata": {},
   "source": [
    "## Run Analysis on Features"
   ]
  },
  {
   "cell_type": "code",
   "execution_count": 464,
   "metadata": {
    "collapsed": true
   },
   "outputs": [],
   "source": [
    "mytv = TfidfVectorizer(ngram_range=(1,1), \n",
    "                       analyzer='word', \n",
    "                      ) #preprocessor=pre_proc_custom) #no preprocessor\n",
    "\n",
    "mytv.fit_transform(X_train['cleaned_features'].values)\n",
    "train_words = mytv.get_feature_names()\n",
    "\n",
    "def get_feature_mnb(X, y):\n",
    "    X = clean_features(X)\n",
    "    mytv_dev = TfidfVectorizer(ngram_range=(1,1), \n",
    "                           analyzer='word', \n",
    "                           #preprocessor=pre_proc_custom,  #set above\n",
    "                           vocabulary=train_words) #also set above\n",
    "    \n",
    "    X_dev_words = mytv_dev.fit_transform(X['cleaned_features'].values) \n",
    "    \n",
    "    mnb = MultinomialNB(alpha = 0.009)\n",
    "    mnb.fit(X_dev_words, y)\n",
    "    return mnb\n",
    "\n",
    "def get_feature_scores(X, mnb):\n",
    "    X = clean_features(X)\n",
    "    mytv_dev = TfidfVectorizer(ngram_range=(1,1), \n",
    "                           analyzer='word', \n",
    "                           preprocessor=pre_proc_custom,  #set above\n",
    "                           vocabulary=train_words) #also set above\n",
    "    \n",
    "    X_dev_words = mytv_dev.fit_transform(X['cleaned_features'].values) \n",
    "    \n",
    "    pred_train = mnb.predict_proba(X_dev_words)\n",
    "    #print pred_train\n",
    "    #print mnb.classes_\n",
    "    \n",
    "    dat = X\n",
    "    dat.loc[:,'feat_1'] = pred_train[:,0]\n",
    "    dat.loc[:,'feat_2'] = pred_train[:,1]\n",
    "    dat.loc[:,'feat_3'] = pred_train[:,2]\n",
    "    return dat"
   ]
  },
  {
   "cell_type": "code",
   "execution_count": 465,
   "metadata": {
    "collapsed": false
   },
   "outputs": [
    {
     "name": "stdout",
     "output_type": "stream",
     "text": [
      "===============================\n",
      "RF Training Accuracy: 71.89% \t Test Accuracy: 68.18%\n",
      "RFC dev: \n",
      "             precision    recall  f1-score   support\n",
      "\n",
      "          1       0.70      0.96      0.81      6797\n",
      "          2       0.37      0.07      0.12      2334\n",
      "          3       0.23      0.02      0.04       740\n",
      "\n",
      "avg / total       0.59      0.68      0.59      9871\n",
      "\n",
      "[[   1 9348]\n",
      " [   2  453]\n",
      " [   3   70]]\n",
      "\n",
      "features\n",
      "['feat_2', 'feat_3', 'feat_1']\n",
      "[ 0.33881063  0.33435121  0.32683816]\n",
      "===============================\n",
      "RF Training Accuracy: 99.60% \t Test Accuracy: 70.24%\n",
      "RFC dev: \n",
      "             precision    recall  f1-score   support\n",
      "\n",
      "          1       0.78      0.89      0.83      6797\n",
      "          2       0.43      0.31      0.36      2334\n",
      "          3       0.38      0.23      0.28       740\n",
      "\n",
      "avg / total       0.67      0.70      0.68      9871\n",
      "\n",
      "[[   1 7725]\n",
      " [   2 1703]\n",
      " [   3  443]]\n",
      "\n",
      "features\n",
      "['desc_2', 'desc_1', 'desc_3', u'price', 'hr_min', 'price_per_bath', 'price_per_bed', 'price_per_room', 'second', 'minute', 'day', 'richness', 'numpunct', 'numcaps', 'feat_3', 'feat_2', 'strlen', 'numwords', 'feat_1', 'numphotos', 'neighborhood', 'numfeatures', 'hour', 'weekday', 'addr_dif', 'month', u'bedrooms', u'bathrooms', 'year']\n",
      "[ 0.15381532  0.15373166  0.09655307  0.04103807  0.03877764  0.03558049\n",
      "  0.03512841  0.03400802  0.03073592  0.02988186  0.02757934  0.02544851\n",
      "  0.02519383  0.02427284  0.02419877  0.0241664   0.02413287  0.02390287\n",
      "  0.02298176  0.02019619  0.01984343  0.01928836  0.01855724  0.0170384\n",
      "  0.01407235  0.00929829  0.0073608   0.00321729  0.        ]\n"
     ]
    }
   ],
   "source": [
    "my_feature_mnb = get_feature_mnb(X_train, y_train)\n",
    "X_train = get_feature_scores(X_train, my_feature_mnb)\n",
    "X_dev = get_feature_scores(X_dev, my_feature_mnb)\n",
    "\n",
    "feat_list = ['feat_1','feat_2','feat_3']\n",
    "\n",
    "X_train_limited = X_train[feat_list]\n",
    "X_dev_limited = X_dev[feat_list]\n",
    "accuracy_report('feat', X_train_limited, y_train, X_dev_limited, y_dev)\n",
    "\n",
    "feature_list = ['feat_1','feat_2','feat_3', 'desc_1','desc_2','desc_3',\n",
    "                'year', 'month', 'day', 'weekday', 'hour', 'minute', 'second', 'hr_min',\n",
    "                'numphotos', 'numfeatures','addr_dif','neighborhood',\n",
    "                'price_per_bed','price_per_bath','price_per_room',\n",
    "                'price','bedrooms','bathrooms',\n",
    "                'strlen','numwords','numcaps','numpunct','richness']\n",
    "\n",
    "X_train_limited = X_train[feature_list]\n",
    "X_dev_limited = X_dev[feature_list]\n",
    "accuracy_report('full', X_train_limited, y_train, X_dev_limited, y_dev)"
   ]
  },
  {
   "cell_type": "code",
   "execution_count": 466,
   "metadata": {
    "collapsed": false
   },
   "outputs": [
    {
     "name": "stdout",
     "output_type": "stream",
     "text": [
      "('xt', (39481, 41), 'xtl', (39481, 29), 'yt', (39481,), 'xd', (9871, 41), 'xtl', (9871, 29), 'yd', (9871,))\n"
     ]
    }
   ],
   "source": [
    "print (\"xt\", X_train.shape, \"xtl\", X_train_limited.shape, \"yt\", y_train.shape, \n",
    "       \"xd\", X_dev.shape, \"xtl\", X_dev_limited.shape, \"yd\", y_dev.shape)"
   ]
  },
  {
   "cell_type": "markdown",
   "metadata": {},
   "source": [
    "## Building Test Set"
   ]
  },
  {
   "cell_type": "code",
   "execution_count": 467,
   "metadata": {
    "collapsed": false
   },
   "outputs": [],
   "source": [
    "X_test = test_df\n",
    "X_test = add_txt_features(X_test)\n",
    "X_test = add_price_features(X_test)\n",
    "X_test = get_num_photos(X_test)\n",
    "X_test = add_time_features(X_test)\n",
    "X_test = get_num_features(X_test)\n",
    "X_test = get_address_dif(X_test)\n",
    "\n",
    "neighborhoods = make_neighborhoods(X_train, 50)\n",
    "X_test = fit_neighborhoods(X_test, neighborhoods)\n",
    "\n",
    "my_desc_mnb = get_desc_mnb(X_train, y_train)\n",
    "X_test = get_description_scores(X_test,my_desc_mnb)\n",
    "\n",
    "my_feature_mnb = get_feature_mnb(X_train, y_train)\n",
    "X_test = get_feature_scores(X_test, my_feature_mnb)"
   ]
  },
  {
   "cell_type": "code",
   "execution_count": 468,
   "metadata": {
    "collapsed": false
   },
   "outputs": [
    {
     "name": "stdout",
     "output_type": "stream",
     "text": [
      "('xt', (39481, 41), 'xtl', (39481, 29), 'yt', (39481,), 'xd', (9871, 41), 'xtl', (9871, 29), 'yd', (9871,), 'xtst', (74659, 41))\n",
      "            bathrooms  bedrooms                       building_id  \\\n",
      "listing_id                                                          \n",
      "7142618           1.0         1  79780be1514f645d7e6be99a3de696c5   \n",
      "7210040           1.0         2                                 0   \n",
      "7103890           1.0         1  3dbbb69fd52e0d25131aa1cd459c87eb   \n",
      "7143442           1.0         2  783d21d013a7e655bddc4ed0d461cc5e   \n",
      "6860601           2.0         2  6134e7c4dd1a98d9aee36623c9872b49   \n",
      "\n",
      "                        created  \\\n",
      "listing_id                        \n",
      "7142618     2016-06-11 05:29:41   \n",
      "7210040     2016-06-24 06:36:34   \n",
      "7103890     2016-06-03 04:29:40   \n",
      "7143442     2016-06-11 06:17:35   \n",
      "6860601     2016-04-12 05:24:17   \n",
      "\n",
      "                                                  description  \\\n",
      "listing_id                                                      \n",
      "7142618     Large with awesome terrace--accessible via bed...   \n",
      "7210040     Prime Soho - between Bleecker and Houston - Ne...   \n",
      "7103890             New York chic has reached a new level ...   \n",
      "7143442     Step into this fantastic new Construction in t...   \n",
      "6860601     ~Take a stroll in Central Park, enjoy the ente...   \n",
      "\n",
      "                  display_address  \\\n",
      "listing_id                          \n",
      "7142618            Suffolk Street   \n",
      "7210040           Thompson Street   \n",
      "7103890      101 East 10th Street   \n",
      "7143442      South Third Street\\r   \n",
      "6860601     Midtown West, 8th Ave   \n",
      "\n",
      "                                                     features  latitude  \\\n",
      "listing_id                                                                \n",
      "7142618     [elevator, laundryinbuilding, laundryinunit, d...   40.7185   \n",
      "7210040                    [prewar, dogsallowed, catsallowed]   40.7278   \n",
      "7103890                            [doorman, elevator, nofee]   40.7306   \n",
      "7143442     [roofdeck, balcony, elevator, laundryinbuildin...   40.7109   \n",
      "6860601     [cmodspace, catsallowed, dogsallowed, nofee, d...   40.7650   \n",
      "\n",
      "            longitude                        manager_id    ...    numfeatures  \\\n",
      "listing_id                                                 ...                  \n",
      "7142618      -73.9865  b1b1852c416d78d7765d746cb1b8921f    ...              6   \n",
      "7210040      -74.0000  d0b5648017832b2427eeb9956d966a14    ...              3   \n",
      "7103890      -73.9890  9ca6f3baa475c37a3b3521a394d65467    ...              3   \n",
      "7143442      -73.9571  0b9d5db96db8472d7aeb67c67338c4d2    ...             10   \n",
      "6860601      -73.9845  b5eda0eb31b042ce2124fd9e9fcfce2f    ...             14   \n",
      "\n",
      "            addr_dif neighborhood    desc_1    desc_2    desc_3  \\\n",
      "listing_id                                                        \n",
      "7142618            3           38  0.684818  0.232138  0.083044   \n",
      "7210040            4           37  0.655819  0.247925  0.096256   \n",
      "7103890            0           10  0.711791  0.221829  0.066380   \n",
      "7143442            4           31  0.742715  0.196435  0.060850   \n",
      "6860601           -1            0  0.748640  0.207359  0.044001   \n",
      "\n",
      "                                             cleaned_features    feat_1  \\\n",
      "listing_id                                                                \n",
      "7142618     elevator laundryinbuilding laundryinunit dishw...  0.720836   \n",
      "7210040                        prewar dogsallowed catsallowed  0.772229   \n",
      "7103890                                doorman elevator nofee  0.704988   \n",
      "7143442     roofdeck balcony elevator laundryinbuilding la...  0.685407   \n",
      "6860601     cmodspace catsallowed dogsallowed nofee doorma...  0.737634   \n",
      "\n",
      "              feat_2    feat_3  \n",
      "listing_id                      \n",
      "7142618     0.209437  0.069727  \n",
      "7210040     0.173733  0.054038  \n",
      "7103890     0.224962  0.070050  \n",
      "7143442     0.244988  0.069606  \n",
      "6860601     0.200086  0.062280  \n",
      "\n",
      "[5 rows x 41 columns]\n"
     ]
    }
   ],
   "source": [
    "print (\"xt\", X_train.shape, \"xtl\", X_train_limited.shape, \"yt\", y_train.shape, \n",
    "       \"xd\", X_dev.shape, \"xtl\", X_dev_limited.shape, \"yd\", y_dev.shape,\n",
    "      \"xtst\", X_test.shape)\n",
    "print X_test.head()"
   ]
  },
  {
   "cell_type": "markdown",
   "metadata": {},
   "source": [
    "## Drop non-numeric features in Test so we can train and run RFC"
   ]
  },
  {
   "cell_type": "code",
   "execution_count": 469,
   "metadata": {
    "collapsed": false
   },
   "outputs": [
    {
     "name": "stdout",
     "output_type": "stream",
     "text": [
      "(74659, 29)\n"
     ]
    }
   ],
   "source": [
    "feature_list = ['feat_1','feat_2','feat_3', 'desc_1','desc_2','desc_3',\n",
    "                'year', 'month', 'day', 'weekday', 'hour', 'minute', 'second', 'hr_min',\n",
    "                'numphotos', 'numfeatures','addr_dif','neighborhood',\n",
    "                'price_per_bed','price_per_bath','price_per_room',\n",
    "                'price','bedrooms','bathrooms',\n",
    "                'strlen','numwords','numcaps','numpunct','richness']\n",
    "\n",
    "X_test_limited = X_test[feature_list]\n",
    "print X_test_limited.shape"
   ]
  },
  {
   "cell_type": "code",
   "execution_count": 470,
   "metadata": {
    "collapsed": false
   },
   "outputs": [
    {
     "name": "stdout",
     "output_type": "stream",
     "text": [
      "('xt', (39481, 41), 'xtl', (39481, 29), 'yt', (39481,), 'xd', (9871, 41), 'xtl', (9871, 29), 'yd', (9871,), 'xtst', (74659, 41), 'xtstl', (74659, 29))\n"
     ]
    }
   ],
   "source": [
    "print (\"xt\", X_train.shape, \"xtl\", X_train_limited.shape, \"yt\", y_train.shape, \n",
    "       \"xd\", X_dev.shape, \"xtl\", X_dev_limited.shape, \"yd\", y_dev.shape,\n",
    "      \"xtst\", X_test.shape, \"xtstl\", X_test_limited.shape)"
   ]
  },
  {
   "cell_type": "markdown",
   "metadata": {},
   "source": [
    "# How do we know rfc didn't reorder?? Is there a way to check indexes??"
   ]
  },
  {
   "cell_type": "code",
   "execution_count": 471,
   "metadata": {
    "collapsed": false
   },
   "outputs": [
    {
     "name": "stdout",
     "output_type": "stream",
     "text": [
      "(39481, 29)\n",
      "[1 2 3]\n",
      "(74659, 3)\n",
      "            high  medium   low\n",
      "listing_id                    \n",
      "7142618     0.05    0.05  0.90\n",
      "7210040     0.25    0.20  0.55\n",
      "7103890     0.05    0.25  0.70\n",
      "7143442     0.10    0.20  0.70\n",
      "6860601     0.05    0.25  0.70\n"
     ]
    }
   ],
   "source": [
    "X_train_limited = X_train[feature_list] #index already set\n",
    "\n",
    "rfc = RandomForestClassifier(n_estimators=20, n_jobs=-1) #-1 means use all available cores\n",
    "rfc.fit(X_train_limited, y_train)\n",
    "print X_train_limited.shape\n",
    "labels = rfc.classes_\n",
    "print labels\n",
    "\n",
    "predictions = rfc.predict_proba(X_test_limited)\n",
    "print predictions.shape\n",
    "\n",
    "#reorganize to high mid low\n",
    "temp = X_test_limited\n",
    "temp.loc[:,'high'] = predictions[:,2]\n",
    "temp.loc[:,'medium'] = predictions[:,1]\n",
    "temp.loc[:,'low'] = predictions[:,0]\n",
    "\n",
    "final_table = temp[['high','medium', 'low']]\n",
    "\n",
    "print final_table.head()"
   ]
  },
  {
   "cell_type": "code",
   "execution_count": 472,
   "metadata": {
    "collapsed": false
   },
   "outputs": [
    {
     "ename": "ValueError",
     "evalue": "Number of features of the model must match the input. Model n_features is 29 and input n_features is 32 ",
     "output_type": "error",
     "traceback": [
      "\u001b[0;31m---------------------------------------------------------------------------\u001b[0m",
      "\u001b[0;31mValueError\u001b[0m                                Traceback (most recent call last)",
      "\u001b[0;32m<ipython-input-472-4924ae408d7a>\u001b[0m in \u001b[0;36m<module>\u001b[0;34m()\u001b[0m\n\u001b[0;32m----> 1\u001b[0;31m \u001b[0mpredictions2\u001b[0m \u001b[0;34m=\u001b[0m \u001b[0mrfc\u001b[0m\u001b[0;34m.\u001b[0m\u001b[0mpredict_proba\u001b[0m\u001b[0;34m(\u001b[0m\u001b[0mX_test_limited\u001b[0m\u001b[0;34m[\u001b[0m\u001b[0;36m0\u001b[0m\u001b[0;34m:\u001b[0m\u001b[0;36m2\u001b[0m\u001b[0;34m]\u001b[0m\u001b[0;34m)\u001b[0m\u001b[0;34m\u001b[0m\u001b[0m\n\u001b[0m\u001b[1;32m      2\u001b[0m \u001b[0;34m\u001b[0m\u001b[0m\n\u001b[1;32m      3\u001b[0m \u001b[0;32mprint\u001b[0m \u001b[0mpredictions2\u001b[0m\u001b[0;34m.\u001b[0m\u001b[0mshape\u001b[0m\u001b[0;34m\u001b[0m\u001b[0m\n\u001b[1;32m      4\u001b[0m \u001b[0;34m\u001b[0m\u001b[0m\n\u001b[1;32m      5\u001b[0m \u001b[0;31m#reorganize to high mid low\u001b[0m\u001b[0;34m\u001b[0m\u001b[0;34m\u001b[0m\u001b[0m\n",
      "\u001b[0;32m/Users/borya/anaconda/lib/python2.7/site-packages/sklearn/ensemble/forest.pyc\u001b[0m in \u001b[0;36mpredict_proba\u001b[0;34m(self, X)\u001b[0m\n\u001b[1;32m    571\u001b[0m         \"\"\"\n\u001b[1;32m    572\u001b[0m         \u001b[0;31m# Check data\u001b[0m\u001b[0;34m\u001b[0m\u001b[0;34m\u001b[0m\u001b[0m\n\u001b[0;32m--> 573\u001b[0;31m         \u001b[0mX\u001b[0m \u001b[0;34m=\u001b[0m \u001b[0mself\u001b[0m\u001b[0;34m.\u001b[0m\u001b[0m_validate_X_predict\u001b[0m\u001b[0;34m(\u001b[0m\u001b[0mX\u001b[0m\u001b[0;34m)\u001b[0m\u001b[0;34m\u001b[0m\u001b[0m\n\u001b[0m\u001b[1;32m    574\u001b[0m \u001b[0;34m\u001b[0m\u001b[0m\n\u001b[1;32m    575\u001b[0m         \u001b[0;31m# Assign chunk of trees to jobs\u001b[0m\u001b[0;34m\u001b[0m\u001b[0;34m\u001b[0m\u001b[0m\n",
      "\u001b[0;32m/Users/borya/anaconda/lib/python2.7/site-packages/sklearn/ensemble/forest.pyc\u001b[0m in \u001b[0;36m_validate_X_predict\u001b[0;34m(self, X)\u001b[0m\n\u001b[1;32m    353\u001b[0m                                  \"call `fit` before exploiting the model.\")\n\u001b[1;32m    354\u001b[0m \u001b[0;34m\u001b[0m\u001b[0m\n\u001b[0;32m--> 355\u001b[0;31m         \u001b[0;32mreturn\u001b[0m \u001b[0mself\u001b[0m\u001b[0;34m.\u001b[0m\u001b[0mestimators_\u001b[0m\u001b[0;34m[\u001b[0m\u001b[0;36m0\u001b[0m\u001b[0;34m]\u001b[0m\u001b[0;34m.\u001b[0m\u001b[0m_validate_X_predict\u001b[0m\u001b[0;34m(\u001b[0m\u001b[0mX\u001b[0m\u001b[0;34m,\u001b[0m \u001b[0mcheck_input\u001b[0m\u001b[0;34m=\u001b[0m\u001b[0mTrue\u001b[0m\u001b[0;34m)\u001b[0m\u001b[0;34m\u001b[0m\u001b[0m\n\u001b[0m\u001b[1;32m    356\u001b[0m \u001b[0;34m\u001b[0m\u001b[0m\n\u001b[1;32m    357\u001b[0m     \u001b[0;34m@\u001b[0m\u001b[0mproperty\u001b[0m\u001b[0;34m\u001b[0m\u001b[0m\n",
      "\u001b[0;32m/Users/borya/anaconda/lib/python2.7/site-packages/sklearn/tree/tree.pyc\u001b[0m in \u001b[0;36m_validate_X_predict\u001b[0;34m(self, X, check_input)\u001b[0m\n\u001b[1;32m    374\u001b[0m                              \u001b[0;34m\"match the input. Model n_features is %s and \"\u001b[0m\u001b[0;34m\u001b[0m\u001b[0m\n\u001b[1;32m    375\u001b[0m                              \u001b[0;34m\"input n_features is %s \"\u001b[0m\u001b[0;34m\u001b[0m\u001b[0m\n\u001b[0;32m--> 376\u001b[0;31m                              % (self.n_features_, n_features))\n\u001b[0m\u001b[1;32m    377\u001b[0m \u001b[0;34m\u001b[0m\u001b[0m\n\u001b[1;32m    378\u001b[0m         \u001b[0;32mreturn\u001b[0m \u001b[0mX\u001b[0m\u001b[0;34m\u001b[0m\u001b[0m\n",
      "\u001b[0;31mValueError\u001b[0m: Number of features of the model must match the input. Model n_features is 29 and input n_features is 32 "
     ]
    }
   ],
   "source": [
    "predictions2 = rfc.predict_proba(X_test_limited[0:2])\n",
    "\n",
    "print predictions2.shape\n",
    "\n",
    "#reorganize to high mid low\n",
    "temp2 = X_test_limited[0:2]\n",
    "temp2.loc[:,'high'] = predictions2[:,2]\n",
    "temp2.loc[:,'medium'] = predictions2[:,1]\n",
    "temp2.loc[:,'low'] = predictions2[:,0]\n",
    "\n",
    "final_table2 = temp2[['high','medium', 'low']]\n",
    "print final_table2.head()\n",
    "\n",
    "predictions3 = rfc.predict_proba(X_test_limited[0:3])\n",
    "\n",
    "print predictions3.shape\n",
    "\n",
    "#reorganize to high mid low\n",
    "temp3 = X_test_limited[0:3]\n",
    "temp3.loc[:,'high'] = predictions3[:,2]\n",
    "temp3.loc[:,'medium'] = predictions3[:,1]\n",
    "temp3.loc[:,'low'] = predictions3[:,0]\n",
    "\n",
    "final_table3 = temp3[['high','medium', 'low']]\n",
    "print final_table3.head()"
   ]
  },
  {
   "cell_type": "code",
   "execution_count": 381,
   "metadata": {
    "collapsed": false
   },
   "outputs": [
    {
     "name": "stdout",
     "output_type": "stream",
     "text": [
      "[1 2 3]\n",
      "[[ 0.9   0.05  0.05]\n",
      " [ 0.55  0.2   0.25]\n",
      " [ 0.7   0.25  0.05]\n",
      " [ 0.7   0.2   0.1 ]\n",
      " [ 0.7   0.25  0.05]]\n"
     ]
    }
   ],
   "source": [
    "print labels\n",
    "print predictions[0:5]\n",
    "print predictions2[0:5]\n",
    "print predictions3[0:5]\n"
   ]
  },
  {
   "cell_type": "code",
   "execution_count": 382,
   "metadata": {
    "collapsed": true
   },
   "outputs": [],
   "source": [
    "final_table.to_csv(\"sumbmission003d.csv\", index=True)"
   ]
  },
  {
   "cell_type": "markdown",
   "metadata": {},
   "source": [
    "## PCA Analysis"
   ]
  },
  {
   "cell_type": "code",
   "execution_count": 479,
   "metadata": {
    "collapsed": false
   },
   "outputs": [
    {
     "data": {
      "image/png": "[encoded data removed]",
      "text/plain": [
       "<matplotlib.figure.Figure at 0x152a3d610>"
      ]
     },
     "metadata": {},
     "output_type": "display_data"
    }
   ],
   "source": [
    "from sklearn.decomposition import PCA\n",
    "import matplotlib.pyplot as plt\n",
    "\n",
    "pca = PCA()\n",
    "X_train_transformed = pca.fit_transform(X_train_limited)\n",
    "#pca.fit(X_train_limited)\n",
    "pca.explained_variance_ratio_\n",
    "plt.plot(pca.explained_variance_)\n",
    "plt.show()\n"
   ]
  },
  {
   "cell_type": "code",
   "execution_count": 480,
   "metadata": {
    "collapsed": false
   },
   "outputs": [
    {
     "name": "stdout",
     "output_type": "stream",
     "text": [
      "2\n"
     ]
    }
   ],
   "source": [
    "num_comp = np.sum(np.cumsum(pca.explained_variance_ratio_) < .99)\n",
    "print num_comp\n",
    "X_limited_reduced = pca.transform(X_train_limited)[:, :num_comp]\n"
   ]
  },
  {
   "cell_type": "code",
   "execution_count": 481,
   "metadata": {
    "collapsed": false
   },
   "outputs": [],
   "source": [
    "comp0 = pd.Series(dict(zip(X_train_limited.columns, y_train)))\n",
    "col_order = comp0.sort_values().index"
   ]
  },
  {
   "cell_type": "code",
   "execution_count": 476,
   "metadata": {
    "collapsed": false
   },
   "outputs": [
    {
     "name": "stdout",
     "output_type": "stream",
     "text": [
      "addr_dif          1\n",
      "numpunct          1\n",
      "price_per_room    1\n",
      "numfeatures       1\n",
      "numcaps           1\n",
      "weekday           1\n",
      "month             1\n",
      "richness          1\n",
      "hr_min            1\n",
      "numwords          1\n",
      "hour              1\n",
      "feat_2            1\n",
      "second            1\n",
      "desc_3            1\n",
      "desc_2            1\n",
      "desc_1            1\n",
      "day               1\n",
      "bedrooms          1\n",
      "strlen            1\n",
      "feat_3            1\n",
      "price_per_bath    1\n",
      "year              2\n",
      "numphotos         2\n",
      "minute            2\n",
      "feat_1            2\n",
      "bathrooms         2\n",
      "price_per_bed     3\n",
      "price             3\n",
      "neighborhood      3\n",
      "dtype: int64\n"
     ]
    }
   ],
   "source": [
    "print comp0[col_order].head(50)"
   ]
  },
  {
   "cell_type": "markdown",
   "metadata": {},
   "source": [
    "# do we need to choose value at each step (neigh, baths, yrs) or the top n (neigh, price, ppbed)"
   ]
  },
  {
   "cell_type": "code",
   "execution_count": 477,
   "metadata": {
    "collapsed": false,
    "scrolled": false
   },
   "outputs": [
    {
     "data": {
      "image/png": "[encoded data removed]",
      "text/plain": [
       "<matplotlib.figure.Figure at 0x14a3d2fd0>"
      ]
     },
     "metadata": {},
     "output_type": "display_data"
    }
   ],
   "source": [
    "#plt.figure(figsize=(4, 24))\n",
    "comp0[col_order].plot(kind='barh')\n",
    "plt.show()\n",
    "#why is year so high when they all have same one!? this seems wrong"
   ]
  },
  {
   "cell_type": "code",
   "execution_count": 498,
   "metadata": {
    "collapsed": false
   },
   "outputs": [
    {
     "name": "stdout",
     "output_type": "stream",
     "text": [
      "===============================\n",
      "check pca\n",
      "LR Training Accuracy: 40.29% \t Test Accuracy: 40.40%\n",
      "LR dev: \n",
      "             precision    recall  f1-score   support\n",
      "\n",
      "          1       0.82      0.36      0.50      6797\n",
      "          2       0.25      0.57      0.35      2334\n",
      "          3       0.13      0.30      0.18       740\n",
      "\n",
      "avg / total       0.64      0.40      0.44      9871\n",
      "\n",
      "[[   1 2972]\n",
      " [   2 5209]\n",
      " [   3 1690]]\n"
     ]
    }
   ],
   "source": [
    "def check_pca(name, X_train, y_train, X_dev, y_dev):\n",
    "    #LR\n",
    "    lr = LogisticRegression()\n",
    "    lr.fit(X_train, y_train)\n",
    "\n",
    "    print('===============================')\n",
    "    print(name)\n",
    "    \n",
    "    print('LR Training Accuracy: %.2f%% \\t Test Accuracy: %.2f%%' % (\n",
    "        lr.score(X_train, y_train)*100,                                                         \n",
    "        lr.score(X_dev, y_dev)*100))\n",
    " \n",
    "    #precision (% select relevent), recall (% relevant selected)\n",
    "    print ('LR dev: \\n{}'.format(classification_report(y_dev, lr.predict(X_dev))))\n",
    "    print itemfreq(lr.predict(X_dev))\n",
    "\n",
    "numeric_feature_list = ['feat_1','feat_2','feat_3', 'desc_1','desc_2','desc_3',\n",
    "                'year', 'month', 'day', 'weekday', 'hour', 'minute', 'second', 'hr_min',\n",
    "                'numphotos', 'numfeatures','addr_dif','neighborhood',\n",
    "                'price_per_bed','price_per_bath','price_per_room',\n",
    "                'price','bedrooms','bathrooms',\n",
    "                'strlen','numwords','numcaps','numpunct','richness']\n",
    "\n",
    "X_dev_transformed = pca.transform(X_dev[numeric_feature_list])\n",
    "check_pca('check pca',X_train_transformed, y_train, X_dev_transformed, y_dev)"
   ]
  },
  {
   "cell_type": "code",
   "execution_count": 506,
   "metadata": {
    "collapsed": false
   },
   "outputs": [
    {
     "name": "stdout",
     "output_type": "stream",
     "text": [
      "[1 2 3]\n",
      "                   0         1         2\n",
      "listing_id                              \n",
      "7142618     0.309481  0.350133  0.340386\n",
      "7210040     0.307605  0.349262  0.343132\n",
      "7103890     0.322160  0.342677  0.335163\n",
      "7143442     0.309545  0.345802  0.344653\n",
      "6860601     0.340349  0.327676  0.331975\n",
      "                high    medium       low\n",
      "listing_id                              \n",
      "7142618     0.340386  0.350133  0.309481\n",
      "7210040     0.343132  0.349262  0.307605\n",
      "7103890     0.335163  0.342677  0.322160\n",
      "7143442     0.344653  0.345802  0.309545\n",
      "6860601     0.331975  0.327676  0.340349\n"
     ]
    }
   ],
   "source": [
    "X_test_transformed = pca.transform(X_test[numeric_feature_list])\n",
    "lr = LogisticRegression()\n",
    "lr.fit(X_train_transformed, y_train)\n",
    "predictions_pca = lr.predict_proba(X_test_transformed)\n",
    "print(lr.classes_)\n",
    "\n",
    "final_table_pca = pd.DataFrame(data=predictions_pca, \n",
    "                               index=X_test.index)\n",
    "print final_table_pca.head()\n",
    "final_table_pca.columns = [['low', 'medium','high']]\n",
    "print final_table_pca[['high','medium','low']].head()\n",
    "final_table_pca.to_csv(\"pca_submission02.csv\", index=True)"
   ]
  },
  {
   "cell_type": "markdown",
   "metadata": {},
   "source": [
    "## less features"
   ]
  },
  {
   "cell_type": "markdown",
   "metadata": {},
   "source": [
    "## Checking if columns are correctly mapped"
   ]
  },
  {
   "cell_type": "code",
   "execution_count": 489,
   "metadata": {
    "collapsed": false
   },
   "outputs": [
    {
     "name": "stdout",
     "output_type": "stream",
     "text": [
      "              desc_1    desc_2    desc_3\n",
      "listing_id                              \n",
      "6879986     0.721063  0.199006  0.079931\n",
      "7119254     0.779461  0.172159  0.048380\n",
      "7089837     0.901391  0.093668  0.004942\n",
      "6998694     0.696208  0.225298  0.078493\n",
      "7151313     0.847709  0.138279  0.014012\n",
      "              desc_3    desc_2    desc_1\n",
      "listing_id                              \n",
      "7142618     0.083044  0.232138  0.684818\n",
      "7210040     0.096256  0.247925  0.655819\n",
      "7103890     0.066380  0.221829  0.711791\n",
      "7143442     0.060850  0.196435  0.742715\n",
      "6860601     0.044001  0.207359  0.748640\n",
      "(39481, 29)\n",
      "(74659, 3)\n"
     ]
    }
   ],
   "source": [
    "X_train_desc = X_train[['desc_1', 'desc_2', 'desc_3']]\n",
    "print X_train_desc.head()\n",
    "\n",
    "my_desc_mnb2 = get_desc_mnb(X_train, y_train)\n",
    "X_test_desc = X_test\n",
    "X_test_desc = get_description_scores(X_test_desc,my_desc_mnb2)\n",
    "\n",
    "X_test_desc_a = X_test_desc[['desc_3','desc_2', 'desc_1']]\n",
    "print X_test_desc_a.head()\n",
    "\n",
    "rfc_desc = RandomForestClassifier(n_estimators=20, n_jobs=-1) #-1 means use all available cores\n",
    "rfc_desc.fit(X_train_desc, y_train)\n",
    "print X_train_limited.shape\n",
    "labels = rfc_desc.classes_\n",
    "\n",
    "predictions_desc = rfc_desc.predict_proba(X_test_desc_a)\n",
    "print predictions_desc.shape\n"
   ]
  },
  {
   "cell_type": "code",
   "execution_count": 433,
   "metadata": {
    "collapsed": false
   },
   "outputs": [
    {
     "name": "stdout",
     "output_type": "stream",
     "text": [
      "[[ 0.          0.25166667  0.74833333]\n",
      " [ 0.          0.1125      0.8875    ]\n",
      " [ 0.          0.55        0.45      ]\n",
      " ..., \n",
      " [ 0.08333333  0.16666667  0.75      ]\n",
      " [ 0.          0.          1.        ]\n",
      " [ 0.          0.25        0.75      ]]\n",
      "[1 2 3]\n",
      "                   0         1         2\n",
      "listing_id                              \n",
      "7142618     0.000000  0.251667  0.748333\n",
      "7210040     0.000000  0.112500  0.887500\n",
      "7103890     0.000000  0.550000  0.450000\n",
      "7143442     0.050000  0.050000  0.900000\n",
      "6860601     0.141667  0.166667  0.691667\n",
      "                high       mid       low\n",
      "listing_id                              \n",
      "7142618     0.000000  0.251667  0.748333\n",
      "7210040     0.000000  0.112500  0.887500\n",
      "7103890     0.000000  0.550000  0.450000\n",
      "7143442     0.050000  0.050000  0.900000\n",
      "6860601     0.141667  0.166667  0.691667\n"
     ]
    }
   ],
   "source": [
    "#reorganize to high mid low\n",
    "print predictions_desc\n",
    "print rfc_desc.classes_\n",
    "\n",
    "final_table_desc = pd.DataFrame(data=predictions_desc, index=X_test_desc_a.index)\n",
    "print final_table_desc.head()\n",
    "final_table_desc.columns = [['high', 'mid','low']]\n",
    "print final_table_desc[['high','mid','low']].head()\n",
    "\n",
    "#print final_table_desc[['high','middle','low']].head()\n",
    "#final_table_desc.to_csv(\"sumbmission004.csv\", index=True)"
   ]
  },
  {
   "cell_type": "code",
   "execution_count": null,
   "metadata": {
    "collapsed": true
   },
   "outputs": [],
   "source": []
  }
 ],
 "metadata": {
  "anaconda-cloud": {},
  "kernelspec": {
   "display_name": "Python [conda root]",
   "language": "python",
   "name": "conda-root-py"
  },
  "language_info": {
   "codemirror_mode": {
    "name": "ipython",
    "version": 2
   },
   "file_extension": ".py",
   "mimetype": "text/x-python",
   "name": "python",
   "nbconvert_exporter": "python",
   "pygments_lexer": "ipython2",
   "version": "2.7.13"
  }
 },
 "nbformat": 4,
 "nbformat_minor": 0
}
