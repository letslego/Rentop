{
 "cells": [
  {
   "cell_type": "markdown",
   "metadata": {
    "_active": false,
    "_cell_guid": "ca50d942-809f-21d9-aa30-7f4eb60999b3",
    "collapsed": false
   },
   "source": [
    "# Baseline"
   ]
  },
  {
   "cell_type": "code",
   "execution_count": 1,
   "metadata": {
    "_active": false,
    "_cell_guid": "cca36417-3de2-c57d-8616-10a6f0e65574",
    "collapsed": false
   },
   "outputs": [],
   "source": [
    "# General libraries.\n",
    "import re\n",
    "import numpy as np\n",
    "import pandas as pd\n",
    "import matplotlib.pyplot as plt\n",
    "\n",
    "\n",
    "# SK-learn libraries for learning.\n",
    "from sklearn.pipeline import Pipeline\n",
    "from sklearn.neighbors import KNeighborsClassifier\n",
    "from sklearn.linear_model import LogisticRegression\n",
    "from sklearn.naive_bayes import BernoulliNB\n",
    "from sklearn.naive_bayes import MultinomialNB\n",
    "from sklearn.grid_search import GridSearchCV\n",
    "\n",
    "# SK-learn libraries for evaluation.\n",
    "from sklearn.metrics import confusion_matrix\n",
    "from sklearn import metrics\n",
    "from sklearn.metrics import classification_report\n",
    "\n",
    "# SK-learn library for importing the newsgroup data.\n",
    "#from sklearn.datasets import fetch_20newsgroups\n",
    "\n",
    "# SK-learn libraries for feature extraction from text.\n",
    "from sklearn.feature_extraction.text import *"
   ]
  },
  {
   "cell_type": "code",
   "execution_count": 2,
   "metadata": {
    "_active": false,
    "_cell_guid": "e98c7c95-b212-5060-ca03-d067e387fab8",
    "collapsed": false
   },
   "outputs": [],
   "source": [
    "train_df = pd.read_json(\"../input/train.json\")\n",
    "test_df = pd.read_json(\"../input/test.json\")"
   ]
  },
  {
   "cell_type": "code",
   "execution_count": 14,
   "metadata": {
    "collapsed": false
   },
   "outputs": [
    {
     "data": {
      "text/html": [
       "<div>\n",
       "<table border=\"1\" class=\"dataframe\">\n",
       "  <thead>\n",
       "    <tr style=\"text-align: right;\">\n",
       "      <th></th>\n",
       "      <th>bathrooms</th>\n",
       "      <th>bedrooms</th>\n",
       "      <th>building_id</th>\n",
       "      <th>created</th>\n",
       "      <th>description</th>\n",
       "      <th>display_address</th>\n",
       "      <th>features</th>\n",
       "      <th>interest_level</th>\n",
       "      <th>latitude</th>\n",
       "      <th>listing_id</th>\n",
       "      <th>longitude</th>\n",
       "      <th>manager_id</th>\n",
       "      <th>photos</th>\n",
       "      <th>price</th>\n",
       "      <th>street_address</th>\n",
       "    </tr>\n",
       "  </thead>\n",
       "  <tbody>\n",
       "    <tr>\n",
       "      <th>10</th>\n",
       "      <td>1.5</td>\n",
       "      <td>3</td>\n",
       "      <td>53a5b119ba8f7b61d4e010512e0dfc85</td>\n",
       "      <td>2016-06-24 07:54:24</td>\n",
       "      <td>A Brand New 3 Bedroom 1.5 bath ApartmentEnjoy ...</td>\n",
       "      <td>Metropolitan Avenue</td>\n",
       "      <td>[]</td>\n",
       "      <td>medium</td>\n",
       "      <td>40.7145</td>\n",
       "      <td>7211212</td>\n",
       "      <td>-73.9425</td>\n",
       "      <td>5ba989232d0489da1b5f2c45f6688adc</td>\n",
       "      <td>[https://photos.renthop.com/2/7211212_1ed4542e...</td>\n",
       "      <td>3000</td>\n",
       "      <td>792 Metropolitan Avenue</td>\n",
       "    </tr>\n",
       "    <tr>\n",
       "      <th>10000</th>\n",
       "      <td>1.0</td>\n",
       "      <td>2</td>\n",
       "      <td>c5c8a357cba207596b04d1afd1e4f130</td>\n",
       "      <td>2016-06-12 12:19:27</td>\n",
       "      <td></td>\n",
       "      <td>Columbus Avenue</td>\n",
       "      <td>[Doorman, Elevator, Fitness Center, Cats Allow...</td>\n",
       "      <td>low</td>\n",
       "      <td>40.7947</td>\n",
       "      <td>7150865</td>\n",
       "      <td>-73.9667</td>\n",
       "      <td>7533621a882f71e25173b27e3139d83d</td>\n",
       "      <td>[https://photos.renthop.com/2/7150865_be3306c5...</td>\n",
       "      <td>5465</td>\n",
       "      <td>808 Columbus Avenue</td>\n",
       "    </tr>\n",
       "    <tr>\n",
       "      <th>100004</th>\n",
       "      <td>1.0</td>\n",
       "      <td>1</td>\n",
       "      <td>c3ba40552e2120b0acfc3cb5730bb2aa</td>\n",
       "      <td>2016-04-17 03:26:41</td>\n",
       "      <td>Top Top West Village location, beautiful Pre-w...</td>\n",
       "      <td>W 13 Street</td>\n",
       "      <td>[Laundry In Building, Dishwasher, Hardwood Flo...</td>\n",
       "      <td>high</td>\n",
       "      <td>40.7388</td>\n",
       "      <td>6887163</td>\n",
       "      <td>-74.0018</td>\n",
       "      <td>d9039c43983f6e564b1482b273bd7b01</td>\n",
       "      <td>[https://photos.renthop.com/2/6887163_de85c427...</td>\n",
       "      <td>2850</td>\n",
       "      <td>241 W 13 Street</td>\n",
       "    </tr>\n",
       "    <tr>\n",
       "      <th>100007</th>\n",
       "      <td>1.0</td>\n",
       "      <td>1</td>\n",
       "      <td>28d9ad350afeaab8027513a3e52ac8d5</td>\n",
       "      <td>2016-04-18 02:22:02</td>\n",
       "      <td>Building Amenities - Garage - Garden - fitness...</td>\n",
       "      <td>East 49th Street</td>\n",
       "      <td>[Hardwood Floors, No Fee]</td>\n",
       "      <td>low</td>\n",
       "      <td>40.7539</td>\n",
       "      <td>6888711</td>\n",
       "      <td>-73.9677</td>\n",
       "      <td>1067e078446a7897d2da493d2f741316</td>\n",
       "      <td>[https://photos.renthop.com/2/6888711_6e660cee...</td>\n",
       "      <td>3275</td>\n",
       "      <td>333 East 49th Street</td>\n",
       "    </tr>\n",
       "    <tr>\n",
       "      <th>100013</th>\n",
       "      <td>1.0</td>\n",
       "      <td>4</td>\n",
       "      <td>0</td>\n",
       "      <td>2016-04-28 01:32:41</td>\n",
       "      <td>Beautifully renovated 3 bedroom flex 4 bedroom...</td>\n",
       "      <td>West 143rd Street</td>\n",
       "      <td>[Pre-War]</td>\n",
       "      <td>low</td>\n",
       "      <td>40.8241</td>\n",
       "      <td>6934781</td>\n",
       "      <td>-73.9493</td>\n",
       "      <td>98e13ad4b495b9613cef886d79a6291f</td>\n",
       "      <td>[https://photos.renthop.com/2/6934781_1fa4b41a...</td>\n",
       "      <td>3350</td>\n",
       "      <td>500 West 143rd Street</td>\n",
       "    </tr>\n",
       "  </tbody>\n",
       "</table>\n",
       "</div>"
      ],
      "text/plain": [
       "        bathrooms  bedrooms                       building_id  \\\n",
       "10            1.5         3  53a5b119ba8f7b61d4e010512e0dfc85   \n",
       "10000         1.0         2  c5c8a357cba207596b04d1afd1e4f130   \n",
       "100004        1.0         1  c3ba40552e2120b0acfc3cb5730bb2aa   \n",
       "100007        1.0         1  28d9ad350afeaab8027513a3e52ac8d5   \n",
       "100013        1.0         4                                 0   \n",
       "\n",
       "                    created  \\\n",
       "10      2016-06-24 07:54:24   \n",
       "10000   2016-06-12 12:19:27   \n",
       "100004  2016-04-17 03:26:41   \n",
       "100007  2016-04-18 02:22:02   \n",
       "100013  2016-04-28 01:32:41   \n",
       "\n",
       "                                              description  \\\n",
       "10      A Brand New 3 Bedroom 1.5 bath ApartmentEnjoy ...   \n",
       "10000                                                       \n",
       "100004  Top Top West Village location, beautiful Pre-w...   \n",
       "100007  Building Amenities - Garage - Garden - fitness...   \n",
       "100013  Beautifully renovated 3 bedroom flex 4 bedroom...   \n",
       "\n",
       "            display_address  \\\n",
       "10      Metropolitan Avenue   \n",
       "10000       Columbus Avenue   \n",
       "100004          W 13 Street   \n",
       "100007     East 49th Street   \n",
       "100013    West 143rd Street   \n",
       "\n",
       "                                                 features interest_level  \\\n",
       "10                                                     []         medium   \n",
       "10000   [Doorman, Elevator, Fitness Center, Cats Allow...            low   \n",
       "100004  [Laundry In Building, Dishwasher, Hardwood Flo...           high   \n",
       "100007                          [Hardwood Floors, No Fee]            low   \n",
       "100013                                          [Pre-War]            low   \n",
       "\n",
       "        latitude  listing_id  longitude                        manager_id  \\\n",
       "10       40.7145     7211212   -73.9425  5ba989232d0489da1b5f2c45f6688adc   \n",
       "10000    40.7947     7150865   -73.9667  7533621a882f71e25173b27e3139d83d   \n",
       "100004   40.7388     6887163   -74.0018  d9039c43983f6e564b1482b273bd7b01   \n",
       "100007   40.7539     6888711   -73.9677  1067e078446a7897d2da493d2f741316   \n",
       "100013   40.8241     6934781   -73.9493  98e13ad4b495b9613cef886d79a6291f   \n",
       "\n",
       "                                                   photos  price  \\\n",
       "10      [https://photos.renthop.com/2/7211212_1ed4542e...   3000   \n",
       "10000   [https://photos.renthop.com/2/7150865_be3306c5...   5465   \n",
       "100004  [https://photos.renthop.com/2/6887163_de85c427...   2850   \n",
       "100007  [https://photos.renthop.com/2/6888711_6e660cee...   3275   \n",
       "100013  [https://photos.renthop.com/2/6934781_1fa4b41a...   3350   \n",
       "\n",
       "                 street_address  \n",
       "10      792 Metropolitan Avenue  \n",
       "10000       808 Columbus Avenue  \n",
       "100004          241 W 13 Street  \n",
       "100007     333 East 49th Street  \n",
       "100013    500 West 143rd Street  "
      ]
     },
     "execution_count": 14,
     "metadata": {},
     "output_type": "execute_result"
    }
   ],
   "source": [
    "train_df.head()\n",
    "#test_df.head()\n"
   ]
  },
  {
   "cell_type": "code",
   "execution_count": 50,
   "metadata": {
    "collapsed": false
   },
   "outputs": [],
   "source": [
    "#train_df.describe()\n",
    "#test_df.describe()\n",
    "#train_df['created'].describe()\n",
    "train_df['created2'] = train_df['created'].str[0:10].astype(\"datetime64\");\n",
    "train_df[\"created3\"] = train_df['created'].astype(\"datetime64\");"
   ]
  },
  {
   "cell_type": "code",
   "execution_count": 54,
   "metadata": {
    "collapsed": false
   },
   "outputs": [
    {
     "name": "stdout",
     "output_type": "stream",
     "text": [
      "created2  created2\n",
      "2016      4           16411\n",
      "          5           15797\n",
      "          6           17144\n",
      "Name: created2, dtype: int64\n",
      "created3\n",
      "0    4239\n",
      "1    8417\n",
      "2    9414\n",
      "3    8195\n",
      "4    7593\n",
      "5    6953\n",
      "6    4541\n",
      "Name: created3, dtype: int64\n",
      "created3\n",
      "0        55\n",
      "1      5749\n",
      "2     10596\n",
      "3      8318\n",
      "4      5021\n",
      "5      7954\n",
      "6      4446\n",
      "7      1047\n",
      "8       336\n",
      "9       135\n",
      "10      284\n",
      "11      444\n",
      "12      693\n",
      "13      616\n",
      "14      782\n",
      "15      753\n",
      "16      370\n",
      "17      443\n",
      "18      450\n",
      "19      266\n",
      "20      191\n",
      "21      178\n",
      "22      139\n",
      "23       86\n",
      "Name: created3, dtype: int64\n"
     ]
    }
   ],
   "source": [
    "#http://stackoverflow.com/questions/27365467/python-pandas-plot-histogram-of-dates\n",
    "print(train_df[\"created2\"].groupby([train_df[\"created2\"].dt.year, train_df[\"created2\"].dt.month]).count())\n",
    "\n",
    "print(train_df[\"created3\"].groupby([train_df[\"created3\"].dt.dayofweek]).count())\n",
    "print(train_df[\"created3\"].groupby([train_df[\"created3\"].dt.hour]).count())"
   ]
  },
  {
   "cell_type": "code",
   "execution_count": null,
   "metadata": {
    "collapsed": false
   },
   "outputs": [],
   "source": []
  },
  {
   "cell_type": "code",
   "execution_count": 11,
   "metadata": {
    "collapsed": false
   },
   "outputs": [
    {
     "data": {
      "text/plain": [
       "(74659, 14)"
      ]
     },
     "execution_count": 11,
     "metadata": {},
     "output_type": "execute_result"
    }
   ],
   "source": [
    "#train_df.shape\n",
    "test_df.shape"
   ]
  },
  {
   "cell_type": "code",
   "execution_count": null,
   "metadata": {
    "collapsed": true
   },
   "outputs": [],
   "source": []
  },
  {
   "cell_type": "code",
   "execution_count": 54,
   "metadata": {
    "_active": false,
    "_cell_guid": "711d4fc1-9227-cfcc-d52d-abb51f121215",
    "collapsed": false
   },
   "outputs": [],
   "source": [
    "#use description as the training data... just to start\n",
    "train_data = train_df['description'].values\n",
    "train_labels = train_df['interest_level'].values\n",
    "test_data = test_df['description'].values\n",
    "listing_ids = test_df['listing_id'].values"
   ]
  },
  {
   "cell_type": "code",
   "execution_count": 55,
   "metadata": {
    "_active": false,
    "_cell_guid": "88f5e787-7b4f-6ad7-a14e-6a94d3b08427",
    "collapsed": false
   },
   "outputs": [],
   "source": [
    "#Preprocessor\n",
    "def pre_proc(s,\n",
    "              word_length_range=(3,7),\n",
    "              remove_stop_words=True,\n",
    "              scale_capitals=1,\n",
    "              set_to_lower=True,\n",
    "              remove_numbers=False\n",
    "             ):\n",
    "   \n",
    "    s2 = re.sub(ur\"\\p{P}+\",\"\",s) #strip punctuation\n",
    "    s2 = re.sub(ur\"[^\\w ]+\",\" \",s2) #remove punctuation2\n",
    "    s2 = re.sub(ur\"\\_\",\"\",s2) #remove underscores (ignored by w)\n",
    "    \n",
    "    #http://stackoverflow.com/questions/8745821/find-words-with-capital-letters-not-at-start-of-a-sentence-with-regex\n",
    "    #doesn't matter if at start of sentence, often it's the key NP. If a stopword, those get stripped anyway\n",
    "    names = \" \"+\" \".join(re.findall(ur'\\b[A-Z][A-Za-z0-9]*\\b',s2))\n",
    "    for i in range(0,scale_capitals):\n",
    "        s2 = s2 + names\n",
    "        \n",
    "    if set_to_lower:\n",
    "        s2 = s2.lower() #lower case\n",
    "\n",
    "    s2 = re.sub(ur\"\\s+\", \" \",s2) #remove mult spaces (avoids cases with double spaces for look behind)\n",
    "    \n",
    "    if remove_numbers:\n",
    "        s2 = re.sub(ur\"\\d\", \" \",s2) #remove all numbers\n",
    "\n",
    "    truncation_re = ur\"(?<=(\\s\\w{\"+ur\"{}\".format(word_length_range[1])+ur\"}))(\\w*\\s)\"\n",
    "    s2 = re.sub(truncation_re,\"\\1 \",s2) #truncate words > n char\n",
    "\n",
    "    short_elim_re = ur\"\\b\\w{1,\"+ur\"{}\".format(word_length_range[0])+ur\"}\\b\"\n",
    "    s2 = re.sub(short_elim_re, \"\", s2) #removes all words/numbers < n in length\n",
    "    \n",
    "    #remomve stop words\n",
    "    if remove_stop_words:\n",
    "        s2_split = s2.split()\n",
    "        s3_split = s2.split()\n",
    "        for key in s2_split:\n",
    "            if key.lower in stop_words:\n",
    "                s3_split.remove(key)\n",
    "        s2 =' '.join(s3_split)\n",
    "    return s2\n",
    "\n"
   ]
  },
  {
   "cell_type": "code",
   "execution_count": 57,
   "metadata": {
    "_active": false,
    "_cell_guid": "87e36a06-e749-29a0-28df-4de98d9980c6",
    "collapsed": false
   },
   "outputs": [
    {
     "name": "stdout",
     "output_type": "stream",
     "text": [
      "0.766108769655\n"
     ]
    }
   ],
   "source": [
    "pre_proc_custom = lambda x: pre_proc(x, \n",
    "                                      word_length_range = (3,7), \n",
    "                                      remove_stop_words = False, \n",
    "                                      scale_capitals = 1, \n",
    "                                      set_to_lower = True,\n",
    "                                      remove_numbers = False\n",
    "                                     )\n",
    "\n",
    "mytv = TfidfVectorizer(ngram_range=(1,1), \n",
    "                       analyzer='word', \n",
    "                       preprocessor=pre_proc_custom)\n",
    "X_train = mytv.fit_transform(train_data)\n",
    "train_words = mytv.get_feature_names()\n",
    "\n",
    "mytv_test = TfidfVectorizer(ngram_range=(1,1), \n",
    "                           analyzer='word', \n",
    "                           preprocessor=pre_proc_custom, \n",
    "                           vocabulary=train_words) \n",
    "X_test= mytv_test.fit_transform(test_data) \n",
    "\n",
    "mnb = MultinomialNB(alpha = 0.009)\n",
    "mnb.fit(X_train, train_labels)\n",
    "print(mnb.score(X_train, train_labels))"
   ]
  },
  {
   "cell_type": "code",
   "execution_count": 70,
   "metadata": {
    "_active": false,
    "_cell_guid": "2e359de4-ce84-0166-ed95-0254514c0031",
    "collapsed": false
   },
   "outputs": [
    {
     "name": "stdout",
     "output_type": "stream",
     "text": [
      "[u'high' u'low' u'medium']\n",
      "[[  1.60099714e-01   3.41130106e-01   4.98770180e-01]\n",
      " [  6.10717785e-02   6.98645956e-01   2.40282266e-01]\n",
      " [  2.42391744e-02   6.35857398e-01   3.39903428e-01]\n",
      " ..., \n",
      " [  2.13109434e-02   7.83457223e-01   1.95231833e-01]\n",
      " [  1.05865747e-01   6.23553063e-01   2.70581190e-01]\n",
      " [  6.22065182e-04   8.86063021e-01   1.13314914e-01]]\n",
      "[7142618 7210040 7103890 ..., 6882352 6884758 6924212]\n",
      "7142618\n",
      "[u'high', u'low', u'medium']\n",
      "[u'high', u'medium', u'low']\n",
      "                high    medium       low\n",
      "listing_id                              \n",
      "7142618     0.160100  0.498770  0.341130\n",
      "7210040     0.061072  0.240282  0.698646\n",
      "7103890     0.024239  0.339903  0.635857\n",
      "7143442     0.016602  0.077800  0.905598\n",
      "6860601     0.021977  0.277620  0.700403\n",
      "6840081     0.012090  0.040225  0.947685\n",
      "6922337     0.051292  0.261592  0.687115\n",
      "6913616     0.124326  0.244808  0.630866\n",
      "6937820     0.099575  0.281191  0.619234\n",
      "6893933     0.160779  0.029315  0.809905\n",
      "6832604     0.077788  0.227529  0.694683\n",
      "6915282     0.000798  0.008936  0.990266\n",
      "7127565     0.026215  0.158414  0.815371\n",
      "6827899     0.122373  0.283328  0.594299\n",
      "6934855     0.151030  0.229064  0.619906\n",
      "6861826     0.040053  0.117726  0.842221\n",
      "6871643     0.008928  0.013434  0.977637\n",
      "6842542     0.042560  0.174537  0.782903\n",
      "6934145     0.015411  0.196881  0.787707\n",
      "6829365     0.061376  0.457119  0.481505\n",
      "7167858     0.026984  0.464605  0.508411\n",
      "6859483     0.000309  0.004099  0.995593\n",
      "6861377     0.014399  0.023535  0.962066\n",
      "6848960     0.092029  0.455058  0.452912\n",
      "6918850     0.046703  0.189213  0.764084\n",
      "6916867     0.102119  0.209664  0.688217\n",
      "6895840     0.025646  0.263997  0.710357\n",
      "6813539     0.028781  0.135717  0.835502\n",
      "7116900     0.376669  0.406898  0.216433\n",
      "6890328     0.000124  0.000396  0.999481\n",
      "...              ...       ...       ...\n",
      "6855560     0.000038  0.347877  0.652085\n",
      "6816731     0.112470  0.435022  0.452508\n",
      "6925764     0.003561  0.136442  0.859996\n",
      "7139280     0.000215  0.000117  0.999668\n",
      "6913068     0.059358  0.446255  0.494387\n",
      "6828445     0.067010  0.223581  0.709409\n",
      "6867865     0.058960  0.324028  0.617012\n",
      "6820397     0.014987  0.032100  0.952913\n",
      "6852197     0.077273  0.177844  0.744883\n",
      "7122934     0.020008  0.245652  0.734339\n",
      "6907838     0.001165  0.009642  0.989193\n",
      "6865896     0.077788  0.227529  0.694683\n",
      "6840250     0.007152  0.244498  0.748350\n",
      "6926011     0.021157  0.077458  0.901386\n",
      "6893100     0.037110  0.094820  0.868070\n",
      "6867538     0.061537  0.209765  0.728698\n",
      "6884360     0.009134  0.326235  0.664630\n",
      "6903964     0.105704  0.239245  0.655052\n",
      "6907851     0.002587  0.274913  0.722500\n",
      "7211166     0.020233  0.287445  0.692322\n",
      "6844290     0.291613  0.239100  0.469287\n",
      "6947597     0.143492  0.433420  0.423088\n",
      "6895423     0.007258  0.176989  0.815753\n",
      "6812077     0.119552  0.332413  0.548035\n",
      "6903956     0.049307  0.442413  0.508280\n",
      "6881005     0.021224  0.873427  0.105349\n",
      "6835379     0.077788  0.227529  0.694683\n",
      "6882352     0.021311  0.195232  0.783457\n",
      "6884758     0.105866  0.270581  0.623553\n",
      "6924212     0.000622  0.113315  0.886063\n",
      "\n",
      "[74659 rows x 3 columns]\n"
     ]
    }
   ],
   "source": [
    "labels = mnb.classes_\n",
    "print(labels)\n",
    "predictions = mnb.predict_proba(X_test)\n",
    "print(predictions)\n",
    "indexes = listing_ids\n",
    "print(indexes)\n",
    "\n",
    "\n",
    "print(indexes[0])\n",
    "my_df = pd.DataFrame(data=predictions, index=indexes, columns=labels)  \n",
    "my_df.index.names = ['listing_id']\n",
    "\n",
    "\n",
    "cols = my_df.columns.tolist()\n",
    "print(cols)\n",
    "cols = [cols[0], cols[2], cols[1]]\n",
    "print(cols)\n",
    "\n",
    "print(my_df[cols])"
   ]
  },
  {
   "cell_type": "code",
   "execution_count": 71,
   "metadata": {
    "_active": false,
    "_cell_guid": "ed567daf-a737-8c8e-4346-84a82cb43bd5",
    "collapsed": false
   },
   "outputs": [],
   "source": [
    "my_df[cols].to_csv(\"sumbmission001.csv\", index=True)"
   ]
  },
  {
   "cell_type": "code",
   "execution_count": null,
   "metadata": {
    "_active": true,
    "_cell_guid": "305f5c90-23ec-9aa0-5e8c-f1fa1295b0e5",
    "collapsed": true
   },
   "outputs": [],
   "source": []
  }
 ],
 "metadata": {
  "anaconda-cloud": {},
  "kernelspec": {
   "display_name": "Python [conda root]",
   "language": "python",
   "name": "conda-root-py"
  },
  "language_info": {
   "codemirror_mode": {
    "name": "ipython",
    "version": 2
   },
   "file_extension": ".py",
   "mimetype": "text/x-python",
   "name": "python",
   "nbconvert_exporter": "python",
   "pygments_lexer": "ipython2",
   "version": "2.7.12"
  }
 },
 "nbformat": 4,
 "nbformat_minor": 0
}
